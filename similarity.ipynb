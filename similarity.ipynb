{
 "cells": [
  {
   "cell_type": "code",
   "execution_count": null,
   "id": "e1d2e0d4-3f7a-4ad2-aec0-8bba6171bac3",
   "metadata": {},
   "outputs": [],
   "source": [
    "!pip install transformers\n",
    "!pip install torchvision"
   ]
  },
  {
   "cell_type": "code",
   "execution_count": 20,
   "id": "6a2dbbfb-ff81-4f43-99de-ba51a3f66af8",
   "metadata": {},
   "outputs": [],
   "source": [
    "from transformers import AutoTokenizer, AutoModel, AutoConfig\n",
    "from torch.utils import checkpoint\n",
    "import torch\n",
    "\n",
    "device = torch.device('cuda' if torch.cuda.is_available() else 'cpu')\n",
    "\n",
    "class HumanPrediction:\n",
    "    def __init__(self, model_path):\n",
    "        self.tokenizer = AutoTokenizer.from_pretrained(\n",
    "            \"bert-base-uncased\",\n",
    "            do_lower_case=True\n",
    "        )\n",
    "        self.model = torch.load(model_path)\n",
    "\n",
    "    def predict(self, text):\n",
    "        encoded = self.tokenizer.encode_plus(\n",
    "            text,\n",
    "            None,\n",
    "            add_special_tokens=False,\n",
    "            max_length=512,\n",
    "            padding=\"max_length\",\n",
    "            return_token_type_ids=True,\n",
    "            truncation=True\n",
    "        )\n",
    "        ids = torch.LongTensor([encoded['input_ids']])\n",
    "        mask = torch.LongTensor([encoded['attention_mask']])\n",
    "        return float(self.model(ids.to(device), mask.to(device))[0].cpu().detach().numpy())"
   ]
  },
  {
   "cell_type": "code",
   "execution_count": 27,
   "id": "c10abd50-b388-4348-a581-3253d8941d39",
   "metadata": {},
   "outputs": [],
   "source": [
    "class CustomModel(torch.nn.Module):\n",
    "    def __init__(self):\n",
    "        super(CustomModel, self).__init__()\n",
    "        self.distill_bert = AutoModel.from_pretrained(\n",
    "            \"bert-base-uncased\"\n",
    "        )\n",
    "        \n",
    "        self.top1 = torch.nn.Linear(768, 64)\n",
    "        self.top2 = torch.nn.Linear(64, 1)  # classify the data into N laws described in the training dataset\n",
    "\n",
    "        self.dropout1 = torch.nn.Dropout(p=0.3)\n",
    "        self.sigm = torch.nn.Sigmoid()\n",
    "\n",
    "    def forward(self, ids, mask):\n",
    "        x = self.distill_bert(ids, mask)[0][:, 0, :]\n",
    "        # select the first token only as it is trained for classifier\n",
    "        x = torch.nn.functional.relu(self.top1(x))\n",
    "        x = self.dropout1(x)\n",
    "        x = self.top2(x)\n",
    "        return self.sigm(x)"
   ]
  },
  {
   "cell_type": "code",
   "execution_count": 28,
   "id": "ba89eb52-5ded-4c6b-aafc-719bac8ea700",
   "metadata": {},
   "outputs": [],
   "source": [
    "model = HumanPrediction('/home/jupyter/makethon/TUM-Makeathon-22/model_human.bin')"
   ]
  },
  {
   "cell_type": "code",
   "execution_count": 29,
   "id": "8e84de9d-b114-412c-bd5a-71b52a1b5335",
   "metadata": {},
   "outputs": [
    {
     "data": {
      "text/plain": [
       "0.1841166913509369"
      ]
     },
     "execution_count": 29,
     "metadata": {},
     "output_type": "execute_result"
    }
   ],
   "source": [
    "model.predict(\"\"\"The AI-based monitoring of transactions in real time can support financial institutions in combating money laundering and payment providers: in the inside in the detection of fraud. Real-time payments generated data are fed into the AI ​​system, which then identifies suspicious transactions, the processing of which stops and the transaction for further review by human compliance officer is marked. The fraud detection system is based on AI algorithms that identify patterns and identify connections within the data, which are then clustered and classified. Over time, the system is getting used to the data and the accuracy of the detection increases.\"\"\")"
   ]
  },
  {
   "cell_type": "code",
   "execution_count": null,
   "id": "de47f8fb-43c1-4ed4-9478-a14b58d50158",
   "metadata": {},
   "outputs": [],
   "source": []
  }
 ],
 "metadata": {
  "environment": {
   "kernel": "python3",
   "name": "tf2-gpu.2-8.m96",
   "type": "gcloud",
   "uri": "gcr.io/deeplearning-platform-release/tf2-gpu.2-8:m96"
  },
  "kernelspec": {
   "display_name": "Python 3 (ipykernel)",
   "language": "python",
   "name": "python3"
  },
  "language_info": {
   "codemirror_mode": {
    "name": "ipython",
    "version": 3
   },
   "file_extension": ".py",
   "mimetype": "text/x-python",
   "name": "python",
   "nbconvert_exporter": "python",
   "pygments_lexer": "ipython3",
   "version": "3.7.12"
  }
 },
 "nbformat": 4,
 "nbformat_minor": 5
}
