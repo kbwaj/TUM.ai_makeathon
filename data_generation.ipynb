{
 "cells": [
  {
   "cell_type": "code",
   "execution_count": 12,
   "id": "fe171314-635c-415c-a83d-44c42b0aad87",
   "metadata": {},
   "outputs": [],
   "source": [
    "import openai\n",
    "from openai import Completion\n",
    "openai.api_key = "
   ]
  },
  {
   "cell_type": "code",
   "execution_count": 15,
   "id": "a14c87ed-fef6-49cc-9e06-e76eb5e7d20d",
   "metadata": {},
   "outputs": [],
   "source": [
    "import pandas as pd\n",
    "import numpy as np\n",
    "import scipy\n",
    "from importlib import reload"
   ]
  },
  {
   "cell_type": "code",
   "execution_count": 16,
   "id": "8e4d2d16-82a8-4a7d-b10f-f3503f2d8b75",
   "metadata": {},
   "outputs": [],
   "source": [
    "df = pd.read_excel(\n",
    "    \"appliedAI_Use Case Library - Risk Class_TUM.ai.xlsx\"\n",
    ")\n",
    "df['risk'] = (\n",
    "    df['Is the AI System high-risk or low risk?'].replace(\n",
    "        {\n",
    "            'low-risk' : 0,\n",
    "            'high-risk': 1,\n",
    "            'It is unclear': None\n",
    "        }\n",
    "    )\n",
    ")\n",
    "df = df.dropna(subset=['risk'])"
   ]
  },
  {
   "cell_type": "markdown",
   "id": "639d32d6-1b76-4571-9b9a-fe5cb6edbb42",
   "metadata": {},
   "source": [
    "# Generate high risk data"
   ]
  },
  {
   "cell_type": "code",
   "execution_count": 22,
   "id": "cda5d920-9728-48d8-802a-1ce2e431cdfe",
   "metadata": {},
   "outputs": [],
   "source": [
    "generate_data_for = df[df['risk']==1].drop_duplicates(subset=['Description'])"
   ]
  },
  {
   "cell_type": "code",
   "execution_count": 27,
   "id": "cf8bd6b3-c79c-4137-b1d5-230a60a6a1a8",
   "metadata": {},
   "outputs": [],
   "source": [
    "high_risk_data = []"
   ]
  },
  {
   "cell_type": "code",
   "execution_count": 40,
   "id": "a9c62b40-8c1f-452e-8f1e-063c5e68b75a",
   "metadata": {},
   "outputs": [],
   "source": [
    "from tqdm.auto import tqdm"
   ]
  },
  {
   "cell_type": "code",
   "execution_count": null,
   "id": "beeb2a76-50de-49b7-8525-8363e0c2ea3b",
   "metadata": {},
   "outputs": [],
   "source": [
    "high_risk_data = []"
   ]
  },
  {
   "cell_type": "code",
   "execution_count": 47,
   "id": "8347bd9f-2bb3-4d08-8411-59ad39c0f4fa",
   "metadata": {},
   "outputs": [
    {
     "data": {
      "text/html": [
       "<div>\n",
       "<style scoped>\n",
       "    .dataframe tbody tr th:only-of-type {\n",
       "        vertical-align: middle;\n",
       "    }\n",
       "\n",
       "    .dataframe tbody tr th {\n",
       "        vertical-align: top;\n",
       "    }\n",
       "\n",
       "    .dataframe thead th {\n",
       "        text-align: right;\n",
       "    }\n",
       "</style>\n",
       "<table border=\"1\" class=\"dataframe\">\n",
       "  <thead>\n",
       "    <tr style=\"text-align: right;\">\n",
       "      <th></th>\n",
       "      <th>Description</th>\n",
       "      <th>Business Challenge</th>\n",
       "      <th>AI System</th>\n",
       "    </tr>\n",
       "  </thead>\n",
       "  <tbody>\n",
       "    <tr>\n",
       "      <th>1</th>\n",
       "      <td>During the recruitment process, not only the h...</td>\n",
       "      <td>The customer care concept is a central element...</td>\n",
       "      <td>Happycar has integrated Retorio's AI solution ...</td>\n",
       "    </tr>\n",
       "    <tr>\n",
       "      <th>2</th>\n",
       "      <td>Existing measures to increase employee loyalty...</td>\n",
       "      <td>The binding of top talents is an important asp...</td>\n",
       "      <td>IBM has developed a AI solution to predict per...</td>\n",
       "    </tr>\n",
       "    <tr>\n",
       "      <th>3</th>\n",
       "      <td>Engagement monitoring tools based on AI can ex...</td>\n",
       "      <td>The assessment of employee engagement is a cha...</td>\n",
       "      <td>The Ki solution from Keencorp continuously ana...</td>\n",
       "    </tr>\n",
       "    <tr>\n",
       "      <th>4</th>\n",
       "      <td>The most suitable candidate: finding inside is...</td>\n",
       "      <td>Poshmark, a leading e-commerce company, wanted...</td>\n",
       "      <td>Poshmark worked with a AI-based startup to str...</td>\n",
       "    </tr>\n",
       "    <tr>\n",
       "      <th>5</th>\n",
       "      <td>An important aspect of personnel marketing is ...</td>\n",
       "      <td>Domino’s pizza is a worldwide leading pizza su...</td>\n",
       "      <td>NRV worked with a AI-based platform for job ad...</td>\n",
       "    </tr>\n",
       "  </tbody>\n",
       "</table>\n",
       "</div>"
      ],
      "text/plain": [
       "                                         Description  \\\n",
       "1  During the recruitment process, not only the h...   \n",
       "2  Existing measures to increase employee loyalty...   \n",
       "3  Engagement monitoring tools based on AI can ex...   \n",
       "4  The most suitable candidate: finding inside is...   \n",
       "5  An important aspect of personnel marketing is ...   \n",
       "\n",
       "                                  Business Challenge  \\\n",
       "1  The customer care concept is a central element...   \n",
       "2  The binding of top talents is an important asp...   \n",
       "3  The assessment of employee engagement is a cha...   \n",
       "4  Poshmark, a leading e-commerce company, wanted...   \n",
       "5  Domino’s pizza is a worldwide leading pizza su...   \n",
       "\n",
       "                                           AI System  \n",
       "1  Happycar has integrated Retorio's AI solution ...  \n",
       "2  IBM has developed a AI solution to predict per...  \n",
       "3  The Ki solution from Keencorp continuously ana...  \n",
       "4  Poshmark worked with a AI-based startup to str...  \n",
       "5  NRV worked with a AI-based platform for job ad...  "
      ]
     },
     "execution_count": 47,
     "metadata": {},
     "output_type": "execute_result"
    }
   ],
   "source": [
    "generate_data_for[['Description', 'Business Challenge', 'AI System']].head()"
   ]
  },
  {
   "cell_type": "code",
   "execution_count": 41,
   "id": "2d58a280-4983-4d20-83d0-d89d506dfd35",
   "metadata": {},
   "outputs": [
    {
     "data": {
      "application/vnd.jupyter.widget-view+json": {
       "model_id": "6b304f8e87b244f8a6cea1eb50a639c6",
       "version_major": 2,
       "version_minor": 0
      },
      "text/plain": [
       "  0%|          | 0/13 [00:00<?, ?it/s]"
      ]
     },
     "metadata": {},
     "output_type": "display_data"
    }
   ],
   "source": [
    "for descriptions in tqdm(generate_data_for[['Description', 'Business Challenge', 'AI System']].values):\n",
    "    data = []\n",
    "    for desc in descriptions:\n",
    "        prompt = f\"Generate text similar to this:\\n{desc}\"\n",
    "        response = openai.Completion.create(\n",
    "          engine=\"text-davinci-002\",\n",
    "          prompt=desc,\n",
    "          temperature=1,\n",
    "          max_tokens=256,\n",
    "          top_p=1.0,\n",
    "          frequency_penalty=0.6,\n",
    "          presence_penalty=0.6\n",
    "        )\n",
    "        data.append(response['choices'][0]['text'])\n",
    "    high_risk_data.append(data)"
   ]
  },
  {
   "cell_type": "code",
   "execution_count": 44,
   "id": "897059d8-7d68-408d-958f-403997b29770",
   "metadata": {},
   "outputs": [],
   "source": [
    "pd.DataFrame(high_risk_data, columns=['Description', 'Business Challenge', 'AI System']).to_csv(\"additional_data.csv\", index=False)"
   ]
  },
  {
   "cell_type": "markdown",
   "id": "48b8b52c-512c-4550-bfdd-7614246188dd",
   "metadata": {},
   "source": [
    "# Generate data on missing regulations in the dataset."
   ]
  },
  {
   "cell_type": "code",
   "execution_count": 169,
   "id": "dd7fa104-3bb4-4b79-aaca-67e87d860595",
   "metadata": {},
   "outputs": [],
   "source": [
    "import re"
   ]
  },
  {
   "cell_type": "code",
   "execution_count": 208,
   "id": "de1e0d3d-2195-4ba6-8af5-5965b18af8b7",
   "metadata": {},
   "outputs": [],
   "source": [
    "missing_points = [\n",
    "    \"biometric identification\",\n",
    "    \"categorisation of people\",\n",
    "    \"management of critical infrastructure\",\n",
    "    \"operation of critical infrastructure\",\n",
    "    \"education test evaluation\",\n",
    "    \"vocational test evaluation\",\n",
    "    \"worker evaluation\",\n",
    "    \"work evaluation\"\n",
    "    \"workers management\",\n",
    "    \"work management\",\n",
    "    \"human resources services\",\n",
    "    \"access to self-employment\",\n",
    "    \"manage access to venues\",\n",
    "    \"manage access from the government\",\n",
    "    \"manage access to public goods\",\n",
    "    \"credit scoring\",\n",
    "    \"police suspects\",\n",
    "    \"help with migration legal process\",\n",
    "    \"help with asylum legal process\",\n",
    "    \"border control management\",\n",
    "    \"legal documents generation\",\n",
    "    \"counting votes\",\n",
    "    \"counting ballets\",\n",
    "    \"decision process in law facilities\",\n",
    "    \"democratic processes\"\n",
    "]"
   ]
  },
  {
   "cell_type": "code",
   "execution_count": 212,
   "id": "c64448e9-b66d-4e62-923b-8be01b2ea196",
   "metadata": {},
   "outputs": [],
   "source": [
    "IDEA_PROMPT = \"generate 10 startup ideas which use ai for\"\n",
    "DESCRIPTION_PROMPT = ['describe the startup about', 'In 4 or more sentences. What data will it use? What is the process of using the app? Who is expected to use it? What conditions apply?']\n",
    "ENDLINERS = '|'.join([f'\\n\\n?{x}' for x in range(1, 11)])"
   ]
  },
  {
   "cell_type": "code",
   "execution_count": 240,
   "id": "16524f13-ab46-4cf4-8725-eebc9ea0c54f",
   "metadata": {},
   "outputs": [],
   "source": [
    "startups_descriptions = []\n",
    "collection_of_ideas = {}"
   ]
  },
  {
   "cell_type": "code",
   "execution_count": 241,
   "id": "28efc875-4615-44e0-8dc2-62a5107d24ed",
   "metadata": {
    "tags": []
   },
   "outputs": [
    {
     "data": {
      "application/vnd.jupyter.widget-view+json": {
       "model_id": "f142941cca1741159fe0832119c37cca",
       "version_major": 2,
       "version_minor": 0
      },
      "text/plain": [
       "  0%|          | 0/24 [00:00<?, ?it/s]"
      ]
     },
     "metadata": {},
     "output_type": "display_data"
    }
   ],
   "source": [
    "for missed_point in tqdm(missing_points[:]):\n",
    "    response = openai.Completion.create(\n",
    "          engine=\"text-davinci-002\",\n",
    "          prompt=IDEA_PROMPT+' '+missed_point,\n",
    "          temperature=1,\n",
    "          max_tokens=256,\n",
    "          top_p=1.0,\n",
    "          frequency_penalty=0.7,\n",
    "          presence_penalty=0.7\n",
    "        )\n",
    "    response_text = response['choices'][0]['text']\n",
    "    collection_of_ideas[missed_point] = [x for x in re.split(ENDLINERS, response_text) if x.strip()]"
   ]
  },
  {
   "cell_type": "code",
   "execution_count": 242,
   "id": "4e9e0167-6c1d-4f53-9c42-b79a91411dc4",
   "metadata": {
    "tags": []
   },
   "outputs": [
    {
     "data": {
      "application/vnd.jupyter.widget-view+json": {
       "model_id": "da433d42b26d48d29533b57eb943c31c",
       "version_major": 2,
       "version_minor": 0
      },
      "text/plain": [
       "  0%|          | 0/24 [00:00<?, ?it/s]"
      ]
     },
     "metadata": {},
     "output_type": "display_data"
    }
   ],
   "source": [
    "descriptions_list = []\n",
    "for i, (point, ideas) in enumerate(tqdm(collection_of_ideas.items())):\n",
    "    for idea in ideas:\n",
    "        response = openai.Completion.create(\n",
    "              engine=\"text-davinci-002\",\n",
    "              prompt=f\"{DESCRIPTION_PROMPT[0]} {idea} {DESCRIPTION_PROMPT[1]}\",\n",
    "              temperature=1,\n",
    "              max_tokens=256,\n",
    "              top_p=1.0,\n",
    "              frequency_penalty=0.6,\n",
    "              presence_penalty=0.6\n",
    "            )\n",
    "        response_text = response['choices'][0]['text']\n",
    "        descriptions_list.append(response_text)"
   ]
  },
  {
   "cell_type": "code",
   "execution_count": 243,
   "id": "dd034f38-f2af-4786-87a4-6f1db9e4b51b",
   "metadata": {},
   "outputs": [],
   "source": [
    "ideas_flattened = [j for sub in collection_of_ideas.values() for j in sub]"
   ]
  },
  {
   "cell_type": "code",
   "execution_count": 244,
   "id": "fe6d4c1e-7460-482f-b8e6-cc7b40ccfe11",
   "metadata": {},
   "outputs": [],
   "source": [
    "assert len(descriptions_list) == len(ideas_flattened)"
   ]
  },
  {
   "cell_type": "code",
   "execution_count": 245,
   "id": "8367741a-2a6f-408a-a81c-398258332b99",
   "metadata": {},
   "outputs": [],
   "source": [
    "tags = [j for sub in [[key]*len(value) for key, value in collection_of_ideas.items()] for j in sub]"
   ]
  },
  {
   "cell_type": "code",
   "execution_count": 246,
   "id": "654ba405-cd0d-49c8-9c44-0d32fee416a2",
   "metadata": {},
   "outputs": [],
   "source": [
    "pd.set_option('display.max_colwidth', 0)"
   ]
  },
  {
   "cell_type": "raw",
   "id": "d95f63a7-5ae8-40b1-bffc-d339bf250dbd",
   "metadata": {},
   "source": [
    "pd.DataFrame(\n",
    "    list(zip(ideas_flattened, descriptions_list, tags)),\n",
    "    columns=['idea', 'description', 'tags']\n",
    ")#.to_csv(\"generated_ideas.csv\", index=False)"
   ]
  },
  {
   "cell_type": "code",
   "execution_count": 247,
   "id": "38173a28-fc4b-4f36-b5f6-b184a738c0b7",
   "metadata": {},
   "outputs": [],
   "source": [
    "new_data = pd.DataFrame(\n",
    "    list(zip(ideas_flattened, descriptions_list, tags)),\n",
    "    columns=['idea', 'description', 'tags']\n",
    ")"
   ]
  },
  {
   "cell_type": "raw",
   "id": "b7f73d32-dcc2-46c8-ab3a-b4c5313d95ec",
   "metadata": {},
   "source": [
    "current_df = pd.DataFrame(\n",
    "    list(zip(ideas_flattened, descriptions_list, tags)),\n",
    "    columns=['idea', 'description', 'tags']\n",
    ")"
   ]
  },
  {
   "cell_type": "raw",
   "id": "852f9401-7a15-4c2c-9c88-1a670ce02aa6",
   "metadata": {},
   "source": [
    "pd.read_csv(\"generated_ideas.csv\")"
   ]
  },
  {
   "cell_type": "code",
   "execution_count": 249,
   "id": "0d2bbc9b-8ea1-4f37-a3db-dfee1e8d5ec6",
   "metadata": {},
   "outputs": [],
   "source": [
    "pd.concat([new_data, pd.read_csv(\"generated_ideas.csv\")], axis=0).to_csv(\"generated_ideas.csv\", index=False)"
   ]
  },
  {
   "cell_type": "code",
   "execution_count": null,
   "id": "872cf2be-b307-46eb-9f23-58bd8d1ea75a",
   "metadata": {},
   "outputs": [],
   "source": []
  }
 ],
 "metadata": {
  "kernelspec": {
   "display_name": "Python 3 (ipykernel)",
   "language": "python",
   "name": "python3"
  },
  "language_info": {
   "codemirror_mode": {
    "name": "ipython",
    "version": 3
   },
   "file_extension": ".py",
   "mimetype": "text/x-python",
   "name": "python",
   "nbconvert_exporter": "python",
   "pygments_lexer": "ipython3",
   "version": "3.10.4"
  },
  "widgets": {
   "application/vnd.jupyter.widget-state+json": {
    "state": {},
    "version_major": 2,
    "version_minor": 0
   }
  }
 },
 "nbformat": 4,
 "nbformat_minor": 5
}
