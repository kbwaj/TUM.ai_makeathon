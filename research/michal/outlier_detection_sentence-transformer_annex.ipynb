{
 "cells": [
  {
   "cell_type": "code",
   "execution_count": 363,
   "metadata": {},
   "outputs": [],
   "source": [
    "import pandas as pd\n",
    "import re\n",
    "\n",
    "df = pd.read_excel(\"data/appliedAI_Use Case Library - Risk Class_TUM.ai.xlsx\", index_col=None, header=2)\n",
    "df_gen = pd.read_csv(\"data/generated_ideas (2).csv\")\n",
    "\n",
    "with open(\"data/AI_Act_Annex_III_+_Amendments_of_April_2022_for_Use_Case_Library.txt\") as f:\n",
    "    annex_file = f.read()\n",
    "   \n",
    "with open(\"data/untitled.txt\") as f:\n",
    "    annex_file = f.read()\n",
    "\n",
    "with open(\"data/gpt_me.txt\") as f:\n",
    "    moritz_file = f.read()"
   ]
  },
  {
   "cell_type": "code",
   "execution_count": 364,
   "metadata": {},
   "outputs": [
    {
     "data": {
      "text/plain": [
       "['Common challenges for production teams are an increase in product variations, shorter cycle times, high quality standards, hard competition and a general cost pressure. In this context, AI can help increase productivity and to free employees: to free the inside of recurring tasks. The integration of AI systems in the production control and monitoring enables the constant analysis of data from the shoplors, which the system then uses to make intelligent adjustments to the function parameters of the physical resources. The aim is to automatically control these physical resources and optimize your parameters with regard to working conditions.',\n",
       " '\\nThe AI is used to navigate airplanes when approaching airports. This shall\\nprevent aircrafts from crashing without human supervision. The AI takes into\\naccount the characteristics of the airplane, weather data as well as the\\nlocation of all planes nearby. This AI can be used by airports who want to\\nincrease security in the air.',\n",
       " 'The AI is used to evaluate the performance of test takers in a language test.\\nThis language test is a prerequisite for students who want to study abroad or\\npeople who want to prove their language knowledge to possible foreign\\nemployers. The AI is able to score the spoken word more effectively than\\nhumans because of the ability to evaluate more data that can go unnoticed for\\nhumans. This technology would be used by testing facilities who want to\\nimprove their scoring mechanisms.',\n",
       " 'Choosing the right employee can be hard for companies when replacing a\\nleaving worker. In order to pick the right candidate an AI is used here to\\nchoose an applicant which is most similar to the current successful one. AIs\\ncan take into account more data than human hiring managers can. This would\\nbe used by companies which want to improve their hiring position when\\nreplacing leaving workers.',\n",
       " 'The government offers services to people in critical financial situations. These\\nresources are sometimes exploited by persons who are not really in need. In\\norder to find out if people are actually in need for support an AI could be used\\nthat uses geological data of applicants as well as purchasing data. The\\nresulting score could be used to prevent lying help seekers from abusing\\nthese services.',\n",
       " 'In most cases the police is not present when a crime happens. This allows\\nperpetrators to commit a crime and still flee. In order to prevent police from\\nbeing too late an AI can be used to predict locations of future crimes. The\\npolice can then monitor these places to prevent eventual crime and stop\\nlawbreakers from escaping. This technology would be used by the police.',\n",
       " 'Many people seek asylum in European states. Because of the law of the\\ncountry, they seek asylum in, not everybody is accepted. An AI can score\\nasylum seekers with more data points then humans can and therefore only\\naccept the most promising applicants who are predicted to integrate well. This\\ntechnology could be used by the government.',\n",
       " 'Many countries are lacking judges currently. This leads to long waiting times\\nin court while cases are steadily increasing. Law enforcement therefore\\nbecomes less effective and small crimes are not punished because of this\\nresource shortage. AI can be used here to replace the judge for minor crimes.\\nThis technology would be used by courts which want to deal with the shortage\\nof judges.',\n",
       " 'During holiday times in the summer the amount of interesting news declines.\\nThis is a threat to the sales numbers of publications. In order to deal with the\\nlack of events that actually happen an AI could be used to generate fictional\\nevents. The generated stories can then be published via social media and the\\npublication in order to drive traffic and sales numbers in the absence of real\\nnews. Newspaper companies would use this technology.',\n",
       " 'In Germany it can be hard to open a bank account for criminals. In order to combat this\\nbarrier, criminals can use AI to change their appearance as well as their voice in front of a\\ncamera when remotely opening a bank account. This would allow them to participate in\\nonline banking as well as to send and receive money. People who would normally not be\\nallowed to open a bank account could use this technology.']"
      ]
     },
     "execution_count": 364,
     "metadata": {},
     "output_type": "execute_result"
    }
   ],
   "source": [
    "moritz_file.split(\"\\n\\n\")"
   ]
  },
  {
   "cell_type": "code",
   "execution_count": 367,
   "metadata": {},
   "outputs": [],
   "source": [
    "def parse_numbered(text):\n",
    "    mapp = dict()\n",
    "    activate= False\n",
    "    num = None\n",
    "    for txt in re.split(\"\\n([0-9])\\.\", text):\n",
    "        if txt.isdigit():\n",
    "            activate = True\n",
    "            num = int(txt)\n",
    "        elif activate:\n",
    "            mapp[num] = txt\n",
    "            activate= False\n",
    "    end = text.split(\"8a\")[1]\n",
    "    mapp[9], mapp[10] = re.split(\"\\([a-b]\\)\", end)[1:]\n",
    "    mapp[8] = mapp[8].split(\"8a\")[0]\n",
    "    mapp[10] = mapp[10].split(\"Version\")[0]\n",
    "    \n",
    "#     for key in mapp:\n",
    "        \n",
    "    return pd.DataFrame(pd.Series(mapp.values()))\n",
    "# df_annex = parse_numbered(annex_file)\n",
    "df_moritz = pd.DataFrame(pd.Series(moritz_file.split(\"\\n\\n\")))"
   ]
  },
  {
   "cell_type": "code",
   "execution_count": 368,
   "metadata": {},
   "outputs": [],
   "source": [
    "laws = annex_file.split(\"\\n\\n\")"
   ]
  },
  {
   "cell_type": "code",
   "execution_count": 369,
   "metadata": {},
   "outputs": [],
   "source": [
    "detailed = []\n",
    "for law in laws:\n",
    "    for x in law.split(\"\\n\")[1:]:\n",
    "        detailed.append(law.split(\"\\n\")[0] + x)"
   ]
  },
  {
   "cell_type": "code",
   "execution_count": 370,
   "metadata": {},
   "outputs": [],
   "source": [
    "df_annex = pd.DataFrame(pd.Series(detailed))\n"
   ]
  },
  {
   "cell_type": "code",
   "execution_count": 371,
   "metadata": {},
   "outputs": [
    {
     "name": "stdout",
     "output_type": "stream",
     "text": [
      "0\n",
      "Biometric identificationAI systems intended to be used for the ‘real-time’ and ‘post’ remote biometric identification of natural persons.\n",
      "\n",
      "1\n",
      "Categorisation of natural persons:AI systems intended to be used for the ‘real-time’ and ‘post’ remote biometric identification of natural persons.\n",
      "\n",
      "2\n",
      "Management and operation of critical infrastructure:AI systems intended to be used as safety or security components of management and operation of road traffic and the supply of water, gas, heating, electricity and internet.\n",
      "\n",
      "3\n",
      "Education and vocational training:AI systems intended to be used for the purpose of determining access or assigning natural persons to educational and vocational training institutions;\n",
      "\n",
      "4\n",
      "Education and vocational training:AI systems intended to be used for the purpose of assessing students in educational and vocational training institutions and for assessing participants in tests commonly required for admission to educational institutions, for determining learning objectives and for allocating personalised learning tasks for students.\n",
      "\n",
      "5\n",
      "Education and vocational training:AI systems intended to be used by children in ways that have a significant impact on their personal development, including through personalised education or their cognitive or emotional development.\n",
      "\n",
      "6\n",
      "Employment, workers management and access to self-employment:AI systems intended to be used for recruitment or selection of natural persons, notably for advertising vacancies, screening or filtering applications, evaluating candidates in the course of interviews or tests;\n",
      "\n",
      "7\n",
      "Employment, workers management and access to self-employment:AI intended to be used for making decisions on promotion and termination of work-related contractual relationships, for task allocation and for monitoring and evaluating performance and behavior of persons in such relationships.\n",
      "\n",
      "8\n",
      "Access to and enjoyment of essential private services and public services and benefits:AI systems intended to be used by public authorities or on behalf of public authorities to evaluate the eligibility of natural persons for public assistance benefits and services, as well as to grant, reduce, revoke, or reclaim such benefits and services;\n",
      "\n",
      "9\n",
      "Access to and enjoyment of essential private services and public services and benefits:AI systems intended to be used to evaluate the creditworthiness of natural persons or establish their credit score, with the exception of AI systems put into service by small scale providers for their own use;\n",
      "\n",
      "10\n",
      "Access to and enjoyment of essential private services and public services and benefits:AI systems intended to be used for making decisions or assisting in making decisions on the eligibility of natural persons for health and life insurance;\n",
      "\n",
      "11\n",
      "Access to and enjoyment of essential private services and public services and benefits:AI systems intended to be used to evaluate and classify emergency calls by natural persons or dispatch, or to establish priority in the dispatching of emergency first response services, including by police and law enforcement, firefighters and medical aid, as well as of emergency healthcare patient triage systems;\n",
      "\n",
      "12\n",
      "Law enforcement:AI systems intended to be used by law enforcement authorities as polygraphs and similar tools or to detect the emotional state of a natural person;\n",
      "\n",
      "13\n",
      "Law enforcement:AI systems intended to be used by law enforcement authorities to detect deep fakes;\n",
      "\n",
      "14\n",
      "Law enforcement:AI systems intended to be used by law enforcement authorities for evaluation of the reliability of evidence in the course of investigation or prosecution of criminal offences;\n",
      "\n",
      "15\n",
      "Law enforcement:AI systems intended to be used by law enforcement authorities for profiling of natural persons in the course of detection, investigation or prosecution of criminal offences;\n",
      "\n",
      "16\n",
      "Law enforcement:AI systems intended to be used for crime analytics regarding natural persons, allowing law enforcement authorities to search complex related and unrelated large data sets available in different data sources or in different data formats in order to identify unknown patterns or discover hidden relationships in the data.\n",
      "\n",
      "17\n",
      "Migration, asylum and border control management:AI systems intended to be used by competent public authorities as polygraphs and similar tools or to detect the emotional state of a natural person;\n",
      "\n",
      "18\n",
      "Migration, asylum and border control management:AI systems intended to be used by competent public authorities to assess a risk, including a security risk, a risk of irregular immigration, or a health risk, posed by a natural person who intends to enter or has entered into the territory of a Member State;\n",
      "\n",
      "19\n",
      "AI systems intended to be used by competent public authorities for the verification of the authenticity of travel documents and supporting documentation of natural persons and detect non-authentic documents by checking their security features;AI systems intended to assist competent public authorities for the examination of applications for asylum, visa and residence permits and associated complaints with regard to the eligibility of the natural persons applying for a status.\n",
      "\n",
      "20\n",
      "Administration of justice and democratic processes:AI systems intended to assist a judicial authority in researching and interpreting facts and the law and in applying the law to a concrete set of facts.\n",
      "\n",
      "21\n",
      "Administration of justice and democratic processes:AI systems intended to be used by political parties, political candidates, public authorities, or on their behalf for influencing natural persons in the exercise of their vote in local, national, or European Parliament elections;\n",
      "\n",
      "22\n",
      "Administration of justice and democratic processes:AI systems intended to process or count voting ballots for local, national or European Parliament elections;\n",
      "\n"
     ]
    }
   ],
   "source": [
    "for i, row in df_annex.iterrows():\n",
    "    print(i)\n",
    "    print(row.item())\n",
    "    print()"
   ]
  },
  {
   "cell_type": "code",
   "execution_count": 315,
   "metadata": {},
   "outputs": [
    {
     "name": "stdout",
     "output_type": "stream",
     "text": [
      "huggingface/tokenizers: The current process just got forked, after parallelism has already been used. Disabling parallelism to avoid deadlocks...\n",
      "To disable this warning, you can either:\n",
      "\t- Avoid using `tokenizers` before the fork if possible\n",
      "\t- Explicitly set the environment variable TOKENIZERS_PARALLELISM=(true | false)\n",
      "/auto/brno2/home/xstary1/brno6/tumai-makeathon22\n"
     ]
    }
   ],
   "source": [
    "!pwd"
   ]
  },
  {
   "cell_type": "code",
   "execution_count": 316,
   "metadata": {},
   "outputs": [],
   "source": [
    "df[\"risk\"] = df[\"Is the AI System high-risk or low risk?\"]\n",
    "df[\"name\"]  = df[\"Use case name EN\"]\n",
    "df[\"desc\"] = df[\"Description\"]\n",
    "df[\"bus_ch\"] = df[\"Business Challenge\"] \n",
    "df[\"system\"] = df[\"AI System\"]\n",
    "\n",
    "df = df.fillna(\"\")\n"
   ]
  },
  {
   "cell_type": "code",
   "execution_count": 317,
   "metadata": {},
   "outputs": [],
   "source": [
    "df_gen[\"description\"] = df_gen[\"description\"].apply(lambda x: x.strip())"
   ]
  },
  {
   "cell_type": "code",
   "execution_count": 318,
   "metadata": {},
   "outputs": [
    {
     "data": {
      "text/plain": [
       "array(['biometric identification', 'categorisation of people',\n",
       "       'management of critical infrastructure',\n",
       "       'operation of critical infrastructure',\n",
       "       'education test evaluation', 'vocational test evaluation',\n",
       "       'worker evaluation', 'work evaluationworkers management',\n",
       "       'work management', 'human resources services',\n",
       "       'access to self-employment', 'manage access to venues',\n",
       "       'manage access from the government',\n",
       "       'manage access to public goods', 'credit scoring',\n",
       "       'police suspects', 'help with migration legal process',\n",
       "       'help with asylum legal process', 'border control management',\n",
       "       'legal documents generation', 'counting votes', 'counting ballets',\n",
       "       'decision process in law facilities', 'democratic processes'],\n",
       "      dtype=object)"
      ]
     },
     "execution_count": 318,
     "metadata": {},
     "output_type": "execute_result"
    }
   ],
   "source": [
    "df_gen[\"tags\"].unique()"
   ]
  },
  {
   "cell_type": "code",
   "execution_count": 319,
   "metadata": {},
   "outputs": [
    {
     "data": {
      "text/plain": [
       "115"
      ]
     },
     "execution_count": 319,
     "metadata": {},
     "output_type": "execute_result"
    }
   ],
   "source": [
    "df = df[df[\"risk\"] != \"It is unclear\"]\n",
    "len(df)"
   ]
  },
  {
   "cell_type": "code",
   "execution_count": 320,
   "metadata": {},
   "outputs": [
    {
     "data": {
      "text/html": [
       "<div>\n",
       "<style scoped>\n",
       "    .dataframe tbody tr th:only-of-type {\n",
       "        vertical-align: middle;\n",
       "    }\n",
       "\n",
       "    .dataframe tbody tr th {\n",
       "        vertical-align: top;\n",
       "    }\n",
       "\n",
       "    .dataframe thead th {\n",
       "        text-align: right;\n",
       "    }\n",
       "</style>\n",
       "<table border=\"1\" class=\"dataframe\">\n",
       "  <thead>\n",
       "    <tr style=\"text-align: right;\">\n",
       "      <th></th>\n",
       "      <th>Use Case ID</th>\n",
       "      <th>Use Case Name</th>\n",
       "      <th>Use case name EN</th>\n",
       "      <th>Beschreibung</th>\n",
       "      <th>Description</th>\n",
       "      <th>Geschäftsproblem</th>\n",
       "      <th>Business Challenge</th>\n",
       "      <th>KI Lösung</th>\n",
       "      <th>AI System</th>\n",
       "      <th>Links</th>\n",
       "      <th>...</th>\n",
       "      <th>Unnamed: 30</th>\n",
       "      <th>Unnamed: 31</th>\n",
       "      <th>Unnamed: 32</th>\n",
       "      <th>Unnamed: 33</th>\n",
       "      <th>Unnamed: 34</th>\n",
       "      <th>risk</th>\n",
       "      <th>name</th>\n",
       "      <th>desc</th>\n",
       "      <th>bus_ch</th>\n",
       "      <th>system</th>\n",
       "    </tr>\n",
       "  </thead>\n",
       "  <tbody>\n",
       "    <tr>\n",
       "      <th>0</th>\n",
       "      <td>1</td>\n",
       "      <td>Optimierte Stellenangebote</td>\n",
       "      <td>Optimised job offers</td>\n",
       "      <td>Ein zentrales Thema im Einstellungsprozess ist...</td>\n",
       "      <td>A central topic in the setting process is to w...</td>\n",
       "      <td>Viele Unternehmen tun sich schwer, die richtig...</td>\n",
       "      <td>Many companies find it difficult to win the ri...</td>\n",
       "      <td>Zur Analyse und Optimierung seines Recruiting-...</td>\n",
       "      <td>To analyze and optimize its recruiting materia...</td>\n",
       "      <td>https://www.foundationsofai.com/\\n https://tex...</td>\n",
       "      <td>...</td>\n",
       "      <td></td>\n",
       "      <td></td>\n",
       "      <td></td>\n",
       "      <td></td>\n",
       "      <td></td>\n",
       "      <td>low-risk</td>\n",
       "      <td>Optimised job offers</td>\n",
       "      <td>A central topic in the setting process is to w...</td>\n",
       "      <td>Many companies find it difficult to win the ri...</td>\n",
       "      <td>To analyze and optimize its recruiting materia...</td>\n",
       "    </tr>\n",
       "    <tr>\n",
       "      <th>1</th>\n",
       "      <td>2</td>\n",
       "      <td>Analyse eines Videointerviews</td>\n",
       "      <td>Analysis of a video interview</td>\n",
       "      <td>Während des Rekrutierungsprozesses werden nich...</td>\n",
       "      <td>During the recruitment process, not only the h...</td>\n",
       "      <td>Das Kundenbetreuungskonzept ist ein zentrales ...</td>\n",
       "      <td>The customer care concept is a central element...</td>\n",
       "      <td>HAPPYCAR hat die KI-Lösung von Retorio zur Ana...</td>\n",
       "      <td>Happycar has integrated Retorio's AI solution ...</td>\n",
       "      <td>https://www.foundationsofai.com/\\n https://f.h...</td>\n",
       "      <td>...</td>\n",
       "      <td></td>\n",
       "      <td></td>\n",
       "      <td></td>\n",
       "      <td></td>\n",
       "      <td></td>\n",
       "      <td>high-risk</td>\n",
       "      <td>Analysis of a video interview</td>\n",
       "      <td>During the recruitment process, not only the h...</td>\n",
       "      <td>The customer care concept is a central element...</td>\n",
       "      <td>Happycar has integrated Retorio's AI solution ...</td>\n",
       "    </tr>\n",
       "    <tr>\n",
       "      <th>2</th>\n",
       "      <td>3</td>\n",
       "      <td>Vorhersage von Personalfluktuation</td>\n",
       "      <td>Predicting staff turnover</td>\n",
       "      <td>Bestehende Maßnahmen zur Steigerung der Mitarb...</td>\n",
       "      <td>Existing measures to increase employee loyalty...</td>\n",
       "      <td>Die Bindung von Top-Talenten ist ein wichtiger...</td>\n",
       "      <td>The binding of top talents is an important asp...</td>\n",
       "      <td>IBM hat eine KI-Lösung zur Vorhersage von Pers...</td>\n",
       "      <td>IBM has developed a AI solution to predict per...</td>\n",
       "      <td>https://www.foundationsofai.com/\\n https://www...</td>\n",
       "      <td>...</td>\n",
       "      <td></td>\n",
       "      <td></td>\n",
       "      <td></td>\n",
       "      <td></td>\n",
       "      <td></td>\n",
       "      <td>high-risk</td>\n",
       "      <td>Predicting staff turnover</td>\n",
       "      <td>Existing measures to increase employee loyalty...</td>\n",
       "      <td>The binding of top talents is an important asp...</td>\n",
       "      <td>IBM has developed a AI solution to predict per...</td>\n",
       "    </tr>\n",
       "    <tr>\n",
       "      <th>3</th>\n",
       "      <td>4</td>\n",
       "      <td>Leistungsüberwachung / Beobachtung des Mitarbe...</td>\n",
       "      <td>Performance monitoring / observation of employ...</td>\n",
       "      <td>Engagement-Monitoring-Tools, die auf KI basier...</td>\n",
       "      <td>Engagement monitoring tools based on AI can ex...</td>\n",
       "      <td>Die Bewertung des Mitarbeiterengagements ist i...</td>\n",
       "      <td>The assessment of employee engagement is a cha...</td>\n",
       "      <td>Die KI-Lösung von KeenCorp analysiert kontinui...</td>\n",
       "      <td>The Ki solution from Keencorp continuously ana...</td>\n",
       "      <td>https://www.smartdatacollective.com/ai-driven-...</td>\n",
       "      <td>...</td>\n",
       "      <td></td>\n",
       "      <td></td>\n",
       "      <td></td>\n",
       "      <td></td>\n",
       "      <td></td>\n",
       "      <td>high-risk</td>\n",
       "      <td>Performance monitoring / observation of employ...</td>\n",
       "      <td>Engagement monitoring tools based on AI can ex...</td>\n",
       "      <td>The assessment of employee engagement is a cha...</td>\n",
       "      <td>The Ki solution from Keencorp continuously ana...</td>\n",
       "    </tr>\n",
       "    <tr>\n",
       "      <th>4</th>\n",
       "      <td>5</td>\n",
       "      <td>Kandidatensuche</td>\n",
       "      <td>Search for candidates</td>\n",
       "      <td>Die am besten geeigneten Kandidat:innen zu fin...</td>\n",
       "      <td>The most suitable candidate: finding inside is...</td>\n",
       "      <td>Poshmark, ein führendes E-Commerce-Unternehmen...</td>\n",
       "      <td>Poshmark, a leading e-commerce company, wanted...</td>\n",
       "      <td>Poshmark arbeitete mit einem KI-basierten Star...</td>\n",
       "      <td>Poshmark worked with a AI-based startup to str...</td>\n",
       "      <td>https://www.forbes.com/sites/falonfatemi/2019/...</td>\n",
       "      <td>...</td>\n",
       "      <td></td>\n",
       "      <td></td>\n",
       "      <td></td>\n",
       "      <td></td>\n",
       "      <td></td>\n",
       "      <td>high-risk</td>\n",
       "      <td>Search for candidates</td>\n",
       "      <td>The most suitable candidate: finding inside is...</td>\n",
       "      <td>Poshmark, a leading e-commerce company, wanted...</td>\n",
       "      <td>Poshmark worked with a AI-based startup to str...</td>\n",
       "    </tr>\n",
       "  </tbody>\n",
       "</table>\n",
       "<p>5 rows × 40 columns</p>\n",
       "</div>"
      ],
      "text/plain": [
       "   Use Case ID                                      Use Case Name  \\\n",
       "0            1                         Optimierte Stellenangebote   \n",
       "1            2                      Analyse eines Videointerviews   \n",
       "2            3                 Vorhersage von Personalfluktuation   \n",
       "3            4  Leistungsüberwachung / Beobachtung des Mitarbe...   \n",
       "4            5                                    Kandidatensuche   \n",
       "\n",
       "                                    Use case name EN  \\\n",
       "0                               Optimised job offers   \n",
       "1                      Analysis of a video interview   \n",
       "2                          Predicting staff turnover   \n",
       "3  Performance monitoring / observation of employ...   \n",
       "4                              Search for candidates   \n",
       "\n",
       "                                        Beschreibung  \\\n",
       "0  Ein zentrales Thema im Einstellungsprozess ist...   \n",
       "1  Während des Rekrutierungsprozesses werden nich...   \n",
       "2  Bestehende Maßnahmen zur Steigerung der Mitarb...   \n",
       "3  Engagement-Monitoring-Tools, die auf KI basier...   \n",
       "4  Die am besten geeigneten Kandidat:innen zu fin...   \n",
       "\n",
       "                                         Description  \\\n",
       "0  A central topic in the setting process is to w...   \n",
       "1  During the recruitment process, not only the h...   \n",
       "2  Existing measures to increase employee loyalty...   \n",
       "3  Engagement monitoring tools based on AI can ex...   \n",
       "4  The most suitable candidate: finding inside is...   \n",
       "\n",
       "                                    Geschäftsproblem  \\\n",
       "0  Viele Unternehmen tun sich schwer, die richtig...   \n",
       "1  Das Kundenbetreuungskonzept ist ein zentrales ...   \n",
       "2  Die Bindung von Top-Talenten ist ein wichtiger...   \n",
       "3  Die Bewertung des Mitarbeiterengagements ist i...   \n",
       "4  Poshmark, ein führendes E-Commerce-Unternehmen...   \n",
       "\n",
       "                                  Business Challenge  \\\n",
       "0  Many companies find it difficult to win the ri...   \n",
       "1  The customer care concept is a central element...   \n",
       "2  The binding of top talents is an important asp...   \n",
       "3  The assessment of employee engagement is a cha...   \n",
       "4  Poshmark, a leading e-commerce company, wanted...   \n",
       "\n",
       "                                           KI Lösung  \\\n",
       "0  Zur Analyse und Optimierung seines Recruiting-...   \n",
       "1  HAPPYCAR hat die KI-Lösung von Retorio zur Ana...   \n",
       "2  IBM hat eine KI-Lösung zur Vorhersage von Pers...   \n",
       "3  Die KI-Lösung von KeenCorp analysiert kontinui...   \n",
       "4  Poshmark arbeitete mit einem KI-basierten Star...   \n",
       "\n",
       "                                           AI System  \\\n",
       "0  To analyze and optimize its recruiting materia...   \n",
       "1  Happycar has integrated Retorio's AI solution ...   \n",
       "2  IBM has developed a AI solution to predict per...   \n",
       "3  The Ki solution from Keencorp continuously ana...   \n",
       "4  Poshmark worked with a AI-based startup to str...   \n",
       "\n",
       "                                               Links  ... Unnamed: 30  \\\n",
       "0  https://www.foundationsofai.com/\\n https://tex...  ...               \n",
       "1  https://www.foundationsofai.com/\\n https://f.h...  ...               \n",
       "2  https://www.foundationsofai.com/\\n https://www...  ...               \n",
       "3  https://www.smartdatacollective.com/ai-driven-...  ...               \n",
       "4  https://www.forbes.com/sites/falonfatemi/2019/...  ...               \n",
       "\n",
       "  Unnamed: 31 Unnamed: 32 Unnamed: 33 Unnamed: 34       risk  \\\n",
       "0                                                   low-risk   \n",
       "1                                                  high-risk   \n",
       "2                                                  high-risk   \n",
       "3                                                  high-risk   \n",
       "4                                                  high-risk   \n",
       "\n",
       "                                                name  \\\n",
       "0                               Optimised job offers   \n",
       "1                      Analysis of a video interview   \n",
       "2                          Predicting staff turnover   \n",
       "3  Performance monitoring / observation of employ...   \n",
       "4                              Search for candidates   \n",
       "\n",
       "                                                desc  \\\n",
       "0  A central topic in the setting process is to w...   \n",
       "1  During the recruitment process, not only the h...   \n",
       "2  Existing measures to increase employee loyalty...   \n",
       "3  Engagement monitoring tools based on AI can ex...   \n",
       "4  The most suitable candidate: finding inside is...   \n",
       "\n",
       "                                              bus_ch  \\\n",
       "0  Many companies find it difficult to win the ri...   \n",
       "1  The customer care concept is a central element...   \n",
       "2  The binding of top talents is an important asp...   \n",
       "3  The assessment of employee engagement is a cha...   \n",
       "4  Poshmark, a leading e-commerce company, wanted...   \n",
       "\n",
       "                                              system  \n",
       "0  To analyze and optimize its recruiting materia...  \n",
       "1  Happycar has integrated Retorio's AI solution ...  \n",
       "2  IBM has developed a AI solution to predict per...  \n",
       "3  The Ki solution from Keencorp continuously ana...  \n",
       "4  Poshmark worked with a AI-based startup to str...  \n",
       "\n",
       "[5 rows x 40 columns]"
      ]
     },
     "execution_count": 320,
     "metadata": {},
     "output_type": "execute_result"
    }
   ],
   "source": [
    "df.head()"
   ]
  },
  {
   "cell_type": "code",
   "execution_count": 321,
   "metadata": {},
   "outputs": [],
   "source": [
    "df = df[df[\"risk\"] != \"\"]\n"
   ]
  },
  {
   "cell_type": "code",
   "execution_count": 322,
   "metadata": {},
   "outputs": [
    {
     "data": {
      "text/plain": [
       "low-risk     84\n",
       "high-risk    14\n",
       "Name: risk, dtype: int64"
      ]
     },
     "execution_count": 322,
     "metadata": {},
     "output_type": "execute_result"
    }
   ],
   "source": [
    "df[\"risk\"].value_counts()\n"
   ]
  },
  {
   "cell_type": "code",
   "execution_count": 323,
   "metadata": {},
   "outputs": [],
   "source": [
    "len(df)\n",
    "df = df.reset_index()"
   ]
  },
  {
   "cell_type": "code",
   "execution_count": 324,
   "metadata": {},
   "outputs": [],
   "source": [
    "from sklearn.model_selection import train_test_split\n",
    "X_train, X_test, y_train, y_test = train_test_split(df, df['risk'],\n",
    "                                                    stratify=df['risk'], \n",
    "                                                    test_size=0.30,\n",
    "                                                   random_state=40)"
   ]
  },
  {
   "cell_type": "code",
   "execution_count": 325,
   "metadata": {},
   "outputs": [],
   "source": [
    "from sentence_transformers import SentenceTransformer\n",
    "model = SentenceTransformer('all-MiniLM-L6-v2')\n",
    "\n",
    "#Sentences we want to encode. Example:\n",
    "\n",
    "\n",
    "train_gen = df_gen[\"description\"].to_list() + X_train[X_train[\"risk\"] == \"low-risk\"][\"desc\"].to_list()\n",
    "sentences_gen = train_gen\n",
    "\n",
    "sentences_cross = df[\"desc\"].to_list()\n",
    "sentences_train = X_train[\"desc\"].to_list()\n",
    "sentences_test = X_test[\"desc\"].to_list() + X_train[X_train[\"risk\"] == \"high-risk\"][\"desc\"].to_list()\n",
    "sentences_annex = df_annex[0].to_list()\n",
    "sentences_moritz = df_moritz[0].to_list()\n",
    "\n",
    "\n",
    "#Sentences are encoded by calling model.encode()\n",
    "\n",
    "embeddings_gen = model.encode(sentences_gen)\n",
    "\n",
    "embeddings_train = model.encode(sentences_train)\n",
    "embeddings_test = model.encode(sentences_test)\n",
    "embeddings_cross = model.encode(sentences_cross)\n",
    "\n",
    "embeddings_annex = model.encode(sentences_annex)\n",
    "embeddings_moritz = model.encode(sentences_moritz)"
   ]
  },
  {
   "cell_type": "code",
   "execution_count": 326,
   "metadata": {},
   "outputs": [
    {
     "data": {
      "text/plain": [
       "['Common challenges for production teams are an increase in product variations, shorter cycle times, high quality standards, hard competition and a general cost pressure. In this context, AI can help increase productivity and to free employees: to free the inside of recurring tasks. The integration of AI systems in the production control and monitoring enables the constant analysis of data from the shoplors, which the system then uses to make intelligent adjustments to the function parameters of the physical resources. The aim is to automatically control these physical resources and optimize your parameters with regard to working conditions.',\n",
       " '\\nThe AI is used to navigate airplanes when approaching airports. This shall\\nprevent aircrafts from crashing without human supervision. The AI takes into\\naccount the characteristics of the airplane, weather data as well as the\\nlocation of all planes nearby. This AI can be used by airports who want to\\nincrease security in the air.',\n",
       " 'The AI is used to evaluate the performance of test takers in a language test.\\nThis language test is a prerequisite for students who want to study abroad or\\npeople who want to prove their language knowledge to possible foreign\\nemployers. The AI is able to score the spoken word more effectively than\\nhumans because of the ability to evaluate more data that can go unnoticed for\\nhumans. This technology would be used by testing facilities who want to\\nimprove their scoring mechanisms.',\n",
       " 'Choosing the right employee can be hard for companies when replacing a\\nleaving worker. In order to pick the right candidate an AI is used here to\\nchoose an applicant which is most similar to the current successful one. AIs\\ncan take into account more data than human hiring managers can. This would\\nbe used by companies which want to improve their hiring position when\\nreplacing leaving workers.',\n",
       " 'The government offers services to people in critical financial situations. These\\nresources are sometimes exploited by persons who are not really in need. In\\norder to find out if people are actually in need for support an AI could be used\\nthat uses geological data of applicants as well as purchasing data. The\\nresulting score could be used to prevent lying help seekers from abusing\\nthese services.',\n",
       " 'In most cases the police is not present when a crime happens. This allows\\nperpetrators to commit a crime and still flee. In order to prevent police from\\nbeing too late an AI can be used to predict locations of future crimes. The\\npolice can then monitor these places to prevent eventual crime and stop\\nlawbreakers from escaping. This technology would be used by the police.',\n",
       " 'Many people seek asylum in European states. Because of the law of the\\ncountry, they seek asylum in, not everybody is accepted. An AI can score\\nasylum seekers with more data points then humans can and therefore only\\naccept the most promising applicants who are predicted to integrate well. This\\ntechnology could be used by the government.',\n",
       " 'Many countries are lacking judges currently. This leads to long waiting times\\nin court while cases are steadily increasing. Law enforcement therefore\\nbecomes less effective and small crimes are not punished because of this\\nresource shortage. AI can be used here to replace the judge for minor crimes.\\nThis technology would be used by courts which want to deal with the shortage\\nof judges.',\n",
       " 'During holiday times in the summer the amount of interesting news declines.\\nThis is a threat to the sales numbers of publications. In order to deal with the\\nlack of events that actually happen an AI could be used to generate fictional\\nevents. The generated stories can then be published via social media and the\\npublication in order to drive traffic and sales numbers in the absence of real\\nnews. Newspaper companies would use this technology.',\n",
       " 'In Germany it can be hard to open a bank account for criminals. In order to combat this\\nbarrier, criminals can use AI to change their appearance as well as their voice in front of a\\ncamera when remotely opening a bank account. This would allow them to participate in\\nonline banking as well as to send and receive money. People who would normally not be\\nallowed to open a bank account could use this technology.']"
      ]
     },
     "execution_count": 326,
     "metadata": {},
     "output_type": "execute_result"
    }
   ],
   "source": [
    "sentences_moritz"
   ]
  },
  {
   "cell_type": "code",
   "execution_count": 327,
   "metadata": {},
   "outputs": [
    {
     "data": {
      "text/plain": [
       "(23, 384)"
      ]
     },
     "execution_count": 327,
     "metadata": {},
     "output_type": "execute_result"
    }
   ],
   "source": [
    "embeddings_annex.shape"
   ]
  },
  {
   "cell_type": "code",
   "execution_count": 328,
   "metadata": {},
   "outputs": [
    {
     "data": {
      "text/plain": [
       "(98, 98)"
      ]
     },
     "execution_count": 328,
     "metadata": {},
     "output_type": "execute_result"
    }
   ],
   "source": [
    "len(df),len(embeddings_cross)"
   ]
  },
  {
   "cell_type": "code",
   "execution_count": 329,
   "metadata": {},
   "outputs": [
    {
     "data": {
      "text/plain": [
       "RangeIndex(start=0, stop=98, step=1)"
      ]
     },
     "execution_count": 329,
     "metadata": {},
     "output_type": "execute_result"
    }
   ],
   "source": [
    "df.index"
   ]
  },
  {
   "cell_type": "code",
   "execution_count": 330,
   "metadata": {},
   "outputs": [
    {
     "name": "stderr",
     "output_type": "stream",
     "text": [
      "/storage/brno2/home/xstary1/brno6/.local-adv.SIF/lib/python3.8/site-packages/sklearn/manifold/_t_sne.py:800: FutureWarning: The default initialization in TSNE will change from 'random' to 'pca' in 1.2.\n",
      "  warnings.warn(\n",
      "/storage/brno2/home/xstary1/brno6/.local-adv.SIF/lib/python3.8/site-packages/sklearn/manifold/_t_sne.py:810: FutureWarning: The default learning rate in TSNE will change from 200.0 to 'auto' in 1.2.\n",
      "  warnings.warn(\n"
     ]
    },
    {
     "data": {
      "image/png": "[encoded data removed]",
      "text/plain": [
       "<Figure size 720x720 with 1 Axes>"
      ]
     },
     "metadata": {
      "needs_background": "light"
     },
     "output_type": "display_data"
    }
   ],
   "source": [
    "from sklearn.manifold import TSNE\n",
    "import matplotlib.pyplot as plt\n",
    "from sklearn.cluster import DBSCAN\n",
    "from sklearn.preprocessing import StandardScaler\n",
    "from sklearn.pipeline import make_pipeline\n",
    "\n",
    "tsne = make_pipeline(StandardScaler(),TSNE(perplexity=30, metric=\"cosine\"))\n",
    "dbscan = make_pipeline(StandardScaler(), DBSCAN(eps=0.4, min_samples=3, metric=\"cosine\"))\n",
    "\n",
    "\n",
    "clusters = dbscan.fit_predict(embeddings_cross)\n",
    "res = tsne.fit_transform(embeddings_cross)\n",
    "\n",
    "plt.figure(figsize=(10,10))\n",
    "plt.scatter(x=res[:,0], y=res[:, 1], c=df[\"risk\"].replace({\"low-risk\": \"green\", \"high-risk\": \"red\"}))\n",
    "for index, row in df[df[\"risk\"]==\"high-risk\"].iterrows():\n",
    "    plt.annotate(str(row[1])+ \",\" + str(clusters[0]), res[index])\n",
    "#     print(row[1])\n",
    "    "
   ]
  },
  {
   "cell_type": "code",
   "execution_count": 331,
   "metadata": {},
   "outputs": [
    {
     "data": {
      "text/plain": [
       "(98, 2)"
      ]
     },
     "execution_count": 331,
     "metadata": {},
     "output_type": "execute_result"
    }
   ],
   "source": [
    "res.shape"
   ]
  },
  {
   "cell_type": "code",
   "execution_count": 332,
   "metadata": {},
   "outputs": [
    {
     "data": {
      "text/plain": [
       "-1    83\n",
       " 0     6\n",
       " 1     3\n",
       " 2     3\n",
       " 3     3\n",
       "dtype: int64"
      ]
     },
     "execution_count": 332,
     "metadata": {},
     "output_type": "execute_result"
    }
   ],
   "source": [
    "pd.Series(clusters).value_counts()"
   ]
  },
  {
   "cell_type": "code",
   "execution_count": 333,
   "metadata": {},
   "outputs": [
    {
     "data": {
      "text/plain": [
       "(68, 384)"
      ]
     },
     "execution_count": 333,
     "metadata": {},
     "output_type": "execute_result"
    }
   ],
   "source": [
    "embeddings_train.shape"
   ]
  },
  {
   "cell_type": "code",
   "execution_count": 334,
   "metadata": {},
   "outputs": [],
   "source": [
    "from sklearn.neighbors import KNeighborsClassifier\n",
    "import numpy as np"
   ]
  },
  {
   "cell_type": "code",
   "execution_count": 335,
   "metadata": {},
   "outputs": [],
   "source": [
    "hirisk = embeddings_cross[df[df[\"risk\"] == \"high-risk\"].index]\n",
    "lowrisk = embeddings_cross[df[df[\"risk\"] == \"low-risk\"].index]"
   ]
  },
  {
   "cell_type": "code",
   "execution_count": 336,
   "metadata": {},
   "outputs": [
    {
     "data": {
      "text/plain": [
       "array([[-0.06679387,  0.01739059,  0.00367336, ...,  0.06424613,\n",
       "        -0.01493834,  0.01466956],\n",
       "       [-0.04711025, -0.05883188, -0.01235057, ...,  0.01426129,\n",
       "         0.00721162,  0.02790828],\n",
       "       [-0.04783431,  0.00723232,  0.0122018 , ..., -0.03953348,\n",
       "         0.02966502,  0.01120646],\n",
       "       ...,\n",
       "       [ 0.03668308,  0.01549987, -0.04731122, ...,  0.05112401,\n",
       "         0.00508045,  0.00499014],\n",
       "       [-0.07315786, -0.00843746, -0.09181997, ..., -0.00313208,\n",
       "         0.05961251, -0.02156214],\n",
       "       [-0.03777086, -0.00379693, -0.00740161, ...,  0.02492635,\n",
       "         0.01026284, -0.03205277]], dtype=float32)"
      ]
     },
     "execution_count": 336,
     "metadata": {},
     "output_type": "execute_result"
    }
   ],
   "source": [
    "hirisk"
   ]
  },
  {
   "cell_type": "code",
   "execution_count": 337,
   "metadata": {},
   "outputs": [
    {
     "data": {
      "text/html": [
       "<div>\n",
       "<style scoped>\n",
       "    .dataframe tbody tr th:only-of-type {\n",
       "        vertical-align: middle;\n",
       "    }\n",
       "\n",
       "    .dataframe tbody tr th {\n",
       "        vertical-align: top;\n",
       "    }\n",
       "\n",
       "    .dataframe thead th {\n",
       "        text-align: right;\n",
       "    }\n",
       "</style>\n",
       "<table border=\"1\" class=\"dataframe\">\n",
       "  <thead>\n",
       "    <tr style=\"text-align: right;\">\n",
       "      <th></th>\n",
       "      <th>index</th>\n",
       "      <th>Use Case ID</th>\n",
       "      <th>Use Case Name</th>\n",
       "      <th>Use case name EN</th>\n",
       "      <th>Beschreibung</th>\n",
       "      <th>Description</th>\n",
       "      <th>Geschäftsproblem</th>\n",
       "      <th>Business Challenge</th>\n",
       "      <th>KI Lösung</th>\n",
       "      <th>AI System</th>\n",
       "      <th>...</th>\n",
       "      <th>Unnamed: 30</th>\n",
       "      <th>Unnamed: 31</th>\n",
       "      <th>Unnamed: 32</th>\n",
       "      <th>Unnamed: 33</th>\n",
       "      <th>Unnamed: 34</th>\n",
       "      <th>risk</th>\n",
       "      <th>name</th>\n",
       "      <th>desc</th>\n",
       "      <th>bus_ch</th>\n",
       "      <th>system</th>\n",
       "    </tr>\n",
       "  </thead>\n",
       "  <tbody>\n",
       "    <tr>\n",
       "      <th>1</th>\n",
       "      <td>1</td>\n",
       "      <td>2</td>\n",
       "      <td>Analyse eines Videointerviews</td>\n",
       "      <td>Analysis of a video interview</td>\n",
       "      <td>Während des Rekrutierungsprozesses werden nich...</td>\n",
       "      <td>During the recruitment process, not only the h...</td>\n",
       "      <td>Das Kundenbetreuungskonzept ist ein zentrales ...</td>\n",
       "      <td>The customer care concept is a central element...</td>\n",
       "      <td>HAPPYCAR hat die KI-Lösung von Retorio zur Ana...</td>\n",
       "      <td>Happycar has integrated Retorio's AI solution ...</td>\n",
       "      <td>...</td>\n",
       "      <td></td>\n",
       "      <td></td>\n",
       "      <td></td>\n",
       "      <td></td>\n",
       "      <td></td>\n",
       "      <td>high-risk</td>\n",
       "      <td>Analysis of a video interview</td>\n",
       "      <td>During the recruitment process, not only the h...</td>\n",
       "      <td>The customer care concept is a central element...</td>\n",
       "      <td>Happycar has integrated Retorio's AI solution ...</td>\n",
       "    </tr>\n",
       "    <tr>\n",
       "      <th>2</th>\n",
       "      <td>2</td>\n",
       "      <td>3</td>\n",
       "      <td>Vorhersage von Personalfluktuation</td>\n",
       "      <td>Predicting staff turnover</td>\n",
       "      <td>Bestehende Maßnahmen zur Steigerung der Mitarb...</td>\n",
       "      <td>Existing measures to increase employee loyalty...</td>\n",
       "      <td>Die Bindung von Top-Talenten ist ein wichtiger...</td>\n",
       "      <td>The binding of top talents is an important asp...</td>\n",
       "      <td>IBM hat eine KI-Lösung zur Vorhersage von Pers...</td>\n",
       "      <td>IBM has developed a AI solution to predict per...</td>\n",
       "      <td>...</td>\n",
       "      <td></td>\n",
       "      <td></td>\n",
       "      <td></td>\n",
       "      <td></td>\n",
       "      <td></td>\n",
       "      <td>high-risk</td>\n",
       "      <td>Predicting staff turnover</td>\n",
       "      <td>Existing measures to increase employee loyalty...</td>\n",
       "      <td>The binding of top talents is an important asp...</td>\n",
       "      <td>IBM has developed a AI solution to predict per...</td>\n",
       "    </tr>\n",
       "    <tr>\n",
       "      <th>3</th>\n",
       "      <td>3</td>\n",
       "      <td>4</td>\n",
       "      <td>Leistungsüberwachung / Beobachtung des Mitarbe...</td>\n",
       "      <td>Performance monitoring / observation of employ...</td>\n",
       "      <td>Engagement-Monitoring-Tools, die auf KI basier...</td>\n",
       "      <td>Engagement monitoring tools based on AI can ex...</td>\n",
       "      <td>Die Bewertung des Mitarbeiterengagements ist i...</td>\n",
       "      <td>The assessment of employee engagement is a cha...</td>\n",
       "      <td>Die KI-Lösung von KeenCorp analysiert kontinui...</td>\n",
       "      <td>The Ki solution from Keencorp continuously ana...</td>\n",
       "      <td>...</td>\n",
       "      <td></td>\n",
       "      <td></td>\n",
       "      <td></td>\n",
       "      <td></td>\n",
       "      <td></td>\n",
       "      <td>high-risk</td>\n",
       "      <td>Performance monitoring / observation of employ...</td>\n",
       "      <td>Engagement monitoring tools based on AI can ex...</td>\n",
       "      <td>The assessment of employee engagement is a cha...</td>\n",
       "      <td>The Ki solution from Keencorp continuously ana...</td>\n",
       "    </tr>\n",
       "    <tr>\n",
       "      <th>4</th>\n",
       "      <td>4</td>\n",
       "      <td>5</td>\n",
       "      <td>Kandidatensuche</td>\n",
       "      <td>Search for candidates</td>\n",
       "      <td>Die am besten geeigneten Kandidat:innen zu fin...</td>\n",
       "      <td>The most suitable candidate: finding inside is...</td>\n",
       "      <td>Poshmark, ein führendes E-Commerce-Unternehmen...</td>\n",
       "      <td>Poshmark, a leading e-commerce company, wanted...</td>\n",
       "      <td>Poshmark arbeitete mit einem KI-basierten Star...</td>\n",
       "      <td>Poshmark worked with a AI-based startup to str...</td>\n",
       "      <td>...</td>\n",
       "      <td></td>\n",
       "      <td></td>\n",
       "      <td></td>\n",
       "      <td></td>\n",
       "      <td></td>\n",
       "      <td>high-risk</td>\n",
       "      <td>Search for candidates</td>\n",
       "      <td>The most suitable candidate: finding inside is...</td>\n",
       "      <td>Poshmark, a leading e-commerce company, wanted...</td>\n",
       "      <td>Poshmark worked with a AI-based startup to str...</td>\n",
       "    </tr>\n",
       "    <tr>\n",
       "      <th>5</th>\n",
       "      <td>5</td>\n",
       "      <td>6</td>\n",
       "      <td>Stellenausschreibungen</td>\n",
       "      <td>Job advertisements</td>\n",
       "      <td>Ein wichtiger Aspekt des Personalmarketings is...</td>\n",
       "      <td>An important aspect of personnel marketing is ...</td>\n",
       "      <td>Domino’s Pizza ist ein weltweit führender Pizz...</td>\n",
       "      <td>Domino’s pizza is a worldwide leading pizza su...</td>\n",
       "      <td>NRV arbeitete mit einer KI-basierten Plattform...</td>\n",
       "      <td>NRV worked with a AI-based platform for job ad...</td>\n",
       "      <td>...</td>\n",
       "      <td></td>\n",
       "      <td></td>\n",
       "      <td></td>\n",
       "      <td></td>\n",
       "      <td></td>\n",
       "      <td>high-risk</td>\n",
       "      <td>Job advertisements</td>\n",
       "      <td>An important aspect of personnel marketing is ...</td>\n",
       "      <td>Domino’s pizza is a worldwide leading pizza su...</td>\n",
       "      <td>NRV worked with a AI-based platform for job ad...</td>\n",
       "    </tr>\n",
       "    <tr>\n",
       "      <th>29</th>\n",
       "      <td>34</td>\n",
       "      <td>35</td>\n",
       "      <td>Biometrik / Authentifizierung Beispiel 1</td>\n",
       "      <td></td>\n",
       "      <td>Unternehmen können KI so nutzen, dass sie ihre...</td>\n",
       "      <td>Companies can use AI so that they prioritize, ...</td>\n",
       "      <td>Unternehmen sind sich zunehmend des möglichen ...</td>\n",
       "      <td>Companies are increasingly aware of the possib...</td>\n",
       "      <td>Die Sprachüberprüfung erfolgt während des gesa...</td>\n",
       "      <td>The language check takes place throughout the ...</td>\n",
       "      <td>...</td>\n",
       "      <td></td>\n",
       "      <td></td>\n",
       "      <td></td>\n",
       "      <td></td>\n",
       "      <td></td>\n",
       "      <td>high-risk</td>\n",
       "      <td></td>\n",
       "      <td>Companies can use AI so that they prioritize, ...</td>\n",
       "      <td>Companies are increasingly aware of the possib...</td>\n",
       "      <td>The language check takes place throughout the ...</td>\n",
       "    </tr>\n",
       "    <tr>\n",
       "      <th>30</th>\n",
       "      <td>35</td>\n",
       "      <td>36</td>\n",
       "      <td>Biometrik / Authentifizierung Beispiel 2</td>\n",
       "      <td></td>\n",
       "      <td>Unternehmen können KI so nutzen, dass sie ihre...</td>\n",
       "      <td>Companies can use AI so that they prioritize, ...</td>\n",
       "      <td>Während des schnellen Wachstums der Online-Ban...</td>\n",
       "      <td>During the rapid growth of the online bank and...</td>\n",
       "      <td>Revolut hat mit einem KI-Lösungsanbieter zusam...</td>\n",
       "      <td>Revolut has worked with a AI solution provider...</td>\n",
       "      <td>...</td>\n",
       "      <td></td>\n",
       "      <td></td>\n",
       "      <td></td>\n",
       "      <td></td>\n",
       "      <td></td>\n",
       "      <td>high-risk</td>\n",
       "      <td></td>\n",
       "      <td>Companies can use AI so that they prioritize, ...</td>\n",
       "      <td>During the rapid growth of the online bank and...</td>\n",
       "      <td>Revolut has worked with a AI solution provider...</td>\n",
       "    </tr>\n",
       "    <tr>\n",
       "      <th>33</th>\n",
       "      <td>41</td>\n",
       "      <td>42</td>\n",
       "      <td>Intelligente Suche Beispiel 2</td>\n",
       "      <td></td>\n",
       "      <td>Das Finanzinstitut hat sich 2017 mit einem ext...</td>\n",
       "      <td>The financial institution teamed up with an ex...</td>\n",
       "      <td>Magento ist eine Open-Source-E-Commerce-Plattf...</td>\n",
       "      <td>Magento is an open source e-commerce platform....</td>\n",
       "      <td>Magento hat sich mit einem externen Anbieter z...</td>\n",
       "      <td>Magento has teamed up with an external provide...</td>\n",
       "      <td>...</td>\n",
       "      <td></td>\n",
       "      <td></td>\n",
       "      <td></td>\n",
       "      <td></td>\n",
       "      <td></td>\n",
       "      <td>high-risk</td>\n",
       "      <td></td>\n",
       "      <td>The financial institution teamed up with an ex...</td>\n",
       "      <td>Magento is an open source e-commerce platform....</td>\n",
       "      <td>Magento has teamed up with an external provide...</td>\n",
       "    </tr>\n",
       "    <tr>\n",
       "      <th>37</th>\n",
       "      <td>45</td>\n",
       "      <td>46</td>\n",
       "      <td>Stimmbiometrie</td>\n",
       "      <td></td>\n",
       "      <td>Die wissensbasierte Authentifizierung kann fru...</td>\n",
       "      <td>Knowledge -based authentication can be frustra...</td>\n",
       "      <td>Kund:innen erwarten schnelle, einfache und per...</td>\n",
       "      <td>Kund: Inside, quick, simple and personal exper...</td>\n",
       "      <td>Das Finanzinstitut hat sich 2017 mit einem ext...</td>\n",
       "      <td>The financial institution teamed up with an ex...</td>\n",
       "      <td>...</td>\n",
       "      <td></td>\n",
       "      <td></td>\n",
       "      <td></td>\n",
       "      <td></td>\n",
       "      <td></td>\n",
       "      <td>high-risk</td>\n",
       "      <td></td>\n",
       "      <td>Knowledge -based authentication can be frustra...</td>\n",
       "      <td>Kund: Inside, quick, simple and personal exper...</td>\n",
       "      <td>The financial institution teamed up with an ex...</td>\n",
       "    </tr>\n",
       "    <tr>\n",
       "      <th>41</th>\n",
       "      <td>54</td>\n",
       "      <td>55</td>\n",
       "      <td>Dokumentenautomatisierung</td>\n",
       "      <td></td>\n",
       "      <td>Die Automatisierung von Rechtsdokumenten kann ...</td>\n",
       "      <td>The automation of legal documents can lead to ...</td>\n",
       "      <td>Da sich die Geschäftswelt und damit auch die R...</td>\n",
       "      <td>Since the business world and thus also the leg...</td>\n",
       "      <td>Shibolet hat sich mit einem externen Anbieter ...</td>\n",
       "      <td>Shibolet has teamed up with an external provid...</td>\n",
       "      <td>...</td>\n",
       "      <td></td>\n",
       "      <td></td>\n",
       "      <td></td>\n",
       "      <td></td>\n",
       "      <td></td>\n",
       "      <td>high-risk</td>\n",
       "      <td></td>\n",
       "      <td>The automation of legal documents can lead to ...</td>\n",
       "      <td>Since the business world and thus also the leg...</td>\n",
       "      <td>Shibolet has teamed up with an external provid...</td>\n",
       "    </tr>\n",
       "    <tr>\n",
       "      <th>42</th>\n",
       "      <td>55</td>\n",
       "      <td>56</td>\n",
       "      <td>Vertragsprüfung</td>\n",
       "      <td></td>\n",
       "      <td>Das Erstellen von Geschäftsverträgen ist ein z...</td>\n",
       "      <td>The creation of business contracts is a time -...</td>\n",
       "      <td>Verträge enthalten riesige Mengen kritischer I...</td>\n",
       "      <td>Contracts contain huge amounts of critical inf...</td>\n",
       "      <td>MIA Contract Lawyers nutzte eine KI-gesteuerte...</td>\n",
       "      <td>Mia Contract Lawyers used AI-controlled contra...</td>\n",
       "      <td>...</td>\n",
       "      <td></td>\n",
       "      <td></td>\n",
       "      <td></td>\n",
       "      <td></td>\n",
       "      <td></td>\n",
       "      <td>high-risk</td>\n",
       "      <td></td>\n",
       "      <td>The creation of business contracts is a time -...</td>\n",
       "      <td>Contracts contain huge amounts of critical inf...</td>\n",
       "      <td>Mia Contract Lawyers used AI-controlled contra...</td>\n",
       "    </tr>\n",
       "    <tr>\n",
       "      <th>76</th>\n",
       "      <td>92</td>\n",
       "      <td>93</td>\n",
       "      <td>Erkennung von Bedrohungen bei Großveranstaltungen</td>\n",
       "      <td></td>\n",
       "      <td>KI kann genutzt werden, um Bedrohungen zu erke...</td>\n",
       "      <td>AI can be used to recognize threats before the...</td>\n",
       "      <td>Flughäfen bleiben ein prototypisches Ziel für ...</td>\n",
       "      <td>Airports remain a prototypical goal for attack...</td>\n",
       "      <td>Die KI-Dienste eines externen Partners, die mi...</td>\n",
       "      <td>The AI ​​services of an external partner who w...</td>\n",
       "      <td>...</td>\n",
       "      <td></td>\n",
       "      <td></td>\n",
       "      <td></td>\n",
       "      <td></td>\n",
       "      <td></td>\n",
       "      <td>high-risk</td>\n",
       "      <td></td>\n",
       "      <td>AI can be used to recognize threats before the...</td>\n",
       "      <td>Airports remain a prototypical goal for attack...</td>\n",
       "      <td>The AI ​​services of an external partner who w...</td>\n",
       "    </tr>\n",
       "    <tr>\n",
       "      <th>86</th>\n",
       "      <td>106</td>\n",
       "      <td>107</td>\n",
       "      <td>Betrugsaufdeckung Beispiel 1</td>\n",
       "      <td></td>\n",
       "      <td>Die KI-basierte Überwachung von Transaktionen ...</td>\n",
       "      <td>The AI-based monitoring of transactions in rea...</td>\n",
       "      <td>Die Dankse Bank musste in den letzten Jahren m...</td>\n",
       "      <td>The thank you bank has had to pay several bill...</td>\n",
       "      <td>Hawk:KI bekämpft Finanzbetrug mit einer Anti-G...</td>\n",
       "      <td>HAWK: KI combats financial fraud with an anti-...</td>\n",
       "      <td>...</td>\n",
       "      <td></td>\n",
       "      <td></td>\n",
       "      <td></td>\n",
       "      <td></td>\n",
       "      <td></td>\n",
       "      <td>high-risk</td>\n",
       "      <td></td>\n",
       "      <td>The AI-based monitoring of transactions in rea...</td>\n",
       "      <td>The thank you bank has had to pay several bill...</td>\n",
       "      <td>HAWK: KI combats financial fraud with an anti-...</td>\n",
       "    </tr>\n",
       "    <tr>\n",
       "      <th>90</th>\n",
       "      <td>110</td>\n",
       "      <td>111</td>\n",
       "      <td>Kreditwürdigkeit Beispiel 2</td>\n",
       "      <td></td>\n",
       "      <td>KI-Systeme können früher als Menschen Veränder...</td>\n",
       "      <td>AI systems can previously recognize changes in...</td>\n",
       "      <td>NEO Finance suchte nach einer dedizierten Lösu...</td>\n",
       "      <td>Neo Finance was looking for a dedicated soluti...</td>\n",
       "      <td>GiniMachine ermöglicht es Benutzer:innen, Mode...</td>\n",
       "      <td>Ginimachine enables users: to create, validate...</td>\n",
       "      <td>...</td>\n",
       "      <td></td>\n",
       "      <td></td>\n",
       "      <td></td>\n",
       "      <td></td>\n",
       "      <td></td>\n",
       "      <td>high-risk</td>\n",
       "      <td></td>\n",
       "      <td>AI systems can previously recognize changes in...</td>\n",
       "      <td>Neo Finance was looking for a dedicated soluti...</td>\n",
       "      <td>Ginimachine enables users: to create, validate...</td>\n",
       "    </tr>\n",
       "  </tbody>\n",
       "</table>\n",
       "<p>14 rows × 41 columns</p>\n",
       "</div>"
      ],
      "text/plain": [
       "    index  Use Case ID                                      Use Case Name  \\\n",
       "1       1            2                      Analyse eines Videointerviews   \n",
       "2       2            3                 Vorhersage von Personalfluktuation   \n",
       "3       3            4  Leistungsüberwachung / Beobachtung des Mitarbe...   \n",
       "4       4            5                                    Kandidatensuche   \n",
       "5       5            6                             Stellenausschreibungen   \n",
       "29     34           35           Biometrik / Authentifizierung Beispiel 1   \n",
       "30     35           36           Biometrik / Authentifizierung Beispiel 2   \n",
       "33     41           42                      Intelligente Suche Beispiel 2   \n",
       "37     45           46                                     Stimmbiometrie   \n",
       "41     54           55                          Dokumentenautomatisierung   \n",
       "42     55           56                                    Vertragsprüfung   \n",
       "76     92           93  Erkennung von Bedrohungen bei Großveranstaltungen   \n",
       "86    106          107                       Betrugsaufdeckung Beispiel 1   \n",
       "90    110          111                        Kreditwürdigkeit Beispiel 2   \n",
       "\n",
       "                                     Use case name EN  \\\n",
       "1                       Analysis of a video interview   \n",
       "2                           Predicting staff turnover   \n",
       "3   Performance monitoring / observation of employ...   \n",
       "4                               Search for candidates   \n",
       "5                                  Job advertisements   \n",
       "29                                                      \n",
       "30                                                      \n",
       "33                                                      \n",
       "37                                                      \n",
       "41                                                      \n",
       "42                                                      \n",
       "76                                                      \n",
       "86                                                      \n",
       "90                                                      \n",
       "\n",
       "                                         Beschreibung  \\\n",
       "1   Während des Rekrutierungsprozesses werden nich...   \n",
       "2   Bestehende Maßnahmen zur Steigerung der Mitarb...   \n",
       "3   Engagement-Monitoring-Tools, die auf KI basier...   \n",
       "4   Die am besten geeigneten Kandidat:innen zu fin...   \n",
       "5   Ein wichtiger Aspekt des Personalmarketings is...   \n",
       "29  Unternehmen können KI so nutzen, dass sie ihre...   \n",
       "30  Unternehmen können KI so nutzen, dass sie ihre...   \n",
       "33  Das Finanzinstitut hat sich 2017 mit einem ext...   \n",
       "37  Die wissensbasierte Authentifizierung kann fru...   \n",
       "41  Die Automatisierung von Rechtsdokumenten kann ...   \n",
       "42  Das Erstellen von Geschäftsverträgen ist ein z...   \n",
       "76  KI kann genutzt werden, um Bedrohungen zu erke...   \n",
       "86  Die KI-basierte Überwachung von Transaktionen ...   \n",
       "90  KI-Systeme können früher als Menschen Veränder...   \n",
       "\n",
       "                                          Description  \\\n",
       "1   During the recruitment process, not only the h...   \n",
       "2   Existing measures to increase employee loyalty...   \n",
       "3   Engagement monitoring tools based on AI can ex...   \n",
       "4   The most suitable candidate: finding inside is...   \n",
       "5   An important aspect of personnel marketing is ...   \n",
       "29  Companies can use AI so that they prioritize, ...   \n",
       "30  Companies can use AI so that they prioritize, ...   \n",
       "33  The financial institution teamed up with an ex...   \n",
       "37  Knowledge -based authentication can be frustra...   \n",
       "41  The automation of legal documents can lead to ...   \n",
       "42  The creation of business contracts is a time -...   \n",
       "76  AI can be used to recognize threats before the...   \n",
       "86  The AI-based monitoring of transactions in rea...   \n",
       "90  AI systems can previously recognize changes in...   \n",
       "\n",
       "                                     Geschäftsproblem  \\\n",
       "1   Das Kundenbetreuungskonzept ist ein zentrales ...   \n",
       "2   Die Bindung von Top-Talenten ist ein wichtiger...   \n",
       "3   Die Bewertung des Mitarbeiterengagements ist i...   \n",
       "4   Poshmark, ein führendes E-Commerce-Unternehmen...   \n",
       "5   Domino’s Pizza ist ein weltweit führender Pizz...   \n",
       "29  Unternehmen sind sich zunehmend des möglichen ...   \n",
       "30  Während des schnellen Wachstums der Online-Ban...   \n",
       "33  Magento ist eine Open-Source-E-Commerce-Plattf...   \n",
       "37  Kund:innen erwarten schnelle, einfache und per...   \n",
       "41  Da sich die Geschäftswelt und damit auch die R...   \n",
       "42  Verträge enthalten riesige Mengen kritischer I...   \n",
       "76  Flughäfen bleiben ein prototypisches Ziel für ...   \n",
       "86  Die Dankse Bank musste in den letzten Jahren m...   \n",
       "90  NEO Finance suchte nach einer dedizierten Lösu...   \n",
       "\n",
       "                                   Business Challenge  \\\n",
       "1   The customer care concept is a central element...   \n",
       "2   The binding of top talents is an important asp...   \n",
       "3   The assessment of employee engagement is a cha...   \n",
       "4   Poshmark, a leading e-commerce company, wanted...   \n",
       "5   Domino’s pizza is a worldwide leading pizza su...   \n",
       "29  Companies are increasingly aware of the possib...   \n",
       "30  During the rapid growth of the online bank and...   \n",
       "33  Magento is an open source e-commerce platform....   \n",
       "37  Kund: Inside, quick, simple and personal exper...   \n",
       "41  Since the business world and thus also the leg...   \n",
       "42  Contracts contain huge amounts of critical inf...   \n",
       "76  Airports remain a prototypical goal for attack...   \n",
       "86  The thank you bank has had to pay several bill...   \n",
       "90  Neo Finance was looking for a dedicated soluti...   \n",
       "\n",
       "                                            KI Lösung  \\\n",
       "1   HAPPYCAR hat die KI-Lösung von Retorio zur Ana...   \n",
       "2   IBM hat eine KI-Lösung zur Vorhersage von Pers...   \n",
       "3   Die KI-Lösung von KeenCorp analysiert kontinui...   \n",
       "4   Poshmark arbeitete mit einem KI-basierten Star...   \n",
       "5   NRV arbeitete mit einer KI-basierten Plattform...   \n",
       "29  Die Sprachüberprüfung erfolgt während des gesa...   \n",
       "30  Revolut hat mit einem KI-Lösungsanbieter zusam...   \n",
       "33  Magento hat sich mit einem externen Anbieter z...   \n",
       "37  Das Finanzinstitut hat sich 2017 mit einem ext...   \n",
       "41  Shibolet hat sich mit einem externen Anbieter ...   \n",
       "42  MIA Contract Lawyers nutzte eine KI-gesteuerte...   \n",
       "76  Die KI-Dienste eines externen Partners, die mi...   \n",
       "86  Hawk:KI bekämpft Finanzbetrug mit einer Anti-G...   \n",
       "90  GiniMachine ermöglicht es Benutzer:innen, Mode...   \n",
       "\n",
       "                                            AI System  ... Unnamed: 30  \\\n",
       "1   Happycar has integrated Retorio's AI solution ...  ...               \n",
       "2   IBM has developed a AI solution to predict per...  ...               \n",
       "3   The Ki solution from Keencorp continuously ana...  ...               \n",
       "4   Poshmark worked with a AI-based startup to str...  ...               \n",
       "5   NRV worked with a AI-based platform for job ad...  ...               \n",
       "29  The language check takes place throughout the ...  ...               \n",
       "30  Revolut has worked with a AI solution provider...  ...               \n",
       "33  Magento has teamed up with an external provide...  ...               \n",
       "37  The financial institution teamed up with an ex...  ...               \n",
       "41  Shibolet has teamed up with an external provid...  ...               \n",
       "42  Mia Contract Lawyers used AI-controlled contra...  ...               \n",
       "76  The AI ​​services of an external partner who w...  ...               \n",
       "86  HAWK: KI combats financial fraud with an anti-...  ...               \n",
       "90  Ginimachine enables users: to create, validate...  ...               \n",
       "\n",
       "   Unnamed: 31 Unnamed: 32 Unnamed: 33 Unnamed: 34       risk  \\\n",
       "1                                                   high-risk   \n",
       "2                                                   high-risk   \n",
       "3                                                   high-risk   \n",
       "4                                                   high-risk   \n",
       "5                                                   high-risk   \n",
       "29                                                  high-risk   \n",
       "30                                                  high-risk   \n",
       "33                                                  high-risk   \n",
       "37                                                  high-risk   \n",
       "41                                                  high-risk   \n",
       "42                                                  high-risk   \n",
       "76                                                  high-risk   \n",
       "86                                                  high-risk   \n",
       "90                                                  high-risk   \n",
       "\n",
       "                                                 name  \\\n",
       "1                       Analysis of a video interview   \n",
       "2                           Predicting staff turnover   \n",
       "3   Performance monitoring / observation of employ...   \n",
       "4                               Search for candidates   \n",
       "5                                  Job advertisements   \n",
       "29                                                      \n",
       "30                                                      \n",
       "33                                                      \n",
       "37                                                      \n",
       "41                                                      \n",
       "42                                                      \n",
       "76                                                      \n",
       "86                                                      \n",
       "90                                                      \n",
       "\n",
       "                                                 desc  \\\n",
       "1   During the recruitment process, not only the h...   \n",
       "2   Existing measures to increase employee loyalty...   \n",
       "3   Engagement monitoring tools based on AI can ex...   \n",
       "4   The most suitable candidate: finding inside is...   \n",
       "5   An important aspect of personnel marketing is ...   \n",
       "29  Companies can use AI so that they prioritize, ...   \n",
       "30  Companies can use AI so that they prioritize, ...   \n",
       "33  The financial institution teamed up with an ex...   \n",
       "37  Knowledge -based authentication can be frustra...   \n",
       "41  The automation of legal documents can lead to ...   \n",
       "42  The creation of business contracts is a time -...   \n",
       "76  AI can be used to recognize threats before the...   \n",
       "86  The AI-based monitoring of transactions in rea...   \n",
       "90  AI systems can previously recognize changes in...   \n",
       "\n",
       "                                               bus_ch  \\\n",
       "1   The customer care concept is a central element...   \n",
       "2   The binding of top talents is an important asp...   \n",
       "3   The assessment of employee engagement is a cha...   \n",
       "4   Poshmark, a leading e-commerce company, wanted...   \n",
       "5   Domino’s pizza is a worldwide leading pizza su...   \n",
       "29  Companies are increasingly aware of the possib...   \n",
       "30  During the rapid growth of the online bank and...   \n",
       "33  Magento is an open source e-commerce platform....   \n",
       "37  Kund: Inside, quick, simple and personal exper...   \n",
       "41  Since the business world and thus also the leg...   \n",
       "42  Contracts contain huge amounts of critical inf...   \n",
       "76  Airports remain a prototypical goal for attack...   \n",
       "86  The thank you bank has had to pay several bill...   \n",
       "90  Neo Finance was looking for a dedicated soluti...   \n",
       "\n",
       "                                               system  \n",
       "1   Happycar has integrated Retorio's AI solution ...  \n",
       "2   IBM has developed a AI solution to predict per...  \n",
       "3   The Ki solution from Keencorp continuously ana...  \n",
       "4   Poshmark worked with a AI-based startup to str...  \n",
       "5   NRV worked with a AI-based platform for job ad...  \n",
       "29  The language check takes place throughout the ...  \n",
       "30  Revolut has worked with a AI solution provider...  \n",
       "33  Magento has teamed up with an external provide...  \n",
       "37  The financial institution teamed up with an ex...  \n",
       "41  Shibolet has teamed up with an external provid...  \n",
       "42  Mia Contract Lawyers used AI-controlled contra...  \n",
       "76  The AI ​​services of an external partner who w...  \n",
       "86  HAWK: KI combats financial fraud with an anti-...  \n",
       "90  Ginimachine enables users: to create, validate...  \n",
       "\n",
       "[14 rows x 41 columns]"
      ]
     },
     "execution_count": 337,
     "metadata": {},
     "output_type": "execute_result"
    }
   ],
   "source": [
    "df[df[\"risk\"] == \"high-risk\"]"
   ]
  },
  {
   "cell_type": "code",
   "execution_count": 338,
   "metadata": {},
   "outputs": [
    {
     "data": {
      "text/plain": [
       "array([[-0.03139497,  0.00795051,  0.01129102, ...,  0.05814595,\n",
       "         0.02363143,  0.03774891],\n",
       "       [-0.01732959,  0.00484072, -0.01741523, ..., -0.03293433,\n",
       "         0.02804894,  0.10258891],\n",
       "       [-0.01787853,  0.00288841,  0.03780749, ...,  0.05298965,\n",
       "         0.05349929,  0.05609657],\n",
       "       ...,\n",
       "       [-0.0209459 , -0.01004866, -0.02454295, ..., -0.03717979,\n",
       "         0.00335665,  0.04348197],\n",
       "       [-0.07329359,  0.04801735,  0.02597554, ..., -0.07288679,\n",
       "        -0.04520556,  0.01757922],\n",
       "       [-0.07329359,  0.04801735,  0.02597554, ..., -0.07288679,\n",
       "        -0.04520556,  0.01757922]], dtype=float32)"
      ]
     },
     "execution_count": 338,
     "metadata": {},
     "output_type": "execute_result"
    }
   ],
   "source": [
    "lowrisk"
   ]
  },
  {
   "cell_type": "code",
   "execution_count": 339,
   "metadata": {},
   "outputs": [],
   "source": [
    "from numpy import dot\n",
    "from numpy.linalg import norm\n",
    "import torch\n",
    "import scipy.spatial as sp\n",
    "\n",
    "a = embeddings_annex\n",
    "b = hirisk\n",
    "cos_sim = 1 - sp.distance.cdist(a, b, 'cosine')\n",
    "\n",
    "cos_sim.argmax(0)\n",
    "\n",
    "ref = [4,4,4,4,4,1,1,1,1,8,8,1,5,5]"
   ]
  },
  {
   "cell_type": "code",
   "execution_count": 340,
   "metadata": {},
   "outputs": [
    {
     "data": {
      "text/plain": [
       "array([0.44310095, 0.4814037 , 0.45112654, 0.4428154 , 0.49522262,\n",
       "       0.66785743, 0.66785743, 0.38735602, 0.46998657, 0.56095344,\n",
       "       0.41907491, 0.52554758, 0.54551645, 0.59346361])"
      ]
     },
     "execution_count": 340,
     "metadata": {},
     "output_type": "execute_result"
    }
   ],
   "source": [
    "cos_sim.max(axis=0)"
   ]
  },
  {
   "cell_type": "code",
   "execution_count": 341,
   "metadata": {},
   "outputs": [
    {
     "data": {
      "text/plain": [
       "array([[ 6,  7, 12,  6,  6,  1,  1, 11,  1, 19, 21, 13, 16,  9],\n",
       "       [ 1,  6,  7,  3,  7, 19, 19, 19, 19, 21,  7, 12, 13, 16],\n",
       "       [ 3,  4, 16, 20,  3, 15, 15, 10, 13, 14, 14,  2, 15, 15],\n",
       "       [15,  3, 15, 18, 13, 12, 12,  9, 11, 13, 12, 14, 14, 14],\n",
       "       [13, 18, 14,  7,  4, 13, 13,  1, 12, 16, 20, 16, 19,  6],\n",
       "       [ 4,  5,  6, 10,  9,  6,  6,  6, 20, 20, 13, 15, 12,  7],\n",
       "       [14, 11, 13, 17, 10, 16, 16, 20,  3,  7, 22, 18,  2, 10],\n",
       "       [12, 10, 11, 11, 22, 11, 11,  8, 15, 15, 15, 17,  9, 13],\n",
       "       [16,  9, 19,  4, 15, 10, 10, 13, 10, 12, 16, 11, 21,  4],\n",
       "       [20, 17,  8,  8,  8,  3,  3, 15,  6,  6, 19, 19,  7, 21],\n",
       "       [ 5,  2, 17, 22, 16,  9,  9, 12, 14, 22, 10,  6, 20, 12],\n",
       "       [17,  8, 10, 15, 11, 14, 14,  2,  9,  3,  6, 22, 23, 19],\n",
       "       [19, 22,  1, 16,  2,  8,  8,  3,  4,  2,  8, 20,  6,  3],\n",
       "       [21, 20, 20,  9, 21, 20, 20, 18,  8, 10,  3,  3,  1,  2],\n",
       "       [ 7, 14, 22, 21,  5,  4,  4, 14,  5,  5, 11,  4, 22, 11],\n",
       "       [22, 13, 21, 12, 20, 17, 17, 17, 16,  9,  9, 21,  4,  8],\n",
       "       [18, 21,  3, 14, 14, 18, 18, 21, 18,  4, 23, 23,  3,  5],\n",
       "       [11, 16,  9, 13, 18,  5,  5, 22, 17, 23, 17,  5, 18, 22],\n",
       "       [23, 12,  5,  5, 17,  7,  7,  7,  7, 17,  2, 10, 11, 23],\n",
       "       [10, 15,  4,  1, 19,  2,  2,  5, 21, 18,  4,  8, 17, 20],\n",
       "       [ 9, 23,  2, 23, 12, 21, 21,  4,  2,  8,  5,  1, 10,  1],\n",
       "       [ 8, 19, 23,  2, 23, 22, 22, 23, 23, 11, 18,  7,  5, 18],\n",
       "       [ 2,  1, 18, 19,  1, 23, 23, 16, 22,  1,  1,  9,  8, 17]])"
      ]
     },
     "execution_count": 341,
     "metadata": {},
     "output_type": "execute_result"
    }
   ],
   "source": [
    "cos_sim.argsort(axis=0)[::-1]+1"
   ]
  },
  {
   "cell_type": "code",
   "execution_count": 342,
   "metadata": {},
   "outputs": [
    {
     "data": {
      "text/plain": [
       "(array([ True,  True,  True,  True,  True,  True,  True,  True,  True,\n",
       "         True,  True,  True,  True,  True]),\n",
       " array([False, False, False, False, False,  True,  True, False,  True,\n",
       "        False, False, False, False, False]))"
      ]
     },
     "execution_count": 342,
     "metadata": {},
     "output_type": "execute_result"
    }
   ],
   "source": [
    "cos_sim.max(axis=0) >0.35, (cos_sim.argsort(axis=0)[::-1]+1)[0] == ref"
   ]
  },
  {
   "cell_type": "code",
   "execution_count": 343,
   "metadata": {},
   "outputs": [
    {
     "data": {
      "text/plain": [
       "array([0.44310095, 0.4814037 , 0.45112654, 0.4428154 , 0.49522262,\n",
       "       0.66785743, 0.66785743, 0.38735602, 0.46998657, 0.56095344,\n",
       "       0.41907491, 0.52554758, 0.54551645, 0.59346361])"
      ]
     },
     "execution_count": 343,
     "metadata": {},
     "output_type": "execute_result"
    }
   ],
   "source": [
    "cos_sim.max(axis=0)"
   ]
  },
  {
   "cell_type": "code",
   "execution_count": 344,
   "metadata": {},
   "outputs": [
    {
     "data": {
      "text/plain": [
       "array([ True,  True,  True,  True,  True,  True,  True,  True,  True,\n",
       "        True,  True,  True, False,  True,  True,  True,  True,  True,\n",
       "       False,  True,  True, False,  True,  True,  True,  True, False,\n",
       "        True,  True,  True,  True, False,  True,  True,  True,  True,\n",
       "        True,  True,  True, False, False, False,  True, False,  True,\n",
       "        True,  True,  True,  True,  True,  True, False,  True,  True,\n",
       "        True,  True,  True,  True,  True,  True,  True,  True, False,\n",
       "        True,  True,  True,  True,  True,  True,  True,  True, False,\n",
       "        True,  True,  True,  True,  True,  True,  True,  True,  True,\n",
       "        True, False, False])"
      ]
     },
     "execution_count": 344,
     "metadata": {},
     "output_type": "execute_result"
    }
   ],
   "source": [
    "a = embeddings_annex\n",
    "b = lowrisk\n",
    "cos_sim = 1 - sp.distance.cdist(a, b, 'cosine')\n",
    "cos_sim.argmax(0)\n",
    "cos_sim.max(axis=0) > 0.35"
   ]
  },
  {
   "cell_type": "code",
   "execution_count": 345,
   "metadata": {},
   "outputs": [
    {
     "data": {
      "text/plain": [
       "array([[ 2,  2,  4,  6,  9, 16, 18, 21, 11, 19],\n",
       "       [ 7, 16, 20,  7,  8, 14, 17, 16,  6, 15],\n",
       "       [ 6, 11,  6, 18, 20, 15, 20, 14, 13, 16],\n",
       "       [ 4, 12,  5,  3, 10, 12,  6, 15,  2,  1],\n",
       "       [16,  6,  3, 17, 11, 13, 19, 12,  7,  9],\n",
       "       [ 3, 18, 14, 20, 16,  2, 16, 22, 21, 13],\n",
       "       [ 5, 13, 12,  4,  6, 21, 10, 13, 16, 20],\n",
       "       [21, 14,  9, 10, 18, 18,  8, 20, 19, 14],\n",
       "       [11, 15, 18, 16, 15, 17, 11, 23, 10, 18],\n",
       "       [14, 17, 19, 11,  2, 22,  3,  6,  8, 12],\n",
       "       [22, 20, 16,  5, 17, 11, 15,  9, 23,  6],\n",
       "       [15, 19, 15, 14, 19,  6, 22, 17,  9, 17],\n",
       "       [13,  5, 11, 15, 14, 23,  9, 18, 22,  8],\n",
       "       [10, 21, 17, 22, 12, 20, 13, 19, 12,  3],\n",
       "       [ 9, 22, 13,  2,  3, 19, 12, 11, 20, 22],\n",
       "       [20,  3, 21,  8, 13,  9, 14,  7,  5, 11],\n",
       "       [12,  4, 22, 12, 22,  7,  4,  2, 14, 10],\n",
       "       [23, 10,  7, 21, 21,  3,  5,  5, 17, 21],\n",
       "       [ 8,  7,  8,  9,  7, 10, 21,  8, 18,  2],\n",
       "       [18,  9, 10,  1,  4,  4, 23,  3, 15,  5],\n",
       "       [19,  8,  2, 19, 23,  8,  2, 10,  4, 23],\n",
       "       [17, 23, 23, 13,  5,  5,  1,  4,  3,  4],\n",
       "       [ 1,  1,  1, 23,  1,  1,  7,  1,  1,  7]])"
      ]
     },
     "execution_count": 345,
     "metadata": {},
     "output_type": "execute_result"
    }
   ],
   "source": [
    "a = embeddings_annex\n",
    "b = embeddings_moritz\n",
    "cos_sim = 1 - sp.distance.cdist(a, b, 'cosine')\n",
    "cos_sim.argmax(0)\n",
    "ref = np.arange(1,11)\n",
    "cos_sim.argsort(axis=0)[::-1]+1"
   ]
  },
  {
   "cell_type": "code",
   "execution_count": 346,
   "metadata": {},
   "outputs": [
    {
     "data": {
      "text/plain": [
       "['Common challenges for production teams are an increase in product variations, shorter cycle times, high quality standards, hard competition and a general cost pressure. In this context, AI can help increase productivity and to free employees: to free the inside of recurring tasks. The integration of AI systems in the production control and monitoring enables the constant analysis of data from the shoplors, which the system then uses to make intelligent adjustments to the function parameters of the physical resources. The aim is to automatically control these physical resources and optimize your parameters with regard to working conditions.',\n",
       " '\\nThe AI is used to navigate airplanes when approaching airports. This shall\\nprevent aircrafts from crashing without human supervision. The AI takes into\\naccount the characteristics of the airplane, weather data as well as the\\nlocation of all planes nearby. This AI can be used by airports who want to\\nincrease security in the air.',\n",
       " 'The AI is used to evaluate the performance of test takers in a language test.\\nThis language test is a prerequisite for students who want to study abroad or\\npeople who want to prove their language knowledge to possible foreign\\nemployers. The AI is able to score the spoken word more effectively than\\nhumans because of the ability to evaluate more data that can go unnoticed for\\nhumans. This technology would be used by testing facilities who want to\\nimprove their scoring mechanisms.',\n",
       " 'Choosing the right employee can be hard for companies when replacing a\\nleaving worker. In order to pick the right candidate an AI is used here to\\nchoose an applicant which is most similar to the current successful one. AIs\\ncan take into account more data than human hiring managers can. This would\\nbe used by companies which want to improve their hiring position when\\nreplacing leaving workers.',\n",
       " 'The government offers services to people in critical financial situations. These\\nresources are sometimes exploited by persons who are not really in need. In\\norder to find out if people are actually in need for support an AI could be used\\nthat uses geological data of applicants as well as purchasing data. The\\nresulting score could be used to prevent lying help seekers from abusing\\nthese services.',\n",
       " 'In most cases the police is not present when a crime happens. This allows\\nperpetrators to commit a crime and still flee. In order to prevent police from\\nbeing too late an AI can be used to predict locations of future crimes. The\\npolice can then monitor these places to prevent eventual crime and stop\\nlawbreakers from escaping. This technology would be used by the police.',\n",
       " 'Many people seek asylum in European states. Because of the law of the\\ncountry, they seek asylum in, not everybody is accepted. An AI can score\\nasylum seekers with more data points then humans can and therefore only\\naccept the most promising applicants who are predicted to integrate well. This\\ntechnology could be used by the government.',\n",
       " 'Many countries are lacking judges currently. This leads to long waiting times\\nin court while cases are steadily increasing. Law enforcement therefore\\nbecomes less effective and small crimes are not punished because of this\\nresource shortage. AI can be used here to replace the judge for minor crimes.\\nThis technology would be used by courts which want to deal with the shortage\\nof judges.',\n",
       " 'During holiday times in the summer the amount of interesting news declines.\\nThis is a threat to the sales numbers of publications. In order to deal with the\\nlack of events that actually happen an AI could be used to generate fictional\\nevents. The generated stories can then be published via social media and the\\npublication in order to drive traffic and sales numbers in the absence of real\\nnews. Newspaper companies would use this technology.',\n",
       " 'In Germany it can be hard to open a bank account for criminals. In order to combat this\\nbarrier, criminals can use AI to change their appearance as well as their voice in front of a\\ncamera when remotely opening a bank account. This would allow them to participate in\\nonline banking as well as to send and receive money. People who would normally not be\\nallowed to open a bank account could use this technology.']"
      ]
     },
     "execution_count": 346,
     "metadata": {},
     "output_type": "execute_result"
    }
   ],
   "source": [
    "sentences_moritz"
   ]
  },
  {
   "cell_type": "code",
   "execution_count": 347,
   "metadata": {},
   "outputs": [
    {
     "data": {
      "text/plain": [
       "array([ True,  True,  True,  True,  True,  True,  True,  True, False,\n",
       "        True])"
      ]
     },
     "execution_count": 347,
     "metadata": {},
     "output_type": "execute_result"
    }
   ],
   "source": [
    "cos_sim.max(axis=0) > 0.45"
   ]
  },
  {
   "cell_type": "code",
   "execution_count": 348,
   "metadata": {},
   "outputs": [
    {
     "data": {
      "text/plain": [
       "array([False,  True, False, False, False, False, False, False, False,\n",
       "       False])"
      ]
     },
     "execution_count": 348,
     "metadata": {},
     "output_type": "execute_result"
    }
   ],
   "source": [
    "cos_sim.argmax(axis=0)+1  ==ref"
   ]
  },
  {
   "cell_type": "code",
   "execution_count": 349,
   "metadata": {},
   "outputs": [],
   "source": [
    "knn = KNeighborsClassifier(n_neighbors=3)"
   ]
  },
  {
   "cell_type": "code",
   "execution_count": 350,
   "metadata": {},
   "outputs": [
    {
     "data": {
      "text/html": [
       "<style>#sk-container-id-9 {color: black;background-color: white;}#sk-container-id-9 pre{padding: 0;}#sk-container-id-9 div.sk-toggleable {background-color: white;}#sk-container-id-9 label.sk-toggleable__label {cursor: pointer;display: block;width: 100%;margin-bottom: 0;padding: 0.3em;box-sizing: border-box;text-align: center;}#sk-container-id-9 label.sk-toggleable__label-arrow:before {content: \"▸\";float: left;margin-right: 0.25em;color: #696969;}#sk-container-id-9 label.sk-toggleable__label-arrow:hover:before {color: black;}#sk-container-id-9 div.sk-estimator:hover label.sk-toggleable__label-arrow:before {color: black;}#sk-container-id-9 div.sk-toggleable__content {max-height: 0;max-width: 0;overflow: hidden;text-align: left;background-color: #f0f8ff;}#sk-container-id-9 div.sk-toggleable__content pre {margin: 0.2em;color: black;border-radius: 0.25em;background-color: #f0f8ff;}#sk-container-id-9 input.sk-toggleable__control:checked~div.sk-toggleable__content {max-height: 200px;max-width: 100%;overflow: auto;}#sk-container-id-9 input.sk-toggleable__control:checked~label.sk-toggleable__label-arrow:before {content: \"▾\";}#sk-container-id-9 div.sk-estimator input.sk-toggleable__control:checked~label.sk-toggleable__label {background-color: #d4ebff;}#sk-container-id-9 div.sk-label input.sk-toggleable__control:checked~label.sk-toggleable__label {background-color: #d4ebff;}#sk-container-id-9 input.sk-hidden--visually {border: 0;clip: rect(1px 1px 1px 1px);clip: rect(1px, 1px, 1px, 1px);height: 1px;margin: -1px;overflow: hidden;padding: 0;position: absolute;width: 1px;}#sk-container-id-9 div.sk-estimator {font-family: monospace;background-color: #f0f8ff;border: 1px dotted black;border-radius: 0.25em;box-sizing: border-box;margin-bottom: 0.5em;}#sk-container-id-9 div.sk-estimator:hover {background-color: #d4ebff;}#sk-container-id-9 div.sk-parallel-item::after {content: \"\";width: 100%;border-bottom: 1px solid gray;flex-grow: 1;}#sk-container-id-9 div.sk-label:hover label.sk-toggleable__label {background-color: #d4ebff;}#sk-container-id-9 div.sk-serial::before {content: \"\";position: absolute;border-left: 1px solid gray;box-sizing: border-box;top: 0;bottom: 0;left: 50%;z-index: 0;}#sk-container-id-9 div.sk-serial {display: flex;flex-direction: column;align-items: center;background-color: white;padding-right: 0.2em;padding-left: 0.2em;position: relative;}#sk-container-id-9 div.sk-item {position: relative;z-index: 1;}#sk-container-id-9 div.sk-parallel {display: flex;align-items: stretch;justify-content: center;background-color: white;position: relative;}#sk-container-id-9 div.sk-item::before, #sk-container-id-9 div.sk-parallel-item::before {content: \"\";position: absolute;border-left: 1px solid gray;box-sizing: border-box;top: 0;bottom: 0;left: 50%;z-index: -1;}#sk-container-id-9 div.sk-parallel-item {display: flex;flex-direction: column;z-index: 1;position: relative;background-color: white;}#sk-container-id-9 div.sk-parallel-item:first-child::after {align-self: flex-end;width: 50%;}#sk-container-id-9 div.sk-parallel-item:last-child::after {align-self: flex-start;width: 50%;}#sk-container-id-9 div.sk-parallel-item:only-child::after {width: 0;}#sk-container-id-9 div.sk-dashed-wrapped {border: 1px dashed gray;margin: 0 0.4em 0.5em 0.4em;box-sizing: border-box;padding-bottom: 0.4em;background-color: white;}#sk-container-id-9 div.sk-label label {font-family: monospace;font-weight: bold;display: inline-block;line-height: 1.2em;}#sk-container-id-9 div.sk-label-container {text-align: center;}#sk-container-id-9 div.sk-container {/* jupyter's `normalize.less` sets `[hidden] { display: none; }` but bootstrap.min.css set `[hidden] { display: none !important; }` so we also need the `!important` here to be able to override the default hidden behavior on the sphinx rendered scikit-learn.org. See: https://github.com/scikit-learn/scikit-learn/issues/21755 */display: inline-block !important;position: relative;}#sk-container-id-9 div.sk-text-repr-fallback {display: none;}</style><div id=\"sk-container-id-9\" class=\"sk-top-container\"><div class=\"sk-text-repr-fallback\"><pre>KNeighborsClassifier(n_neighbors=3)</pre><b>In a Jupyter environment, please rerun this cell to show the HTML representation or trust the notebook. <br />On GitHub, the HTML representation is unable to render, please try loading this page with nbviewer.org.</b></div><div class=\"sk-container\" hidden><div class=\"sk-item\"><div class=\"sk-estimator sk-toggleable\"><input class=\"sk-toggleable__control sk-hidden--visually\" id=\"sk-estimator-id-9\" type=\"checkbox\" checked><label for=\"sk-estimator-id-9\" class=\"sk-toggleable__label sk-toggleable__label-arrow\">KNeighborsClassifier</label><div class=\"sk-toggleable__content\"><pre>KNeighborsClassifier(n_neighbors=3)</pre></div></div></div></div></div>"
      ],
      "text/plain": [
       "KNeighborsClassifier(n_neighbors=3)"
      ]
     },
     "execution_count": 350,
     "metadata": {},
     "output_type": "execute_result"
    }
   ],
   "source": [
    "train_gen_y = df_gen[\"tags\"].to_list() + [\"low-risk\" for _ in range(len(X_train[X_train[\"risk\"] == \"low-risk\"][\"desc\"]))]\n",
    "\n",
    "knn.fit(embeddings_gen, train_gen_y)\n",
    "\n"
   ]
  },
  {
   "cell_type": "code",
   "execution_count": 351,
   "metadata": {},
   "outputs": [],
   "source": [
    "cos_sim = 1 - sp.distance.cdist(embeddings_annex, embeddings_test, 'cosine')\n",
    "cos_sim.argmax(0)\n",
    "\n",
    "pred = knn.predict(embeddings_test)\n",
    "y_true = X_test[\"risk\"].to_list() + [\"high-risk\" for _ in range(len(X_train[X_train[\"risk\"] == \"high-risk\"][\"desc\"]))]\n"
   ]
  },
  {
   "cell_type": "code",
   "execution_count": 374,
   "metadata": {},
   "outputs": [
    {
     "data": {
      "text/html": [
       "<div>\n",
       "<style scoped>\n",
       "    .dataframe tbody tr th:only-of-type {\n",
       "        vertical-align: middle;\n",
       "    }\n",
       "\n",
       "    .dataframe tbody tr th {\n",
       "        vertical-align: top;\n",
       "    }\n",
       "\n",
       "    .dataframe thead th {\n",
       "        text-align: right;\n",
       "    }\n",
       "</style>\n",
       "<table border=\"1\" class=\"dataframe\">\n",
       "  <thead>\n",
       "    <tr style=\"text-align: right;\">\n",
       "      <th></th>\n",
       "      <th>0</th>\n",
       "    </tr>\n",
       "  </thead>\n",
       "  <tbody>\n",
       "    <tr>\n",
       "      <th>12</th>\n",
       "      <td>Law enforcement:AI systems intended to be used...</td>\n",
       "    </tr>\n",
       "    <tr>\n",
       "      <th>5</th>\n",
       "      <td>Education and vocational training:AI systems i...</td>\n",
       "    </tr>\n",
       "    <tr>\n",
       "      <th>15</th>\n",
       "      <td>Law enforcement:AI systems intended to be used...</td>\n",
       "    </tr>\n",
       "    <tr>\n",
       "      <th>5</th>\n",
       "      <td>Education and vocational training:AI systems i...</td>\n",
       "    </tr>\n",
       "    <tr>\n",
       "      <th>1</th>\n",
       "      <td>Categorisation of natural persons:AI systems i...</td>\n",
       "    </tr>\n",
       "    <tr>\n",
       "      <th>12</th>\n",
       "      <td>Law enforcement:AI systems intended to be used...</td>\n",
       "    </tr>\n",
       "    <tr>\n",
       "      <th>1</th>\n",
       "      <td>Categorisation of natural persons:AI systems i...</td>\n",
       "    </tr>\n",
       "    <tr>\n",
       "      <th>0</th>\n",
       "      <td>Biometric identificationAI systems intended to...</td>\n",
       "    </tr>\n",
       "    <tr>\n",
       "      <th>5</th>\n",
       "      <td>Education and vocational training:AI systems i...</td>\n",
       "    </tr>\n",
       "    <tr>\n",
       "      <th>10</th>\n",
       "      <td>Access to and enjoyment of essential private s...</td>\n",
       "    </tr>\n",
       "    <tr>\n",
       "      <th>12</th>\n",
       "      <td>Law enforcement:AI systems intended to be used...</td>\n",
       "    </tr>\n",
       "    <tr>\n",
       "      <th>2</th>\n",
       "      <td>Management and operation of critical infrastru...</td>\n",
       "    </tr>\n",
       "    <tr>\n",
       "      <th>12</th>\n",
       "      <td>Law enforcement:AI systems intended to be used...</td>\n",
       "    </tr>\n",
       "    <tr>\n",
       "      <th>15</th>\n",
       "      <td>Law enforcement:AI systems intended to be used...</td>\n",
       "    </tr>\n",
       "    <tr>\n",
       "      <th>20</th>\n",
       "      <td>Administration of justice and democratic proce...</td>\n",
       "    </tr>\n",
       "    <tr>\n",
       "      <th>12</th>\n",
       "      <td>Law enforcement:AI systems intended to be used...</td>\n",
       "    </tr>\n",
       "    <tr>\n",
       "      <th>3</th>\n",
       "      <td>Education and vocational training:AI systems i...</td>\n",
       "    </tr>\n",
       "    <tr>\n",
       "      <th>12</th>\n",
       "      <td>Law enforcement:AI systems intended to be used...</td>\n",
       "    </tr>\n",
       "    <tr>\n",
       "      <th>10</th>\n",
       "      <td>Access to and enjoyment of essential private s...</td>\n",
       "    </tr>\n",
       "    <tr>\n",
       "      <th>15</th>\n",
       "      <td>Law enforcement:AI systems intended to be used...</td>\n",
       "    </tr>\n",
       "    <tr>\n",
       "      <th>18</th>\n",
       "      <td>Migration, asylum and border control managemen...</td>\n",
       "    </tr>\n",
       "    <tr>\n",
       "      <th>0</th>\n",
       "      <td>Biometric identificationAI systems intended to...</td>\n",
       "    </tr>\n",
       "    <tr>\n",
       "      <th>1</th>\n",
       "      <td>Categorisation of natural persons:AI systems i...</td>\n",
       "    </tr>\n",
       "    <tr>\n",
       "      <th>12</th>\n",
       "      <td>Law enforcement:AI systems intended to be used...</td>\n",
       "    </tr>\n",
       "    <tr>\n",
       "      <th>15</th>\n",
       "      <td>Law enforcement:AI systems intended to be used...</td>\n",
       "    </tr>\n",
       "    <tr>\n",
       "      <th>17</th>\n",
       "      <td>Migration, asylum and border control managemen...</td>\n",
       "    </tr>\n",
       "    <tr>\n",
       "      <th>5</th>\n",
       "      <td>Education and vocational training:AI systems i...</td>\n",
       "    </tr>\n",
       "    <tr>\n",
       "      <th>1</th>\n",
       "      <td>Categorisation of natural persons:AI systems i...</td>\n",
       "    </tr>\n",
       "    <tr>\n",
       "      <th>1</th>\n",
       "      <td>Categorisation of natural persons:AI systems i...</td>\n",
       "    </tr>\n",
       "    <tr>\n",
       "      <th>2</th>\n",
       "      <td>Management and operation of critical infrastru...</td>\n",
       "    </tr>\n",
       "    <tr>\n",
       "      <th>5</th>\n",
       "      <td>Education and vocational training:AI systems i...</td>\n",
       "    </tr>\n",
       "    <tr>\n",
       "      <th>18</th>\n",
       "      <td>Migration, asylum and border control managemen...</td>\n",
       "    </tr>\n",
       "    <tr>\n",
       "      <th>8</th>\n",
       "      <td>Access to and enjoyment of essential private s...</td>\n",
       "    </tr>\n",
       "    <tr>\n",
       "      <th>5</th>\n",
       "      <td>Education and vocational training:AI systems i...</td>\n",
       "    </tr>\n",
       "    <tr>\n",
       "      <th>0</th>\n",
       "      <td>Biometric identificationAI systems intended to...</td>\n",
       "    </tr>\n",
       "    <tr>\n",
       "      <th>20</th>\n",
       "      <td>Administration of justice and democratic proce...</td>\n",
       "    </tr>\n",
       "    <tr>\n",
       "      <th>6</th>\n",
       "      <td>Employment, workers management and access to s...</td>\n",
       "    </tr>\n",
       "    <tr>\n",
       "      <th>5</th>\n",
       "      <td>Education and vocational training:AI systems i...</td>\n",
       "    </tr>\n",
       "    <tr>\n",
       "      <th>15</th>\n",
       "      <td>Law enforcement:AI systems intended to be used...</td>\n",
       "    </tr>\n",
       "    <tr>\n",
       "      <th>11</th>\n",
       "      <td>Access to and enjoyment of essential private s...</td>\n",
       "    </tr>\n",
       "  </tbody>\n",
       "</table>\n",
       "</div>"
      ],
      "text/plain": [
       "                                                    0\n",
       "12  Law enforcement:AI systems intended to be used...\n",
       "5   Education and vocational training:AI systems i...\n",
       "15  Law enforcement:AI systems intended to be used...\n",
       "5   Education and vocational training:AI systems i...\n",
       "1   Categorisation of natural persons:AI systems i...\n",
       "12  Law enforcement:AI systems intended to be used...\n",
       "1   Categorisation of natural persons:AI systems i...\n",
       "0   Biometric identificationAI systems intended to...\n",
       "5   Education and vocational training:AI systems i...\n",
       "10  Access to and enjoyment of essential private s...\n",
       "12  Law enforcement:AI systems intended to be used...\n",
       "2   Management and operation of critical infrastru...\n",
       "12  Law enforcement:AI systems intended to be used...\n",
       "15  Law enforcement:AI systems intended to be used...\n",
       "20  Administration of justice and democratic proce...\n",
       "12  Law enforcement:AI systems intended to be used...\n",
       "3   Education and vocational training:AI systems i...\n",
       "12  Law enforcement:AI systems intended to be used...\n",
       "10  Access to and enjoyment of essential private s...\n",
       "15  Law enforcement:AI systems intended to be used...\n",
       "18  Migration, asylum and border control managemen...\n",
       "0   Biometric identificationAI systems intended to...\n",
       "1   Categorisation of natural persons:AI systems i...\n",
       "12  Law enforcement:AI systems intended to be used...\n",
       "15  Law enforcement:AI systems intended to be used...\n",
       "17  Migration, asylum and border control managemen...\n",
       "5   Education and vocational training:AI systems i...\n",
       "1   Categorisation of natural persons:AI systems i...\n",
       "1   Categorisation of natural persons:AI systems i...\n",
       "2   Management and operation of critical infrastru...\n",
       "5   Education and vocational training:AI systems i...\n",
       "18  Migration, asylum and border control managemen...\n",
       "8   Access to and enjoyment of essential private s...\n",
       "5   Education and vocational training:AI systems i...\n",
       "0   Biometric identificationAI systems intended to...\n",
       "20  Administration of justice and democratic proce...\n",
       "6   Employment, workers management and access to s...\n",
       "5   Education and vocational training:AI systems i...\n",
       "15  Law enforcement:AI systems intended to be used...\n",
       "11  Access to and enjoyment of essential private s..."
      ]
     },
     "execution_count": 374,
     "metadata": {},
     "output_type": "execute_result"
    }
   ],
   "source": [
    "df_annex.iloc[cos_sim.argmax(axis=0)]"
   ]
  },
  {
   "cell_type": "code",
   "execution_count": 375,
   "metadata": {},
   "outputs": [
    {
     "data": {
      "text/plain": [
       "array([0.40767375, 0.38564087, 0.31452026, 0.37699184, 0.370271  ,\n",
       "       0.37102603, 0.43935176, 0.66785743, 0.37699184, 0.38740202,\n",
       "       0.50013361, 0.48163474, 0.52556046, 0.49297625, 0.39462833,\n",
       "       0.37944595, 0.23435247, 0.41029386, 0.42153893, 0.44930477,\n",
       "       0.46216401, 0.66785743, 0.46991086, 0.50013361, 0.42855214,\n",
       "       0.40182613, 0.42609654, 0.38387329, 0.6292316 , 0.4904913 ,\n",
       "       0.49522262, 0.56096447, 0.59347095, 0.44310095, 0.46998614,\n",
       "       0.41902181, 0.48142359, 0.4428154 , 0.54549266, 0.45112654])"
      ]
     },
     "execution_count": 375,
     "metadata": {},
     "output_type": "execute_result"
    }
   ],
   "source": [
    "cos_sim.max(0)"
   ]
  },
  {
   "cell_type": "code",
   "execution_count": 398,
   "metadata": {},
   "outputs": [
    {
     "name": "stdout",
     "output_type": "stream",
     "text": [
      "True 0.4076737491470729 low-risk low-risk Law enforcement:AI s\n",
      "True 0.3856408683878154 low-risk low-risk Education and vocati\n",
      "True 0.31452026050493775 categorisation of people low-risk Law enforcement:AI s\n",
      "True 0.37699183784180845 low-risk low-risk Education and vocati\n",
      "True 0.3702709980614809 low-risk low-risk Categorisation of na\n",
      "True 0.37102602920722894 low-risk low-risk Law enforcement:AI s\n",
      "False 0.43935176310792 low-risk low-risk Categorisation of na\n",
      "True 0.6678574343377548 biometric identification high-risk Biometric identifica\n",
      "True 0.37699183784180845 low-risk low-risk Education and vocati\n",
      "True 0.38740202405561863 biometric identification high-risk Access to and enjoym\n",
      "True 0.5001336126903231 low-risk low-risk Law enforcement:AI s\n",
      "False 0.48163474203215406 counting votes low-risk Management and opera\n",
      "False 0.5255604573876357 border control management high-risk Law enforcement:AI s\n",
      "True 0.4929762549116319 biometric identification low-risk Law enforcement:AI s\n",
      "False 0.394628332171853 legal documents generation low-risk Administration of ju\n",
      "True 0.37944594894740113 low-risk low-risk Law enforcement:AI s\n",
      "True 0.23435246997752368 low-risk low-risk Education and vocati\n",
      "True 0.41029386399000556 low-risk low-risk Law enforcement:AI s\n",
      "False 0.42153893195814385 low-risk low-risk Access to and enjoym\n",
      "True 0.4493047661733325 low-risk low-risk Law enforcement:AI s\n",
      "False 0.46216400688479164 low-risk low-risk Migration, asylum an\n",
      "True 0.6678574343377548 biometric identification high-risk Biometric identifica\n",
      "False 0.469910863245506 low-risk low-risk Categorisation of na\n",
      "True 0.5001336126903231 low-risk low-risk Law enforcement:AI s\n",
      "True 0.4285521370833354 low-risk low-risk Law enforcement:AI s\n",
      "False 0.40182613153938074 low-risk low-risk Migration, asylum an\n",
      "False 0.4260965399864428 low-risk low-risk Education and vocati\n",
      "False 0.38387328538631105 access to self-employment low-risk Categorisation of na\n",
      "False 0.6292316015458301 low-risk low-risk Categorisation of na\n",
      "False 0.49049130471045965 counting votes low-risk Management and opera\n",
      "True 0.49522262250940186 low-risk high-risk Education and vocati\n",
      "True 0.5609644741694466 legal documents generation high-risk Migration, asylum an\n",
      "True 0.5934709487138647 low-risk high-risk Access to and enjoym\n",
      "True 0.44310095164022634 low-risk high-risk Education and vocati\n",
      "True 0.469986142945676 biometric identification high-risk Biometric identifica\n",
      "True 0.4190218126849192 low-risk high-risk Administration of ju\n",
      "True 0.4814235946221419 human resources services high-risk Employment, workers \n",
      "True 0.4428153984543668 low-risk high-risk Education and vocati\n",
      "True 0.5454926644992544 low-risk high-risk Law enforcement:AI s\n",
      "True 0.451126536709906 biometric identification high-risk Access to and enjoym\n"
     ]
    }
   ],
   "source": [
    "def predict(s, p,cl):\n",
    "    \n",
    "    if cl.startswith(\"Law enforcement:A\"):\n",
    "        if s > 0.53:\n",
    "            return \"high-risk\"\n",
    "        if s > 0.4 and p == \"high-risk\":\n",
    "            return \"high-risk\"\n",
    "        return \"low-risk\"\n",
    "    \n",
    "    if p != \"low-risk\":\n",
    "        if s > 0.35:\n",
    "            return \"high-risk\"\n",
    "    if s > 0.4:\n",
    "        return \"high-risk\"\n",
    "    return p\n",
    "\n",
    "\n",
    "for s, p, y, cl in zip(cos_sim.max(0), pred, y_true, df_annex.iloc[cos_sim.argmax(axis=0)][0].to_list()):\n",
    "    print(True if predict(s, p, cl) == y else False, s, p, y, cl[:20])"
   ]
  },
  {
   "cell_type": "code",
   "execution_count": 399,
   "metadata": {},
   "outputs": [],
   "source": [
    "from sklearn.metrics import plot_confusion_matrix"
   ]
  },
  {
   "cell_type": "code",
   "execution_count": 354,
   "metadata": {},
   "outputs": [
    {
     "name": "stderr",
     "output_type": "stream",
     "text": [
      "/storage/brno2/home/xstary1/brno6/.local-adv.SIF/lib/python3.8/site-packages/sklearn/utils/deprecation.py:87: FutureWarning: Function plot_confusion_matrix is deprecated; Function `plot_confusion_matrix` is deprecated in 1.0 and will be removed in 1.2. Use one of the class methods: ConfusionMatrixDisplay.from_predictions or ConfusionMatrixDisplay.from_estimator.\n",
      "  warnings.warn(msg, category=FutureWarning)\n"
     ]
    },
    {
     "data": {
      "text/plain": [
       "<sklearn.metrics._plot.confusion_matrix.ConfusionMatrixDisplay at 0x153a02d31160>"
      ]
     },
     "execution_count": 354,
     "metadata": {},
     "output_type": "execute_result"
    },
    {
     "data": {
      "image/png": "[encoded data removed]",
      "text/plain": [
       "<Figure size 2160x2160 with 2 Axes>"
      ]
     },
     "metadata": {
      "needs_background": "light"
     },
     "output_type": "display_data"
    }
   ],
   "source": [
    "fig,ax = plt.subplots(figsize=(30,30))\n",
    "plot_confusion_matrix(knn, embeddings_test, X_test[\"risk\"].to_list() + [\"high-risk\" for _ in range(len(X_train[X_train[\"risk\"] == \"high-risk\"][\"desc\"]))], ax=ax)"
   ]
  },
  {
   "cell_type": "code",
   "execution_count": null,
   "metadata": {},
   "outputs": [],
   "source": []
  },
  {
   "cell_type": "code",
   "execution_count": 355,
   "metadata": {},
   "outputs": [
    {
     "data": {
      "text/plain": [
       "0.5705882352941176"
      ]
     },
     "execution_count": 355,
     "metadata": {},
     "output_type": "execute_result"
    }
   ],
   "source": [
    "from sklearn.model_selection import cross_val_score\n",
    "from sklearn.metrics import balanced_accuracy_score, get_scorer, make_scorer\n",
    "scs = cross_val_score(knn, embeddings_cross, df[\"risk\"], scoring=make_scorer(balanced_accuracy_score))\n",
    "scs.mean()"
   ]
  },
  {
   "cell_type": "code",
   "execution_count": null,
   "metadata": {},
   "outputs": [],
   "source": []
  },
  {
   "cell_type": "code",
   "execution_count": 356,
   "metadata": {},
   "outputs": [],
   "source": [
    "class CLF():\n",
    "    def __init__():\n",
    "        pass\n",
    "    "
   ]
  },
  {
   "cell_type": "code",
   "execution_count": null,
   "metadata": {},
   "outputs": [],
   "source": []
  },
  {
   "cell_type": "code",
   "execution_count": null,
   "metadata": {},
   "outputs": [],
   "source": []
  },
  {
   "cell_type": "code",
   "execution_count": null,
   "metadata": {},
   "outputs": [],
   "source": []
  },
  {
   "cell_type": "code",
   "execution_count": null,
   "metadata": {},
   "outputs": [],
   "source": []
  },
  {
   "cell_type": "code",
   "execution_count": null,
   "metadata": {},
   "outputs": [],
   "source": []
  }
 ],
 "metadata": {
  "kernelspec": {
   "display_name": "Python 3 (ipykernel)",
   "language": "python",
   "name": "python3"
  },
  "language_info": {
   "codemirror_mode": {
    "name": "ipython",
    "version": 3
   },
   "file_extension": ".py",
   "mimetype": "text/x-python",
   "name": "python",
   "nbconvert_exporter": "python",
   "pygments_lexer": "ipython3",
   "version": "3.8.12"
  }
 },
 "nbformat": 4,
 "nbformat_minor": 4
}
