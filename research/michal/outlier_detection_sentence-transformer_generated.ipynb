{
 "cells": [
  {
   "cell_type": "code",
   "execution_count": 206,
   "metadata": {},
   "outputs": [],
   "source": [
    "import pandas as pd\n",
    "\n",
    "df = pd.read_excel(\"data/appliedAI_Use Case Library - Risk Class_TUM.ai.xlsx\", index_col=None, header=2)\n",
    "df_gen = pd.read_csv(\"data/generated_ideas (2).csv\")"
   ]
  },
  {
   "cell_type": "code",
   "execution_count": 207,
   "metadata": {},
   "outputs": [
    {
     "name": "stdout",
     "output_type": "stream",
     "text": [
      "huggingface/tokenizers: The current process just got forked, after parallelism has already been used. Disabling parallelism to avoid deadlocks...\n",
      "To disable this warning, you can either:\n",
      "\t- Avoid using `tokenizers` before the fork if possible\n",
      "\t- Explicitly set the environment variable TOKENIZERS_PARALLELISM=(true | false)\n",
      "/auto/brno2/home/xstary1/brno6/tumai-makeathon22\n"
     ]
    }
   ],
   "source": [
    "!pwd"
   ]
  },
  {
   "cell_type": "code",
   "execution_count": 208,
   "metadata": {},
   "outputs": [],
   "source": [
    "df[\"risk\"] = df[\"Is the AI System high-risk or low risk?\"]\n",
    "df[\"name\"]  = df[\"Use case name EN\"]\n",
    "df[\"desc\"] = df[\"Description\"]\n",
    "df[\"bus_ch\"] = df[\"Business Challenge\"] \n",
    "df[\"system\"] = df[\"AI System\"]\n",
    "\n",
    "df = df.fillna(\"\")\n"
   ]
  },
  {
   "cell_type": "code",
   "execution_count": 209,
   "metadata": {},
   "outputs": [],
   "source": [
    "df_gen[\"description\"] = df_gen[\"description\"].apply(lambda x: x.strip())"
   ]
  },
  {
   "cell_type": "code",
   "execution_count": 210,
   "metadata": {},
   "outputs": [
    {
     "data": {
      "text/plain": [
       "array(['biometric identification', 'categorisation of people',\n",
       "       'management of critical infrastructure',\n",
       "       'operation of critical infrastructure',\n",
       "       'education test evaluation', 'vocational test evaluation',\n",
       "       'worker evaluation', 'work evaluationworkers management',\n",
       "       'work management', 'human resources services',\n",
       "       'access to self-employment', 'manage access to venues',\n",
       "       'manage access from the government',\n",
       "       'manage access to public goods', 'credit scoring',\n",
       "       'police suspects', 'help with migration legal process',\n",
       "       'help with asylum legal process', 'border control management',\n",
       "       'legal documents generation', 'counting votes', 'counting ballets',\n",
       "       'decision process in law facilities', 'democratic processes'],\n",
       "      dtype=object)"
      ]
     },
     "execution_count": 210,
     "metadata": {},
     "output_type": "execute_result"
    }
   ],
   "source": [
    "df_gen[\"tags\"].unique()"
   ]
  },
  {
   "cell_type": "code",
   "execution_count": 211,
   "metadata": {},
   "outputs": [
    {
     "data": {
      "text/plain": [
       "115"
      ]
     },
     "execution_count": 211,
     "metadata": {},
     "output_type": "execute_result"
    }
   ],
   "source": [
    "df = df[df[\"risk\"] != \"It is unclear\"]\n",
    "len(df)"
   ]
  },
  {
   "cell_type": "code",
   "execution_count": 212,
   "metadata": {},
   "outputs": [
    {
     "data": {
      "text/html": [
       "<div>\n",
       "<style scoped>\n",
       "    .dataframe tbody tr th:only-of-type {\n",
       "        vertical-align: middle;\n",
       "    }\n",
       "\n",
       "    .dataframe tbody tr th {\n",
       "        vertical-align: top;\n",
       "    }\n",
       "\n",
       "    .dataframe thead th {\n",
       "        text-align: right;\n",
       "    }\n",
       "</style>\n",
       "<table border=\"1\" class=\"dataframe\">\n",
       "  <thead>\n",
       "    <tr style=\"text-align: right;\">\n",
       "      <th></th>\n",
       "      <th>Use Case ID</th>\n",
       "      <th>Use Case Name</th>\n",
       "      <th>Use case name EN</th>\n",
       "      <th>Beschreibung</th>\n",
       "      <th>Description</th>\n",
       "      <th>Geschäftsproblem</th>\n",
       "      <th>Business Challenge</th>\n",
       "      <th>KI Lösung</th>\n",
       "      <th>AI System</th>\n",
       "      <th>Links</th>\n",
       "      <th>...</th>\n",
       "      <th>Unnamed: 30</th>\n",
       "      <th>Unnamed: 31</th>\n",
       "      <th>Unnamed: 32</th>\n",
       "      <th>Unnamed: 33</th>\n",
       "      <th>Unnamed: 34</th>\n",
       "      <th>risk</th>\n",
       "      <th>name</th>\n",
       "      <th>desc</th>\n",
       "      <th>bus_ch</th>\n",
       "      <th>system</th>\n",
       "    </tr>\n",
       "  </thead>\n",
       "  <tbody>\n",
       "    <tr>\n",
       "      <th>0</th>\n",
       "      <td>1</td>\n",
       "      <td>Optimierte Stellenangebote</td>\n",
       "      <td>Optimised job offers</td>\n",
       "      <td>Ein zentrales Thema im Einstellungsprozess ist...</td>\n",
       "      <td>A central topic in the setting process is to w...</td>\n",
       "      <td>Viele Unternehmen tun sich schwer, die richtig...</td>\n",
       "      <td>Many companies find it difficult to win the ri...</td>\n",
       "      <td>Zur Analyse und Optimierung seines Recruiting-...</td>\n",
       "      <td>To analyze and optimize its recruiting materia...</td>\n",
       "      <td>https://www.foundationsofai.com/\\n https://tex...</td>\n",
       "      <td>...</td>\n",
       "      <td></td>\n",
       "      <td></td>\n",
       "      <td></td>\n",
       "      <td></td>\n",
       "      <td></td>\n",
       "      <td>low-risk</td>\n",
       "      <td>Optimised job offers</td>\n",
       "      <td>A central topic in the setting process is to w...</td>\n",
       "      <td>Many companies find it difficult to win the ri...</td>\n",
       "      <td>To analyze and optimize its recruiting materia...</td>\n",
       "    </tr>\n",
       "    <tr>\n",
       "      <th>1</th>\n",
       "      <td>2</td>\n",
       "      <td>Analyse eines Videointerviews</td>\n",
       "      <td>Analysis of a video interview</td>\n",
       "      <td>Während des Rekrutierungsprozesses werden nich...</td>\n",
       "      <td>During the recruitment process, not only the h...</td>\n",
       "      <td>Das Kundenbetreuungskonzept ist ein zentrales ...</td>\n",
       "      <td>The customer care concept is a central element...</td>\n",
       "      <td>HAPPYCAR hat die KI-Lösung von Retorio zur Ana...</td>\n",
       "      <td>Happycar has integrated Retorio's AI solution ...</td>\n",
       "      <td>https://www.foundationsofai.com/\\n https://f.h...</td>\n",
       "      <td>...</td>\n",
       "      <td></td>\n",
       "      <td></td>\n",
       "      <td></td>\n",
       "      <td></td>\n",
       "      <td></td>\n",
       "      <td>high-risk</td>\n",
       "      <td>Analysis of a video interview</td>\n",
       "      <td>During the recruitment process, not only the h...</td>\n",
       "      <td>The customer care concept is a central element...</td>\n",
       "      <td>Happycar has integrated Retorio's AI solution ...</td>\n",
       "    </tr>\n",
       "    <tr>\n",
       "      <th>2</th>\n",
       "      <td>3</td>\n",
       "      <td>Vorhersage von Personalfluktuation</td>\n",
       "      <td>Predicting staff turnover</td>\n",
       "      <td>Bestehende Maßnahmen zur Steigerung der Mitarb...</td>\n",
       "      <td>Existing measures to increase employee loyalty...</td>\n",
       "      <td>Die Bindung von Top-Talenten ist ein wichtiger...</td>\n",
       "      <td>The binding of top talents is an important asp...</td>\n",
       "      <td>IBM hat eine KI-Lösung zur Vorhersage von Pers...</td>\n",
       "      <td>IBM has developed a AI solution to predict per...</td>\n",
       "      <td>https://www.foundationsofai.com/\\n https://www...</td>\n",
       "      <td>...</td>\n",
       "      <td></td>\n",
       "      <td></td>\n",
       "      <td></td>\n",
       "      <td></td>\n",
       "      <td></td>\n",
       "      <td>high-risk</td>\n",
       "      <td>Predicting staff turnover</td>\n",
       "      <td>Existing measures to increase employee loyalty...</td>\n",
       "      <td>The binding of top talents is an important asp...</td>\n",
       "      <td>IBM has developed a AI solution to predict per...</td>\n",
       "    </tr>\n",
       "    <tr>\n",
       "      <th>3</th>\n",
       "      <td>4</td>\n",
       "      <td>Leistungsüberwachung / Beobachtung des Mitarbe...</td>\n",
       "      <td>Performance monitoring / observation of employ...</td>\n",
       "      <td>Engagement-Monitoring-Tools, die auf KI basier...</td>\n",
       "      <td>Engagement monitoring tools based on AI can ex...</td>\n",
       "      <td>Die Bewertung des Mitarbeiterengagements ist i...</td>\n",
       "      <td>The assessment of employee engagement is a cha...</td>\n",
       "      <td>Die KI-Lösung von KeenCorp analysiert kontinui...</td>\n",
       "      <td>The Ki solution from Keencorp continuously ana...</td>\n",
       "      <td>https://www.smartdatacollective.com/ai-driven-...</td>\n",
       "      <td>...</td>\n",
       "      <td></td>\n",
       "      <td></td>\n",
       "      <td></td>\n",
       "      <td></td>\n",
       "      <td></td>\n",
       "      <td>high-risk</td>\n",
       "      <td>Performance monitoring / observation of employ...</td>\n",
       "      <td>Engagement monitoring tools based on AI can ex...</td>\n",
       "      <td>The assessment of employee engagement is a cha...</td>\n",
       "      <td>The Ki solution from Keencorp continuously ana...</td>\n",
       "    </tr>\n",
       "    <tr>\n",
       "      <th>4</th>\n",
       "      <td>5</td>\n",
       "      <td>Kandidatensuche</td>\n",
       "      <td>Search for candidates</td>\n",
       "      <td>Die am besten geeigneten Kandidat:innen zu fin...</td>\n",
       "      <td>The most suitable candidate: finding inside is...</td>\n",
       "      <td>Poshmark, ein führendes E-Commerce-Unternehmen...</td>\n",
       "      <td>Poshmark, a leading e-commerce company, wanted...</td>\n",
       "      <td>Poshmark arbeitete mit einem KI-basierten Star...</td>\n",
       "      <td>Poshmark worked with a AI-based startup to str...</td>\n",
       "      <td>https://www.forbes.com/sites/falonfatemi/2019/...</td>\n",
       "      <td>...</td>\n",
       "      <td></td>\n",
       "      <td></td>\n",
       "      <td></td>\n",
       "      <td></td>\n",
       "      <td></td>\n",
       "      <td>high-risk</td>\n",
       "      <td>Search for candidates</td>\n",
       "      <td>The most suitable candidate: finding inside is...</td>\n",
       "      <td>Poshmark, a leading e-commerce company, wanted...</td>\n",
       "      <td>Poshmark worked with a AI-based startup to str...</td>\n",
       "    </tr>\n",
       "  </tbody>\n",
       "</table>\n",
       "<p>5 rows × 40 columns</p>\n",
       "</div>"
      ],
      "text/plain": [
       "   Use Case ID                                      Use Case Name  \\\n",
       "0            1                         Optimierte Stellenangebote   \n",
       "1            2                      Analyse eines Videointerviews   \n",
       "2            3                 Vorhersage von Personalfluktuation   \n",
       "3            4  Leistungsüberwachung / Beobachtung des Mitarbe...   \n",
       "4            5                                    Kandidatensuche   \n",
       "\n",
       "                                    Use case name EN  \\\n",
       "0                               Optimised job offers   \n",
       "1                      Analysis of a video interview   \n",
       "2                          Predicting staff turnover   \n",
       "3  Performance monitoring / observation of employ...   \n",
       "4                              Search for candidates   \n",
       "\n",
       "                                        Beschreibung  \\\n",
       "0  Ein zentrales Thema im Einstellungsprozess ist...   \n",
       "1  Während des Rekrutierungsprozesses werden nich...   \n",
       "2  Bestehende Maßnahmen zur Steigerung der Mitarb...   \n",
       "3  Engagement-Monitoring-Tools, die auf KI basier...   \n",
       "4  Die am besten geeigneten Kandidat:innen zu fin...   \n",
       "\n",
       "                                         Description  \\\n",
       "0  A central topic in the setting process is to w...   \n",
       "1  During the recruitment process, not only the h...   \n",
       "2  Existing measures to increase employee loyalty...   \n",
       "3  Engagement monitoring tools based on AI can ex...   \n",
       "4  The most suitable candidate: finding inside is...   \n",
       "\n",
       "                                    Geschäftsproblem  \\\n",
       "0  Viele Unternehmen tun sich schwer, die richtig...   \n",
       "1  Das Kundenbetreuungskonzept ist ein zentrales ...   \n",
       "2  Die Bindung von Top-Talenten ist ein wichtiger...   \n",
       "3  Die Bewertung des Mitarbeiterengagements ist i...   \n",
       "4  Poshmark, ein führendes E-Commerce-Unternehmen...   \n",
       "\n",
       "                                  Business Challenge  \\\n",
       "0  Many companies find it difficult to win the ri...   \n",
       "1  The customer care concept is a central element...   \n",
       "2  The binding of top talents is an important asp...   \n",
       "3  The assessment of employee engagement is a cha...   \n",
       "4  Poshmark, a leading e-commerce company, wanted...   \n",
       "\n",
       "                                           KI Lösung  \\\n",
       "0  Zur Analyse und Optimierung seines Recruiting-...   \n",
       "1  HAPPYCAR hat die KI-Lösung von Retorio zur Ana...   \n",
       "2  IBM hat eine KI-Lösung zur Vorhersage von Pers...   \n",
       "3  Die KI-Lösung von KeenCorp analysiert kontinui...   \n",
       "4  Poshmark arbeitete mit einem KI-basierten Star...   \n",
       "\n",
       "                                           AI System  \\\n",
       "0  To analyze and optimize its recruiting materia...   \n",
       "1  Happycar has integrated Retorio's AI solution ...   \n",
       "2  IBM has developed a AI solution to predict per...   \n",
       "3  The Ki solution from Keencorp continuously ana...   \n",
       "4  Poshmark worked with a AI-based startup to str...   \n",
       "\n",
       "                                               Links  ... Unnamed: 30  \\\n",
       "0  https://www.foundationsofai.com/\\n https://tex...  ...               \n",
       "1  https://www.foundationsofai.com/\\n https://f.h...  ...               \n",
       "2  https://www.foundationsofai.com/\\n https://www...  ...               \n",
       "3  https://www.smartdatacollective.com/ai-driven-...  ...               \n",
       "4  https://www.forbes.com/sites/falonfatemi/2019/...  ...               \n",
       "\n",
       "  Unnamed: 31 Unnamed: 32 Unnamed: 33 Unnamed: 34       risk  \\\n",
       "0                                                   low-risk   \n",
       "1                                                  high-risk   \n",
       "2                                                  high-risk   \n",
       "3                                                  high-risk   \n",
       "4                                                  high-risk   \n",
       "\n",
       "                                                name  \\\n",
       "0                               Optimised job offers   \n",
       "1                      Analysis of a video interview   \n",
       "2                          Predicting staff turnover   \n",
       "3  Performance monitoring / observation of employ...   \n",
       "4                              Search for candidates   \n",
       "\n",
       "                                                desc  \\\n",
       "0  A central topic in the setting process is to w...   \n",
       "1  During the recruitment process, not only the h...   \n",
       "2  Existing measures to increase employee loyalty...   \n",
       "3  Engagement monitoring tools based on AI can ex...   \n",
       "4  The most suitable candidate: finding inside is...   \n",
       "\n",
       "                                              bus_ch  \\\n",
       "0  Many companies find it difficult to win the ri...   \n",
       "1  The customer care concept is a central element...   \n",
       "2  The binding of top talents is an important asp...   \n",
       "3  The assessment of employee engagement is a cha...   \n",
       "4  Poshmark, a leading e-commerce company, wanted...   \n",
       "\n",
       "                                              system  \n",
       "0  To analyze and optimize its recruiting materia...  \n",
       "1  Happycar has integrated Retorio's AI solution ...  \n",
       "2  IBM has developed a AI solution to predict per...  \n",
       "3  The Ki solution from Keencorp continuously ana...  \n",
       "4  Poshmark worked with a AI-based startup to str...  \n",
       "\n",
       "[5 rows x 40 columns]"
      ]
     },
     "execution_count": 212,
     "metadata": {},
     "output_type": "execute_result"
    }
   ],
   "source": [
    "df.head()"
   ]
  },
  {
   "cell_type": "code",
   "execution_count": 213,
   "metadata": {},
   "outputs": [],
   "source": [
    "df = df[df[\"risk\"] != \"\"]\n"
   ]
  },
  {
   "cell_type": "code",
   "execution_count": 214,
   "metadata": {},
   "outputs": [
    {
     "data": {
      "text/plain": [
       "low-risk     84\n",
       "high-risk    14\n",
       "Name: risk, dtype: int64"
      ]
     },
     "execution_count": 214,
     "metadata": {},
     "output_type": "execute_result"
    }
   ],
   "source": [
    "df[\"risk\"].value_counts()\n"
   ]
  },
  {
   "cell_type": "code",
   "execution_count": 215,
   "metadata": {},
   "outputs": [],
   "source": [
    "len(df)\n",
    "df = df.reset_index()"
   ]
  },
  {
   "cell_type": "code",
   "execution_count": 216,
   "metadata": {},
   "outputs": [],
   "source": [
    "from sklearn.model_selection import train_test_split\n",
    "X_train, X_test, y_train, y_test = train_test_split(df, df['risk'],\n",
    "                                                    stratify=df['risk'], \n",
    "                                                    test_size=0.60,\n",
    "                                                   random_state=40)"
   ]
  },
  {
   "cell_type": "code",
   "execution_count": 217,
   "metadata": {},
   "outputs": [],
   "source": [
    "from sentence_transformers import SentenceTransformer\n",
    "model = SentenceTransformer('all-MiniLM-L6-v2')\n",
    "\n",
    "#Sentences we want to encode. Example:\n",
    "\n",
    "\n",
    "train_gen = df_gen[\"description\"].to_list() + X_train[X_train[\"risk\"] == \"low-risk\"][\"desc\"].to_list()\n",
    "sentences_gen = train_gen\n",
    "\n",
    "sentences_cross = df[\"desc\"].to_list()\n",
    "sentences_train = X_train[\"desc\"].to_list()\n",
    "sentences_test = X_test[\"desc\"].to_list() + X_train[X_train[\"risk\"] == \"high-risk\"][\"desc\"].to_list()\n",
    "\n",
    "\n",
    "#Sentences are encoded by calling model.encode()\n",
    "\n",
    "embeddings_gen = model.encode(sentences_gen)\n",
    "\n",
    "embeddings_train = model.encode(sentences_train)\n",
    "embeddings_test = model.encode(sentences_test)\n",
    "embeddings_cross = model.encode(sentences_cross)"
   ]
  },
  {
   "cell_type": "code",
   "execution_count": 218,
   "metadata": {},
   "outputs": [
    {
     "data": {
      "text/plain": [
       "(98, 98)"
      ]
     },
     "execution_count": 218,
     "metadata": {},
     "output_type": "execute_result"
    }
   ],
   "source": [
    "len(df),len(embeddings_cross)"
   ]
  },
  {
   "cell_type": "code",
   "execution_count": 219,
   "metadata": {},
   "outputs": [
    {
     "data": {
      "text/plain": [
       "RangeIndex(start=0, stop=98, step=1)"
      ]
     },
     "execution_count": 219,
     "metadata": {},
     "output_type": "execute_result"
    }
   ],
   "source": [
    "df.index"
   ]
  },
  {
   "cell_type": "code",
   "execution_count": 220,
   "metadata": {},
   "outputs": [
    {
     "name": "stderr",
     "output_type": "stream",
     "text": [
      "/opt/conda/lib/python3.8/site-packages/sklearn/manifold/_t_sne.py:691: FutureWarning: 'square_distances' has been introduced in 0.24 to help phase out legacy squaring behavior. The 'legacy' setting will be removed in 1.1 (renaming of 0.26), and the default setting will be changed to True. In 1.3, 'square_distances' will be removed altogether, and distances will be squared by default. Set 'square_distances'=True to silence this warning.\n",
      "  warnings.warn(\n"
     ]
    },
    {
     "data": {
      "image/png": "[encoded data removed]",
      "text/plain": [
       "<Figure size 720x720 with 1 Axes>"
      ]
     },
     "metadata": {
      "needs_background": "light"
     },
     "output_type": "display_data"
    }
   ],
   "source": [
    "from sklearn.manifold import TSNE\n",
    "import matplotlib.pyplot as plt\n",
    "from sklearn.cluster import DBSCAN\n",
    "from sklearn.preprocessing import StandardScaler\n",
    "from sklearn.pipeline import make_pipeline\n",
    "\n",
    "tsne = make_pipeline(StandardScaler(),TSNE(perplexity=30, metric=\"cosine\"))\n",
    "dbscan = make_pipeline(StandardScaler(), DBSCAN(eps=0.4, min_samples=3, metric=\"cosine\"))\n",
    "\n",
    "\n",
    "clusters = dbscan.fit_predict(embeddings_cross)\n",
    "res = tsne.fit_transform(embeddings_cross)\n",
    "\n",
    "plt.figure(figsize=(10,10))\n",
    "plt.scatter(x=res[:,0], y=res[:, 1], c=df[\"risk\"].replace({\"low-risk\": \"green\", \"high-risk\": \"red\"}))\n",
    "for index, row in df[df[\"risk\"]==\"high-risk\"].iterrows():\n",
    "    plt.annotate(str(row[1])+ \",\" + str(clusters[0]), res[index])\n",
    "#     print(row[1])\n",
    "    "
   ]
  },
  {
   "cell_type": "code",
   "execution_count": 221,
   "metadata": {},
   "outputs": [
    {
     "data": {
      "text/plain": [
       "(98, 2)"
      ]
     },
     "execution_count": 221,
     "metadata": {},
     "output_type": "execute_result"
    }
   ],
   "source": [
    "res.shape"
   ]
  },
  {
   "cell_type": "code",
   "execution_count": 222,
   "metadata": {},
   "outputs": [
    {
     "data": {
      "text/plain": [
       "-1    83\n",
       " 0     6\n",
       " 1     3\n",
       " 2     3\n",
       " 3     3\n",
       "dtype: int64"
      ]
     },
     "execution_count": 222,
     "metadata": {},
     "output_type": "execute_result"
    }
   ],
   "source": [
    "pd.Series(clusters).value_counts()"
   ]
  },
  {
   "cell_type": "code",
   "execution_count": 223,
   "metadata": {},
   "outputs": [
    {
     "data": {
      "text/plain": [
       "(39, 384)"
      ]
     },
     "execution_count": 223,
     "metadata": {},
     "output_type": "execute_result"
    }
   ],
   "source": [
    "embeddings_train.shape"
   ]
  },
  {
   "cell_type": "code",
   "execution_count": 224,
   "metadata": {},
   "outputs": [],
   "source": [
    "from sklearn.neighbors import KNeighborsClassifier"
   ]
  },
  {
   "cell_type": "code",
   "execution_count": 225,
   "metadata": {},
   "outputs": [],
   "source": [
    "knn = KNeighborsClassifier(n_neighbors=3)"
   ]
  },
  {
   "cell_type": "code",
   "execution_count": null,
   "metadata": {},
   "outputs": [],
   "source": []
  },
  {
   "cell_type": "code",
   "execution_count": 226,
   "metadata": {},
   "outputs": [
    {
     "data": {
      "text/plain": [
       "KNeighborsClassifier(n_neighbors=3)"
      ]
     },
     "execution_count": 226,
     "metadata": {},
     "output_type": "execute_result"
    }
   ],
   "source": [
    "train_gen_y = df_gen[\"tags\"].to_list() + [\"low-risk\" for _ in range(len(X_train[X_train[\"risk\"] == \"low-risk\"][\"desc\"]))]\n",
    "\n",
    "knn.fit(embeddings_gen, train_gen_y)"
   ]
  },
  {
   "cell_type": "code",
   "execution_count": 227,
   "metadata": {},
   "outputs": [],
   "source": [
    "# pred = knn.predict(embeddings_test)#, X_test[\"risk\"])"
   ]
  },
  {
   "cell_type": "code",
   "execution_count": 228,
   "metadata": {},
   "outputs": [],
   "source": [
    "from sklearn.metrics import plot_confusion_matrix"
   ]
  },
  {
   "cell_type": "code",
   "execution_count": 229,
   "metadata": {},
   "outputs": [
    {
     "data": {
      "text/plain": [
       "<sklearn.metrics._plot.confusion_matrix.ConfusionMatrixDisplay at 0x154b6c10d400>"
      ]
     },
     "execution_count": 229,
     "metadata": {},
     "output_type": "execute_result"
    },
    {
     "data": {
      "image/png": "[encoded data removed]",
      "text/plain": [
       "<Figure size 2160x2160 with 2 Axes>"
      ]
     },
     "metadata": {
      "needs_background": "light"
     },
     "output_type": "display_data"
    }
   ],
   "source": [
    "fig,ax = plt.subplots(figsize=(30,30))\n",
    "plot_confusion_matrix(knn, embeddings_test, X_test[\"risk\"].to_list() + [\"high-risk\" for _ in range(len(X_train[X_train[\"risk\"] == \"high-risk\"][\"desc\"]))], ax=ax)"
   ]
  },
  {
   "cell_type": "code",
   "execution_count": null,
   "metadata": {},
   "outputs": [],
   "source": []
  },
  {
   "cell_type": "code",
   "execution_count": 230,
   "metadata": {},
   "outputs": [
    {
     "data": {
      "text/plain": [
       "0.5705882352941176"
      ]
     },
     "execution_count": 230,
     "metadata": {},
     "output_type": "execute_result"
    }
   ],
   "source": [
    "from sklearn.model_selection import cross_val_score\n",
    "from sklearn.metrics import balanced_accuracy_score, get_scorer, make_scorer\n",
    "scs = cross_val_score(knn, embeddings_cross, df[\"risk\"], scoring=make_scorer(balanced_accuracy_score))\n",
    "scs.mean()"
   ]
  },
  {
   "cell_type": "code",
   "execution_count": null,
   "metadata": {},
   "outputs": [],
   "source": []
  },
  {
   "cell_type": "code",
   "execution_count": null,
   "metadata": {},
   "outputs": [],
   "source": []
  },
  {
   "cell_type": "code",
   "execution_count": null,
   "metadata": {},
   "outputs": [],
   "source": []
  },
  {
   "cell_type": "code",
   "execution_count": null,
   "metadata": {},
   "outputs": [],
   "source": []
  },
  {
   "cell_type": "code",
   "execution_count": null,
   "metadata": {},
   "outputs": [],
   "source": []
  },
  {
   "cell_type": "code",
   "execution_count": null,
   "metadata": {},
   "outputs": [],
   "source": []
  },
  {
   "cell_type": "code",
   "execution_count": null,
   "metadata": {},
   "outputs": [],
   "source": []
  }
 ],
 "metadata": {
  "kernelspec": {
   "display_name": "Python 3 (ipykernel)",
   "language": "python",
   "name": "python3"
  },
  "language_info": {
   "codemirror_mode": {
    "name": "ipython",
    "version": 3
   },
   "file_extension": ".py",
   "mimetype": "text/x-python",
   "name": "python",
   "nbconvert_exporter": "python",
   "pygments_lexer": "ipython3",
   "version": "3.8.12"
  }
 },
 "nbformat": 4,
 "nbformat_minor": 4
}
