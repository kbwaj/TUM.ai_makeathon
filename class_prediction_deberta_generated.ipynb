{
 "cells": [
  {
   "cell_type": "code",
   "execution_count": 1,
   "id": "2245e288",
   "metadata": {},
   "outputs": [
    {
     "name": "stdout",
     "output_type": "stream",
     "text": [
      "Looking in indexes: https://pypi.org/simple, https://pypi.ngc.nvidia.com\n",
      "Requirement already satisfied: transformers in /auto/brno2/home/xstary1/brno6/.local-adv.SIF/lib/python3.8/site-packages (4.22.2)\n",
      "Requirement already satisfied: pyyaml>=5.1 in /opt/conda/lib/python3.8/site-packages (from transformers) (6.0)\n",
      "Requirement already satisfied: requests in /auto/brno2/home/xstary1/brno6/.local-adv.SIF/lib/python3.8/site-packages (from transformers) (2.25.1)\n",
      "Requirement already satisfied: huggingface-hub<1.0,>=0.9.0 in /auto/brno2/home/xstary1/brno6/.local-adv.SIF/lib/python3.8/site-packages (from transformers) (0.10.0)\n",
      "Requirement already satisfied: packaging>=20.0 in /opt/conda/lib/python3.8/site-packages (from transformers) (21.3)\n",
      "Requirement already satisfied: numpy>=1.17 in /opt/conda/lib/python3.8/site-packages (from transformers) (1.22.0)\n",
      "Requirement already satisfied: tokenizers!=0.11.3,<0.13,>=0.11.1 in /auto/brno2/home/xstary1/brno6/.local-adv.SIF/lib/python3.8/site-packages (from transformers) (0.12.1)\n",
      "Requirement already satisfied: tqdm>=4.27 in /auto/brno2/home/xstary1/brno6/.local-adv.SIF/lib/python3.8/site-packages (from transformers) (4.56.2)\n",
      "Requirement already satisfied: filelock in /opt/conda/lib/python3.8/site-packages (from transformers) (3.4.2)\n",
      "Requirement already satisfied: regex!=2019.12.17 in /opt/conda/lib/python3.8/site-packages (from transformers) (2022.1.18)\n",
      "Requirement already satisfied: typing-extensions>=3.7.4.3 in /opt/conda/lib/python3.8/site-packages (from huggingface-hub<1.0,>=0.9.0->transformers) (4.0.1)\n",
      "Requirement already satisfied: pyparsing!=3.0.5,>=2.0.2 in /opt/conda/lib/python3.8/site-packages (from packaging>=20.0->transformers) (3.0.6)\n",
      "Requirement already satisfied: urllib3<1.27,>=1.21.1 in /opt/conda/lib/python3.8/site-packages (from requests->transformers) (1.26.7)\n",
      "Requirement already satisfied: certifi>=2017.4.17 in /opt/conda/lib/python3.8/site-packages (from requests->transformers) (2021.10.8)\n",
      "Requirement already satisfied: idna<3,>=2.5 in /auto/brno2/home/xstary1/brno6/.local-adv.SIF/lib/python3.8/site-packages (from requests->transformers) (2.10)\n",
      "Requirement already satisfied: chardet<5,>=3.0.2 in /opt/conda/lib/python3.8/site-packages (from requests->transformers) (4.0.0)\n",
      "Note: you may need to restart the kernel to use updated packages.\n",
      "Looking in indexes: https://pypi.org/simple, https://pypi.ngc.nvidia.com\n",
      "Requirement already satisfied: openpyxl in /auto/brno2/home/xstary1/brno6/.local-adv.SIF/lib/python3.8/site-packages (3.0.10)\n",
      "Requirement already satisfied: et-xmlfile in /auto/brno2/home/xstary1/brno6/.local-adv.SIF/lib/python3.8/site-packages (from openpyxl) (1.1.0)\n",
      "Note: you may need to restart the kernel to use updated packages.\n"
     ]
    },
    {
     "data": {
      "text/plain": [
       "<torch._C.Generator at 0x14549ab71e90>"
      ]
     },
     "execution_count": 1,
     "metadata": {},
     "output_type": "execute_result"
    }
   ],
   "source": [
    "#%pip install torch --user\n",
    "import json\n",
    "import os\n",
    "import numpy as np \n",
    "import pandas as pd\n",
    "import torch\n",
    "import torch.functional as F\n",
    "import torch.nn as nn\n",
    "\n",
    "%pip install transformers --user\n",
    "%pip install openpyxl --user\n",
    "\n",
    "from transformers import BertTokenizerFast,  BatchEncoding, BertModel, \\\n",
    "                            BertForTokenClassification\n",
    "from tokenizers import Encoding\n",
    "\n",
    "# %pip install ipywidgets --upgrade\n",
    "# %pip install jupyter --upgrade\n",
    "# %pip install seaborn --user\n",
    "# %pip install sentencepiece\n",
    "\n",
    "import seaborn as sns \n",
    "import matplotlib.pyplot as plt\n",
    "\n",
    "import tqdm\n",
    "\n",
    "from sklearn.preprocessing import LabelEncoder\n",
    "\n",
    "\n",
    "torch.manual_seed(42)"
   ]
  },
  {
   "cell_type": "code",
   "execution_count": 2,
   "id": "72b5d933",
   "metadata": {},
   "outputs": [
    {
     "data": {
      "text/html": [
       "<style>#sk-container-id-1 {color: black;background-color: white;}#sk-container-id-1 pre{padding: 0;}#sk-container-id-1 div.sk-toggleable {background-color: white;}#sk-container-id-1 label.sk-toggleable__label {cursor: pointer;display: block;width: 100%;margin-bottom: 0;padding: 0.3em;box-sizing: border-box;text-align: center;}#sk-container-id-1 label.sk-toggleable__label-arrow:before {content: \"▸\";float: left;margin-right: 0.25em;color: #696969;}#sk-container-id-1 label.sk-toggleable__label-arrow:hover:before {color: black;}#sk-container-id-1 div.sk-estimator:hover label.sk-toggleable__label-arrow:before {color: black;}#sk-container-id-1 div.sk-toggleable__content {max-height: 0;max-width: 0;overflow: hidden;text-align: left;background-color: #f0f8ff;}#sk-container-id-1 div.sk-toggleable__content pre {margin: 0.2em;color: black;border-radius: 0.25em;background-color: #f0f8ff;}#sk-container-id-1 input.sk-toggleable__control:checked~div.sk-toggleable__content {max-height: 200px;max-width: 100%;overflow: auto;}#sk-container-id-1 input.sk-toggleable__control:checked~label.sk-toggleable__label-arrow:before {content: \"▾\";}#sk-container-id-1 div.sk-estimator input.sk-toggleable__control:checked~label.sk-toggleable__label {background-color: #d4ebff;}#sk-container-id-1 div.sk-label input.sk-toggleable__control:checked~label.sk-toggleable__label {background-color: #d4ebff;}#sk-container-id-1 input.sk-hidden--visually {border: 0;clip: rect(1px 1px 1px 1px);clip: rect(1px, 1px, 1px, 1px);height: 1px;margin: -1px;overflow: hidden;padding: 0;position: absolute;width: 1px;}#sk-container-id-1 div.sk-estimator {font-family: monospace;background-color: #f0f8ff;border: 1px dotted black;border-radius: 0.25em;box-sizing: border-box;margin-bottom: 0.5em;}#sk-container-id-1 div.sk-estimator:hover {background-color: #d4ebff;}#sk-container-id-1 div.sk-parallel-item::after {content: \"\";width: 100%;border-bottom: 1px solid gray;flex-grow: 1;}#sk-container-id-1 div.sk-label:hover label.sk-toggleable__label {background-color: #d4ebff;}#sk-container-id-1 div.sk-serial::before {content: \"\";position: absolute;border-left: 1px solid gray;box-sizing: border-box;top: 0;bottom: 0;left: 50%;z-index: 0;}#sk-container-id-1 div.sk-serial {display: flex;flex-direction: column;align-items: center;background-color: white;padding-right: 0.2em;padding-left: 0.2em;position: relative;}#sk-container-id-1 div.sk-item {position: relative;z-index: 1;}#sk-container-id-1 div.sk-parallel {display: flex;align-items: stretch;justify-content: center;background-color: white;position: relative;}#sk-container-id-1 div.sk-item::before, #sk-container-id-1 div.sk-parallel-item::before {content: \"\";position: absolute;border-left: 1px solid gray;box-sizing: border-box;top: 0;bottom: 0;left: 50%;z-index: -1;}#sk-container-id-1 div.sk-parallel-item {display: flex;flex-direction: column;z-index: 1;position: relative;background-color: white;}#sk-container-id-1 div.sk-parallel-item:first-child::after {align-self: flex-end;width: 50%;}#sk-container-id-1 div.sk-parallel-item:last-child::after {align-self: flex-start;width: 50%;}#sk-container-id-1 div.sk-parallel-item:only-child::after {width: 0;}#sk-container-id-1 div.sk-dashed-wrapped {border: 1px dashed gray;margin: 0 0.4em 0.5em 0.4em;box-sizing: border-box;padding-bottom: 0.4em;background-color: white;}#sk-container-id-1 div.sk-label label {font-family: monospace;font-weight: bold;display: inline-block;line-height: 1.2em;}#sk-container-id-1 div.sk-label-container {text-align: center;}#sk-container-id-1 div.sk-container {/* jupyter's `normalize.less` sets `[hidden] { display: none; }` but bootstrap.min.css set `[hidden] { display: none !important; }` so we also need the `!important` here to be able to override the default hidden behavior on the sphinx rendered scikit-learn.org. See: https://github.com/scikit-learn/scikit-learn/issues/21755 */display: inline-block !important;position: relative;}#sk-container-id-1 div.sk-text-repr-fallback {display: none;}</style><div id=\"sk-container-id-1\" class=\"sk-top-container\"><div class=\"sk-text-repr-fallback\"><pre>LabelEncoder()</pre><b>In a Jupyter environment, please rerun this cell to show the HTML representation or trust the notebook. <br />On GitHub, the HTML representation is unable to render, please try loading this page with nbviewer.org.</b></div><div class=\"sk-container\" hidden><div class=\"sk-item\"><div class=\"sk-estimator sk-toggleable\"><input class=\"sk-toggleable__control sk-hidden--visually\" id=\"sk-estimator-id-1\" type=\"checkbox\" checked><label for=\"sk-estimator-id-1\" class=\"sk-toggleable__label sk-toggleable__label-arrow\">LabelEncoder</label><div class=\"sk-toggleable__content\"><pre>LabelEncoder()</pre></div></div></div></div></div>"
      ],
      "text/plain": [
       "LabelEncoder()"
      ]
     },
     "execution_count": 2,
     "metadata": {},
     "output_type": "execute_result"
    }
   ],
   "source": [
    "import pandas as pd\n",
    "from utils import preproc\n",
    "df = pd.read_excel(\"data/appliedAI_Use Case Library - Risk Class_TUM.ai.xlsx\", index_col=0, header=2)\n",
    "\n",
    "df = preproc(df)\n",
    "\n",
    "df_gen = pd.read_csv(\"data/generated_ideas (2).csv\")\n",
    "df_gen[\"description\"] = df_gen[\"description\"].apply(lambda x: x.strip())\n",
    "\n",
    "lb = LabelEncoder()\n",
    "lb.fit(df_gen[\"tags\"].to_list() + [\"high-risk\", \"low-risk\"])"
   ]
  },
  {
   "cell_type": "code",
   "execution_count": null,
   "id": "51918a3f",
   "metadata": {},
   "outputs": [],
   "source": []
  },
  {
   "cell_type": "code",
   "execution_count": 3,
   "id": "d3fd25b1",
   "metadata": {},
   "outputs": [],
   "source": [
    "from sklearn.model_selection import train_test_split\n",
    "X_train, X_test, y_train, y_test = train_test_split(df, df['risk'],\n",
    "                                                    stratify=df['risk'], \n",
    "                                                    test_size=0.2,\n",
    "                                                   random_state=42)"
   ]
  },
  {
   "cell_type": "code",
   "execution_count": 4,
   "id": "d9dd60f5",
   "metadata": {},
   "outputs": [
    {
     "data": {
      "text/plain": [
       "Use Case ID\n",
       "49      low-risk\n",
       "62      low-risk\n",
       "8       low-risk\n",
       "7       low-risk\n",
       "30      low-risk\n",
       "91      low-risk\n",
       "68      low-risk\n",
       "5      high-risk\n",
       "80      low-risk\n",
       "56     high-risk\n",
       "86      low-risk\n",
       "32      low-risk\n",
       "87      low-risk\n",
       "85      low-risk\n",
       "76      low-risk\n",
       "117     low-risk\n",
       "36     high-risk\n",
       "57      low-risk\n",
       "114     low-risk\n",
       "34      low-risk\n",
       "Name: risk, dtype: object"
      ]
     },
     "execution_count": 4,
     "metadata": {},
     "output_type": "execute_result"
    }
   ],
   "source": [
    "y_test"
   ]
  },
  {
   "cell_type": "code",
   "execution_count": 5,
   "id": "54e665c9",
   "metadata": {},
   "outputs": [],
   "source": [
    "from torch.utils.data import Dataset\n",
    "\n",
    "# create a dataset - currently all files loaded beforehand (woeks for smaller datasets)\n",
    "class RDataset(Dataset):\n",
    "    # A pytorch dataset class for holding data for a text labeling task.\n",
    "    # gets a parent directory of several datasets' directories\n",
    "    def __init__(self, model_name, X, y, lb):\n",
    "        '''\n",
    "        Takes as input the name of a file containing sentences with a classification label (comma separated) in each line.\n",
    "        Stores the text data in a member variable X and labels in y\n",
    "        '''\n",
    "        \n",
    "        # Load a pre-trained tokenizer\n",
    "        self.tokenizer = AutoTokenizer.from_pretrained(model_name) \n",
    "\n",
    "        self.encodings = self.tokenizer(X, return_tensors=\"pt\", padding=True)\n",
    "        \n",
    "        \n",
    "        \n",
    "        self.y = lb.transform(y)#.replace({\"low-risk\": 0.0, \"high-risk\": 1.0}).to_list()\n",
    "        \n",
    "        \n",
    "\n",
    "    def __getitem__(self, idx):\n",
    "        item = {key: torch.tensor(val[idx]) for key, val in self.encodings.items()}\n",
    "        item['labels'] = torch.tensor(self.y[idx])\n",
    "        return item\n",
    "\n",
    "    def __len__(self):\n",
    "        return len(self.y)\n"
   ]
  },
  {
   "cell_type": "code",
   "execution_count": 6,
   "id": "8e9b0982",
   "metadata": {},
   "outputs": [
    {
     "name": "stderr",
     "output_type": "stream",
     "text": [
      "/storage/brno2/home/xstary1/brno6/.local-adv.SIF/lib/python3.8/site-packages/transformers/convert_slow_tokenizer.py:446: UserWarning: The sentencepiece tokenizer that you are converting to a fast tokenizer uses the byte fallback option which is not implemented in the fast tokenizers. In practice this means that the fast version of the tokenizer can produce unknown tokens whereas the sentencepiece version would have converted these unknown tokens into a sequence of byte tokens matching the original piece of text.\n",
      "  warnings.warn(\n",
      "Some weights of DebertaV2ForSequenceClassification were not initialized from the model checkpoint at MoritzLaurer/DeBERTa-v3-xsmall-mnli-fever-anli-ling-binary and are newly initialized because the shapes did not match:\n",
      "- classifier.weight: found shape torch.Size([2, 384]) in the checkpoint and torch.Size([26, 384]) in the model instantiated\n",
      "- classifier.bias: found shape torch.Size([2]) in the checkpoint and torch.Size([26]) in the model instantiated\n",
      "You should probably TRAIN this model on a down-stream task to be able to use it for predictions and inference.\n"
     ]
    }
   ],
   "source": [
    "from transformers import AutoTokenizer, AutoModelForSequenceClassification\n",
    "import torch\n",
    "\n",
    "\n",
    "train_gen = df_gen[\"description\"].to_list() + X_train[X_train[\"risk\"] == \"low-risk\"][\"desc\"].to_list()\n",
    "train_gen_y = df_gen[\"tags\"].to_list() + [\"low-risk\" for _ in range(len(X_train[X_train[\"risk\"] == \"low-risk\"][\"desc\"]))]\n",
    "\n",
    "\n",
    "model_name = \"MoritzLaurer/DeBERTa-v3-xsmall-mnli-fever-anli-ling-binary\"\n",
    "dataset_train = RDataset(model_name,  train_gen, train_gen_y, lb)\n",
    "dataset_test = RDataset(model_name, X_test[\"desc\"].to_list() +  X_train[X_train[\"risk\"] == \"high-risk\"][\"desc\"].to_list(), y_test.to_list() +[\"high-risk\" for _ in range(len(X_train[X_train[\"risk\"] == \"high-risk\"][\"desc\"]))] , lb)\n",
    "model = AutoModelForSequenceClassification.from_pretrained(model_name, num_labels=len(df_gen[\"tags\"].unique())+2, ignore_mismatched_sizes=True)\n",
    "# model.config.num_labels = 1\n",
    "\n",
    "\n",
    "# freeze layers:\n",
    "for name, param in model.named_parameters():\n",
    "     if name.startswith(\"deberta\"): # choose whatever you like here\n",
    "        param.requires_grad = False\n",
    "#         print(name)\n"
   ]
  },
  {
   "cell_type": "code",
   "execution_count": 7,
   "id": "9c533bc1",
   "metadata": {},
   "outputs": [
    {
     "data": {
      "text/plain": [
       "Use Case ID\n",
       "79      low-risk\n",
       "94      low-risk\n",
       "71      low-risk\n",
       "59      low-risk\n",
       "73      low-risk\n",
       "         ...    \n",
       "21      low-risk\n",
       "42     high-risk\n",
       "104     low-risk\n",
       "3      high-risk\n",
       "55     high-risk\n",
       "Name: risk, Length: 78, dtype: object"
      ]
     },
     "execution_count": 7,
     "metadata": {},
     "output_type": "execute_result"
    }
   ],
   "source": [
    "y_train"
   ]
  },
  {
   "cell_type": "code",
   "execution_count": 8,
   "id": "d62ece60",
   "metadata": {},
   "outputs": [],
   "source": [
    "from torch.utils.data import DataLoader\n",
    "\n"
   ]
  },
  {
   "cell_type": "code",
   "execution_count": 9,
   "id": "ba6adf81",
   "metadata": {},
   "outputs": [
    {
     "name": "stdout",
     "output_type": "stream",
     "text": [
      "\n",
      "PyTorch:\n",
      "1 GPU(s) available.\n",
      "GPU-Name: NVIDIA A40\n"
     ]
    }
   ],
   "source": [
    "# Check PyTorch GPU capabilities:\n",
    "\n",
    "print(\"\\nPyTorch:\")\n",
    "if torch.cuda.is_available():\n",
    "    device = torch.device(\"cuda\")\n",
    "    print('%d GPU(s) available.' % torch.cuda.device_count())\n",
    "    print('GPU-Name:', torch.cuda.get_device_name(0))\n",
    "else:\n",
    "    print('No GPU available, using the CPU instead.')\n",
    "    device = torch.device(\"cpu\")\n",
    "\n",
    "# device = torch.device(\"cpu\")\n",
    "\n",
    "model = model.to(device)"
   ]
  },
  {
   "cell_type": "code",
   "execution_count": 10,
   "id": "6a04f248",
   "metadata": {},
   "outputs": [],
   "source": [
    "#\n",
    "## other training parameters\n",
    "clip = 0.25            #gradient clipping\n",
    "lr = 0.0001#0.00003           #initial learning rate\n",
    "wdecay=1.2e-6          #weight decay applied to all weights\n",
    "epochs = 2             #maximum number of epochs\n",
    "#save = 'models/model.pt'      #path to save the final model\n",
    "\n",
    "train_max_number_batches = -1 # only for the sake of debugging. Set to -1 to be ignored\n",
    "inference_max_number_batches = -1 # only for the sake of debugging. Set to -1 to be ignored\n",
    "\n",
    "## log parameters\n",
    "log_interval = 100     #log interval during training\n",
    "log_interval_val = 100 #log interval during validation"
   ]
  },
  {
   "cell_type": "code",
   "execution_count": 11,
   "id": "c3fccb25",
   "metadata": {},
   "outputs": [],
   "source": [
    "\n",
    "class Learner():\n",
    "    def __init__(self,train_loader, val_loader, model, optimizer, device, loss_fn=None):\n",
    "        self.train_loader= train_loader\n",
    "        self.val_loader = val_loader\n",
    "        self.model = model \n",
    "        self.optimizer = optimizer\n",
    "        self.loss_fn = loss_fn\n",
    "        self.device = device\n",
    "        \n",
    "    def evaluate(self, loader):\n",
    "        eval_loss = 0\n",
    "        self.model.eval()\n",
    "        for b, inp in tqdm.tqdm(enumerate(loader), total=len(loader), position=0, leave=True):\n",
    "            with torch.no_grad():\n",
    "                inp = {k:v.clone().detach().to(device) for (k,v) in inp.items()}\n",
    "                \n",
    "                output = self.model(**inp)\n",
    "                #loss = self.loss_fn(log_pred, y)\n",
    "#                 logits = output.logits\n",
    "                loss = output.loss\n",
    "#                 loss = self.loss_fn(logits, inp[\"labels\"], pos_weight=torch.tensor(9))\n",
    "                \n",
    "                eval_loss += loss.item()\n",
    "            \n",
    "        eval_loss /= len(loader)\n",
    "        \n",
    "        return eval_loss\n",
    "    \n",
    "    def train(self,n_epochs, train_losses, val_losses, early_stopping=True, es_limit=3):\n",
    "\n",
    "        if early_stopping:\n",
    "            min_val_loss = np.inf\n",
    "            no_improve = 0\n",
    "        \n",
    "        \n",
    "        for e in range(n_epochs):\n",
    "            # train\n",
    "            train_loss = 0\n",
    "            self.model.train()\n",
    "            for b, inp in tqdm.tqdm(enumerate(self.train_loader), total=len(self.train_loader), position=0, leave=True):\n",
    "                inp = {k:v.clone().detach().to(device) for (k,v) in inp.items()}\n",
    "\n",
    "                self.optimizer.zero_grad()\n",
    "                output = self.model(**inp)\n",
    "\n",
    "                loss = output.loss\n",
    "\n",
    "#                 print(inp[\"labels\"])\n",
    "#                 loss = self.loss_fn(logits, inp[\"labels\"], pos_weight=torch.tensor(10))\n",
    "\n",
    "                loss.backward()\n",
    "\n",
    "                self.optimizer.step()\n",
    "\n",
    "            # evaluate (train, validation)\n",
    "            train_loss = self.evaluate(self.train_loader)\n",
    "            val_loss = self.evaluate(self.val_loader)\n",
    "\n",
    "            # early stopping\n",
    "            if early_stopping:\n",
    "                if val_loss < min_val_loss:\n",
    "                    min_val_loss = val_loss\n",
    "                    torch.save(self.model, \"models/deberta\")\n",
    "                    no_improve = 0\n",
    "                else:\n",
    "                    no_improve += 1\n",
    "            if no_improve > es_limit:\n",
    "                print(\"Early stopped\")\n",
    "                self.model = torch.load(\"models/deberta\")\n",
    "                break\n",
    "            \n",
    "            print(f\"After {e+1} epochs: \")\n",
    "            print(f\"Train loss: {train_loss:.3}\")\n",
    "            print(f\"Val loss: {val_loss:.3}\\n\")\n",
    "                \n",
    "            train_losses.append(train_loss)\n",
    "            val_losses.append(val_loss)\n",
    "        return train_losses, val_losses\n",
    "    \n",
    "    \n",
    "    \n",
    "# sample \n",
    "    \n",
    "batch_size = 16\n",
    "a = lb.transform(train_gen_y)\n",
    "unique, counts = np.unique(a, return_counts=True)\n",
    "unique, counts\n",
    "\n",
    "class_sample_count = np.zeros(max(unique)+1)\n",
    "for u,c in zip(unique, counts):\n",
    "    class_sample_count[u] = c\n",
    "    \n",
    "class_sample_count += 1\n",
    "\n",
    "weights = 1 / torch.Tensor(class_sample_count)\n",
    "samples_weight = np.array([weights[t] for t in a])\n",
    "samples_weight=torch.from_numpy(samples_weight)\n",
    "\n",
    "sampler = torch.utils.data.sampler.WeightedRandomSampler(samples_weight, len(samples_weight))\n",
    "train_loader = DataLoader(dataset_train, batch_size = batch_size, shuffle=False, sampler = sampler)\n",
    "\n",
    "# train_loader = DataLoader(dataset_train, batch_size=16, shuffle=True, num_workers=0)\n",
    "val_loader = DataLoader(dataset_train, batch_size=64, shuffle=True, num_workers=0)\n",
    "test_loader = DataLoader(dataset_test, batch_size=64, shuffle=True, num_workers=0)\n",
    "\n",
    "optim = torch.optim.AdamW(model.parameters(), lr=lr, weight_decay=wdecay)\n",
    "loss_fn = torch.nn.functional.binary_cross_entropy_with_logits\n",
    "\n",
    "train_losses, val_losses = [], []"
   ]
  },
  {
   "cell_type": "code",
   "execution_count": null,
   "id": "b7efefaa",
   "metadata": {},
   "outputs": [],
   "source": []
  },
  {
   "cell_type": "code",
   "execution_count": 18,
   "id": "d5cc9930",
   "metadata": {},
   "outputs": [
    {
     "name": "stderr",
     "output_type": "stream",
     "text": [
      "  0%|          | 0/31 [00:00<?, ?it/s]/var/tmp/pbs.12807523.meta-pbs.metacentrum.cz/ipykernel_380799/4205082293.py:25: UserWarning: To copy construct from a tensor, it is recommended to use sourceTensor.clone().detach() or sourceTensor.clone().detach().requires_grad_(True), rather than torch.tensor(sourceTensor).\n",
      "  item = {key: torch.tensor(val[idx]) for key, val in self.encodings.items()}\n",
      "/storage/brno2/home/xstary1/brno6/.local-adv.SIF/lib/python3.8/site-packages/transformers/models/deberta_v2/modeling_deberta_v2.py:745: UserWarning: To copy construct from a tensor, it is recommended to use sourceTensor.clone().detach() or sourceTensor.clone().detach().requires_grad_(True), rather than torch.tensor(sourceTensor).\n",
      "  attention_scores = torch.bmm(query_layer, key_layer.transpose(-1, -2)) / torch.tensor(\n",
      "/storage/brno2/home/xstary1/brno6/.local-adv.SIF/lib/python3.8/site-packages/transformers/models/deberta_v2/modeling_deberta_v2.py:829: UserWarning: To copy construct from a tensor, it is recommended to use sourceTensor.clone().detach() or sourceTensor.clone().detach().requires_grad_(True), rather than torch.tensor(sourceTensor).\n",
      "  score += c2p_att / torch.tensor(scale, dtype=c2p_att.dtype)\n",
      "/storage/brno2/home/xstary1/brno6/.local-adv.SIF/lib/python3.8/site-packages/transformers/models/deberta_v2/modeling_deberta_v2.py:852: UserWarning: To copy construct from a tensor, it is recommended to use sourceTensor.clone().detach() or sourceTensor.clone().detach().requires_grad_(True), rather than torch.tensor(sourceTensor).\n",
      "  score += p2c_att / torch.tensor(scale, dtype=p2c_att.dtype)\n",
      "100%|██████████| 31/31 [00:01<00:00, 23.26it/s]\n",
      "100%|██████████| 31/31 [00:01<00:00, 29.87it/s]\n",
      "100%|██████████| 8/8 [00:00<00:00,  8.96it/s]\n",
      " 10%|▉         | 3/31 [00:00<00:01, 22.79it/s]"
     ]
    },
    {
     "name": "stdout",
     "output_type": "stream",
     "text": [
      "After 1 epochs: \n",
      "Train loss: 3.06\n",
      "Val loss: 3.05\n",
      "\n"
     ]
    },
    {
     "name": "stderr",
     "output_type": "stream",
     "text": [
      "100%|██████████| 31/31 [00:01<00:00, 23.26it/s]\n",
      "100%|██████████| 31/31 [00:01<00:00, 29.80it/s]\n",
      "100%|██████████| 8/8 [00:00<00:00,  8.97it/s]\n",
      " 10%|▉         | 3/31 [00:00<00:01, 22.94it/s]"
     ]
    },
    {
     "name": "stdout",
     "output_type": "stream",
     "text": [
      "After 2 epochs: \n",
      "Train loss: 3.04\n",
      "Val loss: 3.0\n",
      "\n"
     ]
    },
    {
     "name": "stderr",
     "output_type": "stream",
     "text": [
      "100%|██████████| 31/31 [00:01<00:00, 23.28it/s]\n",
      "100%|██████████| 31/31 [00:01<00:00, 29.83it/s]\n",
      "100%|██████████| 8/8 [00:00<00:00,  8.97it/s]\n",
      " 10%|▉         | 3/31 [00:00<00:01, 23.23it/s]"
     ]
    },
    {
     "name": "stdout",
     "output_type": "stream",
     "text": [
      "After 3 epochs: \n",
      "Train loss: 3.02\n",
      "Val loss: 3.0\n",
      "\n"
     ]
    },
    {
     "name": "stderr",
     "output_type": "stream",
     "text": [
      "100%|██████████| 31/31 [00:01<00:00, 23.31it/s]\n",
      "100%|██████████| 31/31 [00:01<00:00, 29.84it/s]\n",
      "100%|██████████| 8/8 [00:00<00:00,  8.97it/s]\n",
      " 10%|▉         | 3/31 [00:00<00:01, 22.54it/s]"
     ]
    },
    {
     "name": "stdout",
     "output_type": "stream",
     "text": [
      "After 4 epochs: \n",
      "Train loss: 3.02\n",
      "Val loss: 2.98\n",
      "\n"
     ]
    },
    {
     "name": "stderr",
     "output_type": "stream",
     "text": [
      "100%|██████████| 31/31 [00:01<00:00, 23.22it/s]\n",
      "100%|██████████| 31/31 [00:01<00:00, 29.63it/s]\n",
      "100%|██████████| 8/8 [00:00<00:00,  8.93it/s]\n",
      " 10%|▉         | 3/31 [00:00<00:01, 23.07it/s]"
     ]
    },
    {
     "name": "stdout",
     "output_type": "stream",
     "text": [
      "After 5 epochs: \n",
      "Train loss: 3.01\n",
      "Val loss: 2.95\n",
      "\n"
     ]
    },
    {
     "name": "stderr",
     "output_type": "stream",
     "text": [
      "100%|██████████| 31/31 [00:01<00:00, 23.29it/s]\n",
      "100%|██████████| 31/31 [00:01<00:00, 29.83it/s]\n",
      "100%|██████████| 8/8 [00:00<00:00,  8.93it/s]\n",
      " 10%|▉         | 3/31 [00:00<00:01, 23.20it/s]"
     ]
    },
    {
     "name": "stdout",
     "output_type": "stream",
     "text": [
      "After 6 epochs: \n",
      "Train loss: 3.02\n",
      "Val loss: 2.96\n",
      "\n"
     ]
    },
    {
     "name": "stderr",
     "output_type": "stream",
     "text": [
      "100%|██████████| 31/31 [00:01<00:00, 23.34it/s]\n",
      "100%|██████████| 31/31 [00:01<00:00, 29.88it/s]\n",
      "100%|██████████| 8/8 [00:00<00:00,  8.94it/s]\n",
      " 10%|▉         | 3/31 [00:00<00:01, 22.99it/s]"
     ]
    },
    {
     "name": "stdout",
     "output_type": "stream",
     "text": [
      "After 7 epochs: \n",
      "Train loss: 2.95\n",
      "Val loss: 2.92\n",
      "\n"
     ]
    },
    {
     "name": "stderr",
     "output_type": "stream",
     "text": [
      "100%|██████████| 31/31 [00:01<00:00, 23.29it/s]\n",
      "100%|██████████| 31/31 [00:01<00:00, 29.80it/s]\n",
      "100%|██████████| 8/8 [00:00<00:00,  8.96it/s]\n",
      " 10%|▉         | 3/31 [00:00<00:01, 22.54it/s]"
     ]
    },
    {
     "name": "stdout",
     "output_type": "stream",
     "text": [
      "After 8 epochs: \n",
      "Train loss: 2.95\n",
      "Val loss: 2.88\n",
      "\n"
     ]
    },
    {
     "name": "stderr",
     "output_type": "stream",
     "text": [
      "100%|██████████| 31/31 [00:01<00:00, 23.27it/s]\n",
      "100%|██████████| 31/31 [00:01<00:00, 29.70it/s]\n",
      "100%|██████████| 8/8 [00:00<00:00,  8.94it/s]\n",
      " 10%|▉         | 3/31 [00:00<00:01, 23.15it/s]"
     ]
    },
    {
     "name": "stdout",
     "output_type": "stream",
     "text": [
      "After 9 epochs: \n",
      "Train loss: 2.94\n",
      "Val loss: 2.88\n",
      "\n"
     ]
    },
    {
     "name": "stderr",
     "output_type": "stream",
     "text": [
      "100%|██████████| 31/31 [00:01<00:00, 23.32it/s]\n",
      "100%|██████████| 31/31 [00:01<00:00, 29.74it/s]\n",
      "100%|██████████| 8/8 [00:00<00:00,  8.97it/s]\n"
     ]
    },
    {
     "name": "stdout",
     "output_type": "stream",
     "text": [
      "After 10 epochs: \n",
      "Train loss: 2.92\n",
      "Val loss: 2.84\n",
      "\n"
     ]
    }
   ],
   "source": [
    "learner = Learner(train_loader, val_loader, model, optim, device, loss_fn=loss_fn)\n",
    "train_losses, val_losses = learner.train(10, train_losses, val_losses)"
   ]
  },
  {
   "cell_type": "code",
   "execution_count": 19,
   "id": "c1200dfc",
   "metadata": {},
   "outputs": [
    {
     "name": "stderr",
     "output_type": "stream",
     "text": [
      "  0%|          | 0/31 [00:00<?, ?it/s]/var/tmp/pbs.12807523.meta-pbs.metacentrum.cz/ipykernel_380799/4205082293.py:25: UserWarning: To copy construct from a tensor, it is recommended to use sourceTensor.clone().detach() or sourceTensor.clone().detach().requires_grad_(True), rather than torch.tensor(sourceTensor).\n",
      "  item = {key: torch.tensor(val[idx]) for key, val in self.encodings.items()}\n",
      "100%|██████████| 31/31 [00:01<00:00, 29.84it/s]\n",
      "100%|██████████| 1/1 [00:00<00:00, 14.90it/s]\n"
     ]
    }
   ],
   "source": [
    "def predict(model, loader, device=\"cpu\", verbose=False):\n",
    "    model.eval()\n",
    "    model.to(device)\n",
    "    \n",
    "    y_pred = []\n",
    "    y_true = []\n",
    "    \n",
    "    for b, inp in tqdm.tqdm(enumerate(loader), total=len(loader), position=0, leave=True):\n",
    "        with torch.no_grad():\n",
    "            inp = {k:v.to(device) for (k,v) in inp.items()}    \n",
    "            output = model(**inp)\n",
    "            \n",
    "        y_true.append(inp[\"labels\"])\n",
    "#         print(inp[\"labels\"])\n",
    "        #print(amask)\n",
    "#         print(output.logits)\n",
    "        y_pred.append(output.logits.argmax(dim=-1))\n",
    "    #print(len(y_pred))\n",
    "    #print(y_pred[0].shape)\n",
    "    return torch.cat(y_pred, dim=0).to(\"cpu\"), torch.cat(y_true, dim=0).to(\"cpu\") \n",
    "\n",
    "pred_train, y_train = predict(model, train_loader, device=device, verbose=False)\n",
    "# pred_val, y_val = predict(model, val_loader, device=device, verbose=False)\n",
    "pred_test, y_test = predict(model, test_loader, device=device, verbose=False)"
   ]
  },
  {
   "cell_type": "code",
   "execution_count": 20,
   "id": "9f05f097",
   "metadata": {},
   "outputs": [
    {
     "data": {
      "text/plain": [
       "(tensor([10, 25, 10, 10,  5, 11, 25, 16, 25,  1,  7, 22, 21,  6, 13,  4,  9, 13,\n",
       "          4,  4, 10, 21, 13, 20,  0,  1, 16, 14,  9, 15,  4, 23,  6, 11, 15,  0,\n",
       "         21, 14,  1, 20, 23, 25, 21,  6, 24,  0,  3, 18, 17, 20,  0, 16, 20,  8,\n",
       "         22, 21, 10,  8,  9,  5,  5, 25,  2,  4, 11, 23, 18, 22,  5,  9, 20,  4,\n",
       "          2,  2, 22, 13,  0, 19, 25,  6,  8, 15, 11,  4,  5, 16, 21, 10,  5, 21,\n",
       "         19, 10, 20,  7, 17, 13, 10, 15, 11, 22, 14, 23, 13, 17, 14, 25,  9,  2,\n",
       "         13, 11, 22, 25,  4, 13,  2, 18,  2,  3, 22, 10, 18, 14,  8,  9, 16, 14,\n",
       "          1, 23,  1, 14,  0, 18,  4, 25,  1,  5,  1, 13, 20, 21,  7,  4, 19, 18,\n",
       "         10, 20, 22,  6, 11,  1, 22, 10, 23, 16,  5, 10, 11, 21, 15, 21,  8, 11,\n",
       "          7, 20,  9,  8,  4,  7,  2, 13, 25, 25, 13, 21, 15,  7,  4, 23, 11,  9,\n",
       "          7,  4, 20, 10, 11, 15,  3, 25, 14, 20, 11,  6, 20, 17, 19,  1, 17, 11,\n",
       "          5,  3, 18, 25, 10, 19, 23,  2,  7, 16,  5,  9,  4,  3, 14, 15, 14,  0,\n",
       "         22,  8, 11, 18, 10,  4, 17, 13, 16, 18, 19,  6,  7, 20, 22, 20, 20, 20,\n",
       "         18, 20,  8, 21, 17, 25, 11, 15,  9, 11,  3,  3,  8,  1, 20, 19, 20,  6,\n",
       "         19, 17, 24, 15,  6,  3,  4, 24,  6,  9, 18,  6, 17, 15, 18, 23,  1, 18,\n",
       "          2,  5, 13,  1,  8, 20, 13, 22,  6, 25, 16, 14, 16,  5,  1, 11, 17,  7,\n",
       "         25, 21,  9, 10, 24, 24,  4,  4,  2, 18, 25,  2, 17,  0,  8, 14,  6,  7,\n",
       "          4,  8, 21, 19, 18,  7, 16, 24,  2,  4, 25,  9,  5, 20, 21, 21,  5, 25,\n",
       "          6,  4, 21,  8,  6,  7,  3, 23, 18, 19, 22,  4,  9,  1, 10, 11, 21, 15,\n",
       "         21,  9, 19, 14,  5,  8,  5, 20, 18, 24,  5, 24, 15, 10, 20,  3,  5, 11,\n",
       "         16, 13, 22, 19,  3, 14, 10, 19, 11,  7, 14,  4,  7, 23, 17, 23,  5, 11,\n",
       "         15, 18, 20, 23,  1,  5,  1,  9, 10,  3, 10,  7, 22, 10, 22, 13, 23, 13,\n",
       "          6,  9, 10, 17, 22,  7, 25, 23, 22,  9, 20, 11, 25, 17, 21, 10, 19, 17,\n",
       "         16, 23, 14,  2, 22, 16, 23,  5,  2, 13, 22,  1, 21, 25, 21,  8, 25, 14,\n",
       "         22, 11, 14, 15, 13, 21, 20, 20,  6, 19, 18,  7,  7,  7,  2,  9,  9,  3,\n",
       "          5,  1,  6, 10, 22,  8,  2, 17, 25,  1, 10, 21, 14,  8,  3, 19, 24, 21,\n",
       "          9, 17,  4,  8, 15, 16,  2,  9, 23, 10, 23,  2, 16, 14,  9,  2, 19, 19,\n",
       "         20,  8,  4, 24,  5, 19, 16]),\n",
       " tensor([15, 12, 15, 15, 12, 15, 12, 15, 15, 12, 15, 12, 12, 12, 15, 15, 15, 12,\n",
       "         12, 12, 15, 12, 15, 15, 12, 12, 15, 15, 15, 12, 15]))"
      ]
     },
     "execution_count": 20,
     "metadata": {},
     "output_type": "execute_result"
    }
   ],
   "source": [
    "y_train, y_test\n",
    "\n"
   ]
  },
  {
   "cell_type": "code",
   "execution_count": 21,
   "id": "28f54150",
   "metadata": {},
   "outputs": [
    {
     "data": {
      "text/plain": [
       "tensor([10,  1, 17,  5, 11,  5, 17, 22, 25, 17,  7,  5, 15,  1, 21,  4,  7, 17,\n",
       "         4,  4, 25, 17, 24,  5, 11, 15, 17, 22, 15, 15, 22, 17, 17, 11, 15, 21,\n",
       "        21, 17,  1, 24, 11, 25,  1, 25, 17,  7, 17, 25, 19,  7, 11, 11, 25, 17,\n",
       "        11, 21, 21, 11, 15, 17,  5, 17, 24,  5, 11, 23,  5,  5, 16, 17, 17,  3,\n",
       "        15,  5, 16, 22, 17, 23,  1, 10, 17,  5,  5, 17,  5, 19,  1,  5, 17, 21,\n",
       "        17,  7, 25, 15, 17, 14,  5, 15, 17, 22,  7,  1, 17, 17, 17, 17, 17,  5,\n",
       "        25, 21, 11, 17,  5,  7,  5, 17,  5, 16, 17, 21, 16, 17, 11,  7, 21,  5,\n",
       "        15, 21,  5, 17,  5, 17,  4, 25,  5, 24, 15, 17, 17, 17, 15, 15, 15, 24,\n",
       "         5, 15, 22, 17,  7,  1, 11, 10, 17, 11,  5,  5,  5, 17, 15, 17, 11, 22,\n",
       "        15,  5, 21, 17, 11,  5,  5, 15,  1, 17, 25, 21, 15,  5, 22, 17, 17,  5,\n",
       "         5,  4, 21, 10, 11, 15, 20, 25,  5, 25, 11, 17,  5, 19,  1, 17, 19, 23,\n",
       "         5, 17, 17, 17, 16, 17, 17, 21,  7, 17,  5, 17, 11, 24, 22, 15, 21, 22,\n",
       "        17, 15, 11,  5,  3,  5,  5, 15, 17, 24, 17, 17,  5, 25, 17, 24,  7, 17,\n",
       "        17, 21, 15, 21, 17, 16,  5, 17, 15, 11, 15, 20, 22,  7, 17, 16, 24, 25,\n",
       "        24, 17, 24, 15, 22,  7, 24, 16,  7,  5, 17, 17,  1, 24,  5,  5, 17,  5,\n",
       "         5,  5, 21,  1, 11, 15,  7,  5, 17, 16, 16,  5, 16,  5,  5, 11, 21, 15,\n",
       "         5, 15, 17, 16, 15, 17,  4,  5, 21, 16, 17,  5, 17, 11, 17, 17, 16,  5,\n",
       "        15, 25, 17, 21, 24, 22, 24, 15,  5, 11,  1,  5,  5, 21, 15, 21,  5, 17,\n",
       "        11, 24, 21, 22,  7, 15,  7, 23, 15, 23, 16, 11,  7, 16, 11, 25, 17, 15,\n",
       "        22,  7, 21,  7,  5, 22, 17,  7, 17, 15, 16,  5, 15, 17, 15, 22, 16, 11,\n",
       "        17, 15, 17, 17, 16, 24, 10, 17, 11, 15, 17,  5, 15, 24, 17,  7,  5, 25,\n",
       "        15, 24,  7, 17,  1, 11, 17,  4, 17, 17,  5, 17,  5, 21, 25, 21, 24, 21,\n",
       "        17,  5, 16, 17, 17,  5, 17, 17, 10, 21, 16, 11,  1, 21, 21,  5, 15, 17,\n",
       "        15, 17, 21,  5, 25, 21,  7, 17, 25,  7,  1,  1, 21, 17, 17, 17, 25,  7,\n",
       "        17, 23, 21, 17, 15, 15, 20, 21, 22, 25,  5,  7,  5, 15,  2, 24, 24,  7,\n",
       "        11,  1, 10, 17, 10, 17, 25, 21, 25, 15, 16,  1, 24, 17, 15, 17, 24, 17,\n",
       "        24,  1, 15, 24, 15, 16,  2, 24, 25,  5, 17, 17, 21, 11,  5,  5, 17, 25,\n",
       "        15, 11, 17,  7,  5, 25, 11])"
      ]
     },
     "execution_count": 21,
     "metadata": {},
     "output_type": "execute_result"
    }
   ],
   "source": [
    "pred_train"
   ]
  },
  {
   "cell_type": "code",
   "execution_count": 22,
   "id": "d5ecd6ad",
   "metadata": {},
   "outputs": [],
   "source": [
    "from sklearn.metrics import classification_report\n",
    "from sklearn.metrics import confusion_matrix, ConfusionMatrixDisplay"
   ]
  },
  {
   "cell_type": "code",
   "execution_count": 23,
   "id": "1be44ea2",
   "metadata": {},
   "outputs": [
    {
     "name": "stderr",
     "output_type": "stream",
     "text": [
      "/storage/brno2/home/xstary1/brno6/.local-adv.SIF/lib/python3.8/site-packages/sklearn/metrics/_classification.py:2148: UserWarning: labels size, 25, does not match size of target_names, 26\n",
      "  warnings.warn(\n",
      "/storage/brno2/home/xstary1/brno6/.local-adv.SIF/lib/python3.8/site-packages/sklearn/metrics/_classification.py:1334: UndefinedMetricWarning: Precision and F-score are ill-defined and being set to 0.0 in labels with no predicted samples. Use `zero_division` parameter to control this behavior.\n",
      "  _warn_prf(average, modifier, msg_start, len(result))\n",
      "/storage/brno2/home/xstary1/brno6/.local-adv.SIF/lib/python3.8/site-packages/sklearn/metrics/_classification.py:1334: UndefinedMetricWarning: Recall and F-score are ill-defined and being set to 0.0 in labels with no true samples. Use `zero_division` parameter to control this behavior.\n",
      "  _warn_prf(average, modifier, msg_start, len(result))\n",
      "/storage/brno2/home/xstary1/brno6/.local-adv.SIF/lib/python3.8/site-packages/sklearn/metrics/_classification.py:1334: UndefinedMetricWarning: Precision and F-score are ill-defined and being set to 0.0 in labels with no predicted samples. Use `zero_division` parameter to control this behavior.\n",
      "  _warn_prf(average, modifier, msg_start, len(result))\n",
      "/storage/brno2/home/xstary1/brno6/.local-adv.SIF/lib/python3.8/site-packages/sklearn/metrics/_classification.py:1334: UndefinedMetricWarning: Recall and F-score are ill-defined and being set to 0.0 in labels with no true samples. Use `zero_division` parameter to control this behavior.\n",
      "  _warn_prf(average, modifier, msg_start, len(result))\n",
      "/storage/brno2/home/xstary1/brno6/.local-adv.SIF/lib/python3.8/site-packages/sklearn/metrics/_classification.py:1334: UndefinedMetricWarning: Precision and F-score are ill-defined and being set to 0.0 in labels with no predicted samples. Use `zero_division` parameter to control this behavior.\n",
      "  _warn_prf(average, modifier, msg_start, len(result))\n",
      "/storage/brno2/home/xstary1/brno6/.local-adv.SIF/lib/python3.8/site-packages/sklearn/metrics/_classification.py:1334: UndefinedMetricWarning: Recall and F-score are ill-defined and being set to 0.0 in labels with no true samples. Use `zero_division` parameter to control this behavior.\n",
      "  _warn_prf(average, modifier, msg_start, len(result))\n"
     ]
    },
    {
     "name": "stdout",
     "output_type": "stream",
     "text": [
      "Summary on TRAIN set:\n",
      "\n",
      "                                       precision    recall  f1-score   support\n",
      "\n",
      "            access to self-employment       0.00      0.00      0.00         8\n",
      "             biometric identification       0.30      0.32      0.31        19\n",
      "            border control management       1.00      0.11      0.19        19\n",
      "             categorisation of people       0.00      0.00      0.00        14\n",
      "                     counting ballets       0.86      0.24      0.38        25\n",
      "                       counting votes       0.16      0.52      0.24        23\n",
      "                       credit scoring       0.00      0.00      0.00        18\n",
      "   decision process in law facilities       0.10      0.15      0.12        20\n",
      "                 democratic processes       0.00      0.00      0.00        19\n",
      "            education test evaluation       0.00      0.00      0.00        23\n",
      "       help with asylum legal process       0.50      0.15      0.23        27\n",
      "    help with migration legal process       0.29      0.43      0.34        23\n",
      "                            high-risk       0.00      0.00      0.00         0\n",
      "             human resources services       0.00      0.00      0.00        19\n",
      "           legal documents generation       0.00      0.00      0.00        20\n",
      "                             low-risk       0.22      0.75      0.34        16\n",
      "    manage access from the government       0.13      0.18      0.15        17\n",
      "        manage access to public goods       0.07      0.47      0.12        17\n",
      "              manage access to venues       0.00      0.00      0.00        19\n",
      "management of critical infrastructure       0.00      0.00      0.00        19\n",
      " operation of critical infrastructure       0.33      0.04      0.06        28\n",
      "                      police suspects       0.24      0.36      0.29        25\n",
      "           vocational test evaluation       0.11      0.09      0.10        22\n",
      "    work evaluationworkers management       0.33      0.11      0.16        19\n",
      "                      work management       0.07      0.20      0.11        10\n",
      "\n",
      "                            micro avg       0.18      0.17      0.18       469\n",
      "                            macro avg       0.19      0.16      0.13       469\n",
      "                         weighted avg       0.22      0.17      0.14       469\n",
      "\n",
      "[[ 0  0  0  0  0  1  0  1  0  0  0  3  0  0  0  0  1  0  0  0  1  1  0  0\n",
      "   0]\n",
      " [ 0  6  0  0  0  3  0  1  0  0  0  0  0  0  4  1  4  0  0  0  0  0  0  0\n",
      "   0]\n",
      " [ 0  0  2  0  0 10  0  0  0  0  0  0  0  0  1  0  1  0  0  0  2  0  0  1\n",
      "   2]\n",
      " [ 0  0  0  0  0  0  0  3  0  0  0  0  0  0  2  2  3  0  0  2  0  1  0  1\n",
      "   0]\n",
      " [ 0  0  0  1  6  5  0  0  0  0  0  4  0  0  3  0  2  0  0  0  0  2  0  2\n",
      "   0]\n",
      " [ 0  0  0  0  0 12  0  0  0  0  0  3  0  0  0  3  4  0  0  0  0  0  0  1\n",
      "   0]\n",
      " [ 0  1  0  0  0  0  0  2  0  0  2  1  0  0  0  1  7  0  0  0  0  2  0  0\n",
      "   2]\n",
      " [ 0  0  0  0  0  7  0  3  0  0  0  0  0  0  8  0  1  0  0  0  0  1  0  0\n",
      "   0]\n",
      " [ 0  0  0  0  0  0  0  0  0  0  0  5  0  0  2  0  7  0  0  0  0  3  0  1\n",
      "   1]\n",
      " [ 0  0  0  0  1  5  0  4  0  0  0  0  0  0  3  0  4  0  0  0  2  0  0  4\n",
      "   0]\n",
      " [ 0  0  0  1  0  8  0  1  0  0  4  1  0  0  0  4  4  0  0  0  3  0  0  0\n",
      "   1]\n",
      " [ 0  0  0  0  0  4  0  1  0  0  0 10  0  0  0  0  2  0  0  0  1  1  2  0\n",
      "   2]\n",
      " [ 0  0  0  0  0  0  0  3  0  0  0  0  0  1  4  0  3  0  0  0  4  1  0  1\n",
      "   2]\n",
      " [ 0  0  0  0  0  3  0  3  0  0  0  1  0  0  0  0  6  0  0  0  3  2  0  2\n",
      "   0]\n",
      " [ 0  0  0  0  0  1  0  0  0  0  0  0  0  0 12  0  2  0  0  0  0  0  0  1\n",
      "   0]\n",
      " [ 0  0  0  0  0  0  0  0  0  0  0  3  0  0  1  3  4  0  1  0  3  1  0  1\n",
      "   0]\n",
      " [ 0  2  0  0  0  1  0  0  0  0  0  0  0  0  0  0  8  0  3  0  3  0  0  0\n",
      "   0]\n",
      " [ 0  0  0  0  0  5  0  0  0  0  0  0  0  0  1  2  6  0  0  0  0  0  0  4\n",
      "   1]\n",
      " [ 0  1  0  0  0  0  0  0  0  0  0  0  0  0  2  1  7  0  0  0  2  0  2  1\n",
      "   3]\n",
      " [ 0  0  0  0  0  3  0  4  0  0  0  0  0  0  4  1  4  0  0  1  4  0  0  3\n",
      "   4]\n",
      " [ 0  3  0  0  0  0  0  0  0  0  0  0  0  0  4  0  8  0  0  0  9  1  0  0\n",
      "   0]\n",
      " [ 0  1  0  0  0  4  0  0  0  0  2  3  0  0  0  2  6  0  0  0  0  2  0  0\n",
      "   2]\n",
      " [ 0  1  0  0  0  1  0  2  0  0  0  1  0  0  0  0  8  0  0  0  1  0  2  2\n",
      "   1]\n",
      " [ 0  0  0  0  0  1  0  1  0  0  0  0  0  0  3  1  2  0  0  0  0  0  0  2\n",
      "   0]\n",
      " [ 0  5  0  0  0  1  0  0  0  0  0  0  0  0  0  2 10  0  0  0  0  0  0  0\n",
      "   6]]\n"
     ]
    },
    {
     "data": {
      "image/png": "[encoded data removed]",
      "text/plain": [
       "<Figure size 1440x1440 with 2 Axes>"
      ]
     },
     "metadata": {
      "needs_background": "light"
     },
     "output_type": "display_data"
    },
    {
     "name": "stdout",
     "output_type": "stream",
     "text": [
      "*****************************************************\n",
      "\n",
      "Summary on TEST set:\n",
      "\n",
      "                                       precision    recall  f1-score   support\n",
      "\n",
      "            access to self-employment       0.00      0.00      0.00         0\n",
      "             biometric identification       0.00      0.00      0.00         0\n",
      "            border control management       0.00      0.00      0.00         0\n",
      "             categorisation of people       0.00      0.00      0.00         0\n",
      "                     counting ballets       0.00      0.00      0.00         0\n",
      "                       counting votes       0.00      0.00      0.00         0\n",
      "                       credit scoring       0.00      0.00      0.00         0\n",
      "   decision process in law facilities       0.00      0.00      0.00         0\n",
      "                 democratic processes       0.00      0.00      0.00         0\n",
      "            education test evaluation       0.00      0.00      0.00         0\n",
      "       help with asylum legal process       0.00      0.00      0.00         0\n",
      "    help with migration legal process       0.00      0.00      0.00         0\n",
      "                            high-risk       0.00      0.00      0.00        14\n",
      "             human resources services       0.00      0.00      0.00         0\n",
      "           legal documents generation       0.00      0.00      0.00         0\n",
      "                             low-risk       0.58      0.82      0.68        17\n",
      "    manage access from the government       0.00      0.00      0.00         0\n",
      "        manage access to public goods       0.00      0.00      0.00         0\n",
      "              manage access to venues       0.00      0.00      0.00         0\n",
      "management of critical infrastructure       0.00      0.00      0.00         0\n",
      " operation of critical infrastructure       0.00      0.00      0.00         0\n",
      "                      police suspects       0.00      0.00      0.00         0\n",
      "           vocational test evaluation       0.00      0.00      0.00         0\n",
      "    work evaluationworkers management       0.00      0.00      0.00         0\n",
      "                      work management       0.00      0.00      0.00         0\n",
      "\n",
      "                            micro avg       0.45      0.45      0.45        31\n",
      "                            macro avg       0.02      0.03      0.03        31\n",
      "                         weighted avg       0.32      0.45      0.37        31\n",
      "\n",
      "[[ 0  0  0  0  0  0]\n",
      " [ 0  0  0  0  0  0]\n",
      " [ 1  0  0 10  2  1]\n",
      " [ 0  1  0 14  2  0]\n",
      " [ 0  0  0  0  0  0]\n",
      " [ 0  0  0  0  0  0]]\n"
     ]
    },
    {
     "name": "stderr",
     "output_type": "stream",
     "text": [
      "/storage/brno2/home/xstary1/brno6/.local-adv.SIF/lib/python3.8/site-packages/sklearn/metrics/_classification.py:2148: UserWarning: labels size, 25, does not match size of target_names, 26\n",
      "  warnings.warn(\n",
      "/storage/brno2/home/xstary1/brno6/.local-adv.SIF/lib/python3.8/site-packages/sklearn/metrics/_classification.py:1334: UndefinedMetricWarning: Precision and F-score are ill-defined and being set to 0.0 in labels with no predicted samples. Use `zero_division` parameter to control this behavior.\n",
      "  _warn_prf(average, modifier, msg_start, len(result))\n",
      "/storage/brno2/home/xstary1/brno6/.local-adv.SIF/lib/python3.8/site-packages/sklearn/metrics/_classification.py:1334: UndefinedMetricWarning: Recall and F-score are ill-defined and being set to 0.0 in labels with no true samples. Use `zero_division` parameter to control this behavior.\n",
      "  _warn_prf(average, modifier, msg_start, len(result))\n",
      "/storage/brno2/home/xstary1/brno6/.local-adv.SIF/lib/python3.8/site-packages/sklearn/metrics/_classification.py:1334: UndefinedMetricWarning: Precision and F-score are ill-defined and being set to 0.0 in labels with no predicted samples. Use `zero_division` parameter to control this behavior.\n",
      "  _warn_prf(average, modifier, msg_start, len(result))\n",
      "/storage/brno2/home/xstary1/brno6/.local-adv.SIF/lib/python3.8/site-packages/sklearn/metrics/_classification.py:1334: UndefinedMetricWarning: Recall and F-score are ill-defined and being set to 0.0 in labels with no true samples. Use `zero_division` parameter to control this behavior.\n",
      "  _warn_prf(average, modifier, msg_start, len(result))\n",
      "/storage/brno2/home/xstary1/brno6/.local-adv.SIF/lib/python3.8/site-packages/sklearn/metrics/_classification.py:1334: UndefinedMetricWarning: Precision and F-score are ill-defined and being set to 0.0 in labels with no predicted samples. Use `zero_division` parameter to control this behavior.\n",
      "  _warn_prf(average, modifier, msg_start, len(result))\n",
      "/storage/brno2/home/xstary1/brno6/.local-adv.SIF/lib/python3.8/site-packages/sklearn/metrics/_classification.py:1334: UndefinedMetricWarning: Recall and F-score are ill-defined and being set to 0.0 in labels with no true samples. Use `zero_division` parameter to control this behavior.\n",
      "  _warn_prf(average, modifier, msg_start, len(result))\n"
     ]
    },
    {
     "data": {
      "image/png": "[encoded data removed]",
      "text/plain": [
       "<Figure size 1440x1440 with 2 Axes>"
      ]
     },
     "metadata": {
      "needs_background": "light"
     },
     "output_type": "display_data"
    },
    {
     "name": "stdout",
     "output_type": "stream",
     "text": [
      "*****************************************************\n",
      "\n"
     ]
    }
   ],
   "source": [
    "for name, pred, y in zip([\"TRAIN\", \"TEST\"], [pred_train, pred_test], [y_train, y_test]):\n",
    "    print(f\"Summary on {name} set:\")\n",
    "    print()\n",
    "    print(classification_report(y.ravel(), pred.ravel(), labels=np.arange(0,25), target_names=lb.classes_))\n",
    "    print(confusion_matrix(y.ravel(), pred.ravel()))\n",
    "    \n",
    "    fig, ax = plt.subplots(figsize=(20,20))\n",
    "    ConfusionMatrixDisplay.from_predictions(lb.inverse_transform(y.ravel()), lb.inverse_transform(pred.ravel()), labels=None, ax=ax)\n",
    "    plt.show()\n",
    "    print(\"*\"*53)\n",
    "    print()"
   ]
  },
  {
   "cell_type": "code",
   "execution_count": null,
   "id": "c80894b1",
   "metadata": {},
   "outputs": [],
   "source": []
  },
  {
   "cell_type": "code",
   "execution_count": null,
   "id": "3e6a1320",
   "metadata": {},
   "outputs": [],
   "source": []
  },
  {
   "cell_type": "code",
   "execution_count": null,
   "id": "d109eee1",
   "metadata": {},
   "outputs": [],
   "source": []
  },
  {
   "cell_type": "code",
   "execution_count": null,
   "id": "59d6a155",
   "metadata": {},
   "outputs": [],
   "source": []
  },
  {
   "cell_type": "code",
   "execution_count": null,
   "id": "d60252d8",
   "metadata": {},
   "outputs": [],
   "source": []
  }
 ],
 "metadata": {
  "kernelspec": {
   "display_name": "Python 3 (ipykernel)",
   "language": "python",
   "name": "python3"
  },
  "language_info": {
   "codemirror_mode": {
    "name": "ipython",
    "version": 3
   },
   "file_extension": ".py",
   "mimetype": "text/x-python",
   "name": "python",
   "nbconvert_exporter": "python",
   "pygments_lexer": "ipython3",
   "version": "3.8.12"
  }
 },
 "nbformat": 4,
 "nbformat_minor": 5
}
